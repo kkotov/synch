{
 "metadata": {
  "name": "",
  "signature": "sha256:9527884c667e7ef9ac88e6544a37cef7e042348054d7f9ac7216b45422c22630"
 },
 "nbformat": 3,
 "nbformat_minor": 0,
 "worksheets": [
  {
   "cells": [
    {
     "cell_type": "code",
     "collapsed": false,
     "input": [
      "import pandas as pd\n",
      "train_df = pd.read_csv(\"./sales_train.csv.gz\")\n",
      "test_df  = pd.read_csv(\"./test.csv.gz\")"
     ],
     "language": "python",
     "metadata": {},
     "outputs": [],
     "prompt_number": 3
    },
    {
     "cell_type": "code",
     "collapsed": false,
     "input": [
      "import pandas as pd\n",
      "import numpy as np\n",
      "from itertools import product\n",
      "\n",
      "# create grid of all possible shops and items remembered to be sold there\n",
      "grid = []\n",
      "for date_block_num in train_df[\"date_block_num\"].unique():\n",
      "    all_item_ids = train_df[train_df.date_block_num==date_block_num][\"item_id\"].unique()\n",
      "    all_shop_ids = train_df[train_df.date_block_num==date_block_num][\"shop_id\"].unique()\n",
      "    grid.append( np.array(list(product(*[all_item_ids, all_shop_ids, [date_block_num]]))) )\n",
      " \n",
      "grid = pd.DataFrame(np.vstack(grid), columns = [\"item_id\", \"shop_id\", \"date_block_num\"], dtype=\"int32\")\n",
      "\n",
      "agg = train_df.groupby([\"item_id\", \"shop_id\", \"date_block_num\"], as_index=False).agg({\"item_cnt_day\":\"sum\"})\n",
      "agg.columns = [\"item_id\", \"shop_id\", \"date_block_num\", \"target\"]\n",
      "\n",
      "all_data = pd.merge(grid, agg, how=\"left\", on=[\"item_id\", \"shop_id\", \"date_block_num\"]).fillna(0)\n",
      "all_data.sort_values(['date_block_num','shop_id','item_id'],inplace=True)\n",
      "\n",
      "\n",
      "# prepare 5 lags for every month\n",
      "lags = pd.DataFrame(train_df.groupby([\"shop_id\",\"item_id\",\"date_block_num\"]).item_cnt_day.sum())\n",
      "\n",
      "lag_1 = lags.reset_index(level=\"date_block_num\")\n",
      "lag_1[\"date_block_num\"] = lag_1[\"date_block_num\"] + 1\n",
      "lag_2 = lags.reset_index(level=\"date_block_num\")\n",
      "lag_2[\"date_block_num\"] = lag_2[\"date_block_num\"] + 2\n",
      "lag_3 = lags.reset_index(level=\"date_block_num\")\n",
      "lag_3[\"date_block_num\"] = lag_3[\"date_block_num\"] + 3\n",
      "lag_4 = lags.reset_index(level=\"date_block_num\")\n",
      "lag_4[\"date_block_num\"] = lag_4[\"date_block_num\"] + 4\n",
      "lag_5 = lags.reset_index(level=\"date_block_num\")\n",
      "lag_5[\"date_block_num\"] = lag_5[\"date_block_num\"] + 5\n",
      "\n",
      "lag_1.set_index('date_block_num', append=True, inplace=True)\n",
      "lag_1.columns = [\"target_lag_1\"]\n",
      "lag_2.set_index('date_block_num', append=True, inplace=True)\n",
      "lag_2.columns = [\"target_lag_2\"]\n",
      "lag_3.set_index('date_block_num', append=True, inplace=True)\n",
      "lag_3.columns = [\"target_lag_3\"]\n",
      "lag_4.set_index('date_block_num', append=True, inplace=True)\n",
      "lag_4.columns = [\"target_lag_4\"]\n",
      "lag_5.set_index('date_block_num', append=True, inplace=True)\n",
      "lag_5.columns = [\"target_lag_5\"]\n",
      "\n",
      "lags = lags.join(lag_1)\n",
      "lags = lags.join(lag_2)\n",
      "lags = lags.join(lag_3)\n",
      "lags = lags.join(lag_4)\n",
      "lags = lags.join(lag_5)\n",
      "\n",
      "all_data.set_index([\"shop_id\",\"item_id\",\"date_block_num\"], inplace=True)\n",
      "all_data = all_data.join(lags, how=\"left\")\n",
      "all_data.reset_index(inplace=True)\n",
      "\n",
      "\n",
      "# non-existing lags are set to 0 (makes little sense for the beginning)\n",
      "all_data.fillna(0, inplace=True)\n",
      "\n",
      "\n",
      "# mean encoding for items plus a single lag\n",
      "trg_means = all_data.groupby([\"item_id\",\"date_block_num\"]).target.mean()\n",
      "trg_means.name = \"item_target_enc\"\n",
      "\n",
      "trg_lag_1 = trg_means.reset_index(\"date_block_num\") # this turns it into a DataFrame\n",
      "trg_lag_1[\"date_block_num\"] = trg_lag_1[\"date_block_num\"] + 1\n",
      "trg_lag_1.set_index('date_block_num', append=True, inplace=True)\n",
      "trg_lag_1.columns = [\"item_target_enc_lag_1\"]\n",
      "\n",
      "all_data = all_data.merge(trg_means.reset_index(), how=\"left\", on=[\"item_id\",\"date_block_num\"])\n",
      "all_data = all_data.merge(trg_lag_1.reset_index(), how=\"left\", on=[\"item_id\",\"date_block_num\"])\n",
      "\n",
      "\n",
      "# mean encoding for shops plus a single lag\n",
      "trg_means = all_data.groupby([\"shop_id\",\"date_block_num\"]).target.mean()\n",
      "trg_means.name = \"shop_target_enc\"\n",
      "\n",
      "trg_lag_1 = trg_means.reset_index(\"date_block_num\")\n",
      "trg_lag_1[\"date_block_num\"] = trg_lag_1[\"date_block_num\"] + 1\n",
      "trg_lag_1.set_index('date_block_num', append=True, inplace=True)\n",
      "trg_lag_1.columns = [\"shop_target_enc_lag_1\"]\n",
      "\n",
      "all_data = all_data.merge(trg_means.reset_index(), how=\"left\", on=[\"shop_id\",\"date_block_num\"])\n",
      "all_data = all_data.merge(trg_lag_1.reset_index(), how=\"left\", on=[\"shop_id\",\"date_block_num\"])\n",
      "\n",
      "\n",
      "# overal mean encoding for items and shops\n",
      "trg_means = all_data.groupby(\"item_id\").target.mean()\n",
      "all_data[\"item_target_enc_ave\"] = all_data[\"item_id\"].map(trg_means)\n",
      "trg_means = all_data.groupby(\"shop_id\").target.mean()\n",
      "all_data[\"shop_target_enc_ave\"] = all_data[\"shop_id\"].map(trg_means)\n",
      "\n",
      "\n",
      "# last recorded month\n",
      "all_data_33 = all_data[all_data.date_block_num == 33]\n",
      "all_data_33 = all_data_33.drop(['date_block_num'], axis=1)"
     ],
     "language": "python",
     "metadata": {},
     "outputs": [],
     "prompt_number": 4
    },
    {
     "cell_type": "code",
     "collapsed": false,
     "input": [
      "%macro -q __prepare_data 2"
     ],
     "language": "python",
     "metadata": {},
     "outputs": [],
     "prompt_number": 5
    },
    {
     "cell_type": "code",
     "collapsed": false,
     "input": [
      "%store __prepare_data"
     ],
     "language": "python",
     "metadata": {},
     "outputs": [
      {
       "output_type": "stream",
       "stream": "stdout",
       "text": [
        "Stored '__prepare_data' (Macro)\n"
       ]
      }
     ],
     "prompt_number": 6
    },
    {
     "cell_type": "code",
     "collapsed": false,
     "input": [
      "def prepare_submission(model, predictors, aliases, output):\n",
      "    \"\"\"A helper to prepare sumbission file\n",
      "    Args:\n",
      "        model - anything implementing predict\n",
      "        predictors - ordered list of the predictors used for the model\n",
      "        aliases - dictionary of predictors of the model and their names in data\n",
      "        output - csv file name\n",
      "    \"\"\"\n",
      "    # subset\n",
      "\n",
      "    X = all_data_33.loc[:,[aliases[colname] for colname in predictors]]\n",
      "    # rename\n",
      "    X.columns = predictors\n",
      "    # predict\n",
      "    y = model.predict(X)\n",
      "\n",
      "    all_data_33[\"item_cnt_month\"] = y\n",
      "    test = test_df.join(all_data_33.set_index([\"shop_id\",\"item_id\"]), on=[\"shop_id\",\"item_id\"]).fillna(0)\n",
      "\n",
      "    test = test.loc[:,['ID', 'item_cnt_month']]\n",
      "    test.set_index(\"ID\", inplace=True)\n",
      "    test[\"item_cnt_month\"] = test[\"item_cnt_month\"].round().astype(\"int64\")\n",
      "\n",
      "    # clip\n",
      "    test[test.item_cnt_month>20] = 20\n",
      "    # save\n",
      "    test.to_csv(output)"
     ],
     "language": "python",
     "metadata": {},
     "outputs": [],
     "prompt_number": 7
    },
    {
     "cell_type": "code",
     "collapsed": false,
     "input": [
      "%macro -q __prepare_submission 5"
     ],
     "language": "python",
     "metadata": {},
     "outputs": [],
     "prompt_number": 8
    },
    {
     "cell_type": "code",
     "collapsed": false,
     "input": [
      "%store __prepare_submission"
     ],
     "language": "python",
     "metadata": {},
     "outputs": [
      {
       "output_type": "stream",
       "stream": "stdout",
       "text": [
        "Stored '__prepare_submission' (Macro)\n"
       ]
      }
     ],
     "prompt_number": 9
    },
    {
     "cell_type": "code",
     "collapsed": false,
     "input": [
      "%store"
     ],
     "language": "python",
     "metadata": {},
     "outputs": [
      {
       "output_type": "stream",
       "stream": "stdout",
       "text": [
        "Stored variables and their in-db values:\n",
        "__prepare_data                   -> IPython.macro.Macro(u'import pandas as pd\\nimport \n",
        "__prepare_submission             -> IPython.macro.Macro(u\"get_ipython().magic(u'macro \n"
       ]
      }
     ],
     "prompt_number": 10
    },
    {
     "cell_type": "code",
     "collapsed": false,
     "input": [],
     "language": "python",
     "metadata": {},
     "outputs": [],
     "prompt_number": 10
    }
   ],
   "metadata": {}
  }
 ]
}