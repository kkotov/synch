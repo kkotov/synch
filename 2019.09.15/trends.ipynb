{
 "cells": [
  {
   "cell_type": "code",
   "execution_count": 1,
   "metadata": {},
   "outputs": [],
   "source": [
    "import pandas as pd\n",
    "import numpy as np\n",
    "\n",
    "train_df = pd.read_csv(\"../sales_train.csv.gz\")\n",
    "test_df  = pd.read_csv(\"../test.csv.gz\")\n",
    "\n",
    "categories = pd.read_csv('../item_categories.csv')\n",
    "items = pd.read_csv('../items.csv')"
   ]
  },
  {
   "cell_type": "code",
   "execution_count": 2,
   "metadata": {},
   "outputs": [],
   "source": [
    "%store -r __prepare_data"
   ]
  },
  {
   "cell_type": "code",
   "execution_count": 3,
   "metadata": {},
   "outputs": [
    {
     "name": "stdout",
     "output_type": "stream",
     "text": [
      "CPU times: user 1min 27s, sys: 41.5 s, total: 2min 9s\n",
      "Wall time: 2min 9s\n"
     ]
    }
   ],
   "source": [
    "%%time\n",
    "__prepare_data"
   ]
  },
  {
   "cell_type": "markdown",
   "metadata": {},
   "source": [
    "I saw the date filed has the month and day fields mixed up in the format for some entries, hence I reassign date using date_block_num"
   ]
  },
  {
   "cell_type": "code",
   "execution_count": 4,
   "metadata": {},
   "outputs": [],
   "source": [
    "from calendar import monthrange\n",
    "\n",
    "# January, 2013 is date_block_num==0\n",
    "timeline = pd.DataFrame({'begin_date': pd.date_range(start='2013-01-01',end='2015-11-01', freq='MS'),\n",
    "                         'date_block_num': range(35)} )\n",
    "    \n",
    "timeline['n_days'] = timeline.begin_date.apply(lambda date: monthrange(date.year,date.month)[1])"
   ]
  },
  {
   "cell_type": "markdown",
   "metadata": {},
   "source": [
    "Let us for now work with zero-suppressed dataframe of monthly sales"
   ]
  },
  {
   "cell_type": "code",
   "execution_count": 5,
   "metadata": {},
   "outputs": [],
   "source": [
    "monthly = train_df.groupby([\"item_id\",\"shop_id\",\"date_block_num\"]).item_cnt_day.sum()\n",
    "monthly = monthly.reset_index()\n",
    "monthly.columns = [\"item_id\",\"shop_id\",\"date_block_num\",\"target\"]"
   ]
  },
  {
   "cell_type": "code",
   "execution_count": 6,
   "metadata": {},
   "outputs": [
    {
     "name": "stdout",
     "output_type": "stream",
     "text": [
      "CPU times: user 588 ms, sys: 96.9 ms, total: 685 ms\n",
      "Wall time: 701 ms\n"
     ]
    },
    {
     "name": "stderr",
     "output_type": "stream",
     "text": [
      "/usr/local/lib/python3.7/site-packages/ipykernel_launcher.py:43: FutureWarning: Sorting because non-concatenation axis is not aligned. A future version\n",
      "of pandas will change to not sort by default.\n",
      "\n",
      "To accept the future behavior, pass 'sort=False'.\n",
      "\n",
      "To retain the current behavior and silence the warning, pass 'sort=True'.\n",
      "\n"
     ]
    }
   ],
   "source": [
    "%%time\n",
    "from statsmodels.tsa.seasonal import seasonal_decompose\n",
    "\n",
    "#import matplotlib.pyplot as plt\n",
    "#%matplotlib inline\n",
    "\n",
    "shop_monthly_sales = monthly.groupby([\"shop_id\",\"date_block_num\"]).target.sum().reset_index(\"shop_id\")\n",
    "\n",
    "extrapolate_shop = pd.DataFrame()\n",
    "\n",
    "for shop in shop_monthly_sales.shop_id.unique():\n",
    "\n",
    "#    print(shop)\n",
    "\n",
    "    sales = shop_monthly_sales[shop_monthly_sales.shop_id==shop]\n",
    "    sales_ts = pd.merge(timeline[0:-1], sales, how='left', on=['date_block_num'])\n",
    "\n",
    "    sales_ts = sales_ts.fillna(0)\n",
    "\n",
    "    ts = pd.Series(sales_ts.target.values, index=sales_ts[\"begin_date\"])\n",
    "    decomposition = seasonal_decompose(ts, extrapolate_trend=1, freq=12)\n",
    "\n",
    "    trend    = decomposition.trend\n",
    "    seasonal = decomposition.seasonal\n",
    "    residual = decomposition.resid\n",
    "\n",
    "#    plt.plot(trend, label='Trend')\n",
    "    extrapolate_shop = pd.concat([extrapolate_shop,\n",
    "                             pd.DataFrame({\n",
    "                                 'date_block_num':  range(34),\n",
    "                                 'shop_id':         [shop]*34,\n",
    "                                 'shop_trend':      trend.values,\n",
    "                                 'shop_seasonal':   seasonal.values,\n",
    "                                 'shop_forecast':   trend.values + seasonal.values\n",
    "                             })])\n",
    "\n",
    "prev_month = extrapolate_shop[extrapolate_shop.date_block_num==33][['shop_id','shop_trend']]\n",
    "prev_year  = extrapolate_shop[extrapolate_shop.date_block_num==(34-12)][['shop_id','shop_seasonal']]\n",
    "\n",
    "month_34 = pd.merge(prev_month, prev_year, how='inner', on=['shop_id'])\n",
    "month_34['date_block_num'] = 34\n",
    "month_34['shop_forecast'] = month_34['shop_trend'] + month_34['shop_seasonal']\n",
    "\n",
    "extrapolate_shop = pd.concat([extrapolate_shop,month_34])"
   ]
  },
  {
   "cell_type": "code",
   "execution_count": 7,
   "metadata": {},
   "outputs": [],
   "source": [
    "all_data = pd.merge(all_data, extrapolate_shop, how='left', on=['date_block_num','shop_id'])"
   ]
  },
  {
   "cell_type": "code",
   "execution_count": 8,
   "metadata": {},
   "outputs": [],
   "source": [
    "train = all_data[(all_data.date_block_num>12)&(all_data.date_block_num<34)].fillna(0)\n",
    "\n",
    "predictors += ['shop_trend', 'shop_seasonal', 'shop_forecast'] \n",
    "\n",
    "X_train = train[train.date_block_num <  33][predictors]\n",
    "X_valid = train[train.date_block_num == 33][predictors]\n",
    "y_train = train[train.date_block_num <  33].target\n",
    "y_valid = train[train.date_block_num == 33].target"
   ]
  },
  {
   "cell_type": "code",
   "execution_count": 9,
   "metadata": {},
   "outputs": [
    {
     "name": "stdout",
     "output_type": "stream",
     "text": [
      "RMSE: 0.963735\n",
      "CPU times: user 31min 17s, sys: 28.1 s, total: 31min 45s\n",
      "Wall time: 9min\n"
     ]
    }
   ],
   "source": [
    "%%time\n",
    "from sklearn.metrics import mean_squared_error\n",
    "from sklearn.ensemble import RandomForestRegressor\n",
    "\n",
    "model1 = RandomForestRegressor(n_estimators=64, max_features=3, n_jobs=4)\n",
    "model1.fit(X_train, y_train)\n",
    "ypred = model1.predict(X_valid)\n",
    "rmse = np.sqrt(mean_squared_error(y_valid, ypred))\n",
    "print(\"RMSE: %f\" % (rmse))"
   ]
  },
  {
   "cell_type": "code",
   "execution_count": 10,
   "metadata": {},
   "outputs": [
    {
     "name": "stdout",
     "output_type": "stream",
     "text": [
      "name                                              score\n",
      "total_monthly_item_sales_lag_1                0.391623\n",
      "total_monthly_shop_category_sales_lag_1       0.0849974\n",
      "total_monthly_shop_subcategory_sales_lag_1    0.0710883\n",
      "target_lag_1                                  0.0638946\n",
      "total_monthly_category_sales_lag_1            0.0418803\n",
      "target_lag_2                                  0.0413936\n",
      "total_monthly_shop_supercategory_sales_lag_1  0.0380284\n",
      "shop_forecast                                 0.0367884\n",
      "total_monthly_subcategory_sales_lag_1         0.0330769\n",
      "shop_trend                                    0.0329517\n",
      "total_monthly_shop_sales_lag_1                0.0289756\n",
      "target_lag_3                                  0.0256922\n",
      "shop_seasonal                                 0.0252852\n",
      "total_monthly_supercategory_sales_lag_1       0.0247985\n",
      "target_lag_6                                  0.0244406\n",
      "target_lag_12                                 0.0198182\n",
      "total_monthly_sales_lag_1                     0.0152675\n"
     ]
    }
   ],
   "source": [
    "from tabulate import tabulate\n",
    "headers = [\"name\", \"score\"]\n",
    "values = sorted(zip(X_valid.columns, model1.feature_importances_), key=lambda x: x[1] * -1)\n",
    "print(tabulate(values, headers, tablefmt=\"plain\"))"
   ]
  },
  {
   "cell_type": "code",
   "execution_count": null,
   "metadata": {},
   "outputs": [],
   "source": [
    "%%time\n",
    "from sklearn.ensemble import RandomForestRegressor\n",
    "full_model = RandomForestRegressor(n_estimators=64, max_features=3, n_jobs=6) #len(predictors)/2\n",
    "full_model.fit(train[predictors], train.target)"
   ]
  },
  {
   "cell_type": "code",
   "execution_count": null,
   "metadata": {},
   "outputs": [],
   "source": [
    "month_34 = all_data[all_data.date_block_num == 34].fillna(0)\n",
    "month_34['item_cnt_month'] = full_model.predict(month_34[predictors])\n",
    "test = pd.merge(test_df,month_34, on=[\"shop_id\",\"item_id\"]).fillna(0)\n",
    "\n",
    "test = test.loc[:,['ID', 'item_cnt_month']]\n",
    "test.set_index(\"ID\", inplace=True)\n",
    "test[\"item_cnt_month\"] = test[\"item_cnt_month\"].round().astype(\"int64\")\n",
    "\n",
    "test[test.item_cnt_month>20] = 20\n",
    "test.to_csv(\"shop_trends.csv\")"
   ]
  },
  {
   "cell_type": "markdown",
   "metadata": {},
   "source": [
    "Now let us do the same for items"
   ]
  },
  {
   "cell_type": "code",
   "execution_count": 19,
   "metadata": {},
   "outputs": [
    {
     "name": "stdout",
     "output_type": "stream",
     "text": [
      "CPU times: user 4min 25s, sys: 1min 35s, total: 6min\n",
      "Wall time: 6min 1s\n"
     ]
    },
    {
     "data": {
      "text/plain": [
       "(741438, 5)"
      ]
     },
     "execution_count": 19,
     "metadata": {},
     "output_type": "execute_result"
    }
   ],
   "source": [
    "%%time\n",
    "#import matplotlib.pyplot as plt\n",
    "#%matplotlib inline\n",
    "\n",
    "item_monthly_sales = monthly.groupby([\"item_id\",\"date_block_num\"]).target.sum().reset_index(\"item_id\")\n",
    "\n",
    "extrapolate_item = pd.DataFrame()\n",
    "\n",
    "for item in item_monthly_sales.item_id.unique():\n",
    "\n",
    "#    print(item)\n",
    "    \n",
    "    sales = item_monthly_sales[item_monthly_sales.item_id==item]\n",
    "    sales_ts = pd.merge(timeline[0:-1], sales, how='left', on=['date_block_num'])\n",
    "\n",
    "    sales_ts = sales_ts.fillna(0)\n",
    "\n",
    "    ts = pd.Series(sales_ts.target.values, index=sales_ts[\"begin_date\"])\n",
    "    decomposition = seasonal_decompose(ts, extrapolate_trend=1, freq=12)\n",
    "\n",
    "    trend    = decomposition.trend\n",
    "    seasonal = decomposition.seasonal\n",
    "    residual = decomposition.resid\n",
    "\n",
    "#    plt.plot(trend, label='Trend')\n",
    "    extrapolate_item = pd.concat([extrapolate_item,\n",
    "                             pd.DataFrame({\n",
    "                                 'date_block_num':  range(34),\n",
    "                                 'item_id':         [item]*34,\n",
    "                                 'item_trend':      trend.values,\n",
    "                                 'item_seasonal':   seasonal.values,\n",
    "                                 'item_forecast':   trend.values + seasonal.values\n",
    "                             })])\n",
    "\n",
    "prev_month = extrapolate_item[extrapolate_item.date_block_num==33][['item_id','item_trend']]\n",
    "prev_year  = extrapolate_item[extrapolate_item.date_block_num==(34-12)][['item_id','item_seasonal']]\n",
    "\n",
    "month_34 = pd.merge(prev_month, prev_year, how='inner', on=['item_id'])\n",
    "month_34['date_block_num'] = 34\n",
    "month_34['item_forecast'] = month_34['item_trend'] + month_34['item_seasonal']\n",
    "\n",
    "extrapolate_item = pd.concat([extrapolate_item,month_34])\n",
    "extrapolate_item.shape"
   ]
  },
  {
   "cell_type": "code",
   "execution_count": 23,
   "metadata": {},
   "outputs": [
    {
     "data": {
      "text/plain": [
       "1410"
      ]
     },
     "execution_count": 23,
     "metadata": {},
     "output_type": "execute_result"
    }
   ],
   "source": [
    "import gc\n",
    "del month_34\n",
    "gc.collect()"
   ]
  },
  {
   "cell_type": "code",
   "execution_count": 26,
   "metadata": {},
   "outputs": [
    {
     "name": "stdout",
     "output_type": "stream",
     "text": [
      "CPU times: user 4.76 s, sys: 7.94 s, total: 12.7 s\n",
      "Wall time: 14 s\n"
     ]
    }
   ],
   "source": [
    "all_data = pd.merge(all_data, extrapolate_item, how='left', on=['date_block_num','item_id'])"
   ]
  },
  {
   "cell_type": "code",
   "execution_count": 27,
   "metadata": {},
   "outputs": [],
   "source": [
    "train = all_data[(all_data.date_block_num>12)&(all_data.date_block_num<34)].fillna(0)\n",
    "\n",
    "predictors += ['item_trend', 'item_seasonal', 'item_forecast'] \n",
    "\n",
    "X_train = train[train.date_block_num <  33][predictors]\n",
    "X_valid = train[train.date_block_num == 33][predictors]\n",
    "y_train = train[train.date_block_num <  33].target\n",
    "y_valid = train[train.date_block_num == 33].target"
   ]
  },
  {
   "cell_type": "code",
   "execution_count": 32,
   "metadata": {},
   "outputs": [
    {
     "name": "stdout",
     "output_type": "stream",
     "text": [
      "RMSE: 0.941626\n",
      "CPU times: user 9.15 s, sys: 9.35 s, total: 18.5 s\n",
      "Wall time: 7.02 s\n"
     ]
    }
   ],
   "source": [
    "%%time\n",
    "from sklearn.ensemble import RandomForestRegressor\n",
    "from sklearn.metrics import mean_squared_error\n",
    "model2 = RandomForestRegressor(n_estimators=64, max_features=4, n_jobs=4)\n",
    "model2.fit(X_train, y_train)\n",
    "ypred = model2.predict(X_valid)\n",
    "rmse = np.sqrt(mean_squared_error(y_valid, ypred))\n",
    "print(\"RMSE: %f\" % (rmse))"
   ]
  },
  {
   "cell_type": "code",
   "execution_count": 30,
   "metadata": {},
   "outputs": [
    {
     "name": "stdout",
     "output_type": "stream",
     "text": [
      "CPU times: user 53min 45s, sys: 29.1 s, total: 54min 15s\n",
      "Wall time: 14min 14s\n"
     ]
    },
    {
     "data": {
      "text/plain": [
       "RandomForestRegressor(bootstrap=True, criterion='mse', max_depth=None,\n",
       "                      max_features=4, max_leaf_nodes=None,\n",
       "                      min_impurity_decrease=0.0, min_impurity_split=None,\n",
       "                      min_samples_leaf=1, min_samples_split=2,\n",
       "                      min_weight_fraction_leaf=0.0, n_estimators=64, n_jobs=6,\n",
       "                      oob_score=False, random_state=None, verbose=0,\n",
       "                      warm_start=False)"
      ]
     },
     "execution_count": 30,
     "metadata": {},
     "output_type": "execute_result"
    }
   ],
   "source": [
    "%%time\n",
    "from sklearn.ensemble import RandomForestRegressor\n",
    "full_model2 = RandomForestRegressor(n_estimators=64, max_features=4, n_jobs=6) #len(predictors)/2\n",
    "full_model2.fit(train[predictors], train.target)"
   ]
  },
  {
   "cell_type": "code",
   "execution_count": 31,
   "metadata": {},
   "outputs": [],
   "source": [
    "month_34 = all_data[all_data.date_block_num == 34].fillna(0)\n",
    "month_34['item_cnt_month'] = full_model2.predict(month_34[predictors])\n",
    "test = pd.merge(test_df, month_34, on=[\"shop_id\",\"item_id\"]).fillna(0)\n",
    "\n",
    "test = test.loc[:,['ID', 'item_cnt_month']]\n",
    "test.set_index(\"ID\", inplace=True)\n",
    "test[\"item_cnt_month\"] = test[\"item_cnt_month\"].round().astype(\"int64\")\n",
    "\n",
    "test[test.item_cnt_month>20] = 20\n",
    "test.to_csv(\"shop_item_trends.csv\")"
   ]
  },
  {
   "cell_type": "code",
   "execution_count": null,
   "metadata": {},
   "outputs": [],
   "source": []
  }
 ],
 "metadata": {
  "kernelspec": {
   "display_name": "Python 3",
   "language": "python",
   "name": "python3"
  },
  "language_info": {
   "codemirror_mode": {
    "name": "ipython",
    "version": 3
   },
   "file_extension": ".py",
   "mimetype": "text/x-python",
   "name": "python",
   "nbconvert_exporter": "python",
   "pygments_lexer": "ipython3",
   "version": "3.7.4"
  }
 },
 "nbformat": 4,
 "nbformat_minor": 2
}
