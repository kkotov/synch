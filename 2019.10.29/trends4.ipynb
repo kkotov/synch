{
 "cells": [
  {
   "cell_type": "code",
   "execution_count": 1,
   "metadata": {},
   "outputs": [],
   "source": [
    "import pandas as pd\n",
    "import numpy as np\n",
    "\n",
    "train_df = pd.read_csv(\"../sales_train.csv.gz\")\n",
    "test_df  = pd.read_csv(\"../test.csv.gz\")\n",
    "\n",
    "categories = pd.read_csv('../item_categories.csv')\n",
    "items = pd.read_csv('../items.csv')"
   ]
  },
  {
   "cell_type": "code",
   "execution_count": 2,
   "metadata": {},
   "outputs": [],
   "source": [
    "%store -r __prepare_data"
   ]
  },
  {
   "cell_type": "code",
   "execution_count": 3,
   "metadata": {},
   "outputs": [
    {
     "name": "stdout",
     "output_type": "stream",
     "text": [
      "CPU times: user 1min 29s, sys: 38.4 s, total: 2min 8s\n",
      "Wall time: 2min 12s\n"
     ]
    }
   ],
   "source": [
    "%%time\n",
    "__prepare_data"
   ]
  },
  {
   "cell_type": "markdown",
   "metadata": {},
   "source": [
    "I saw the date filed has the month and day fields mixed up in the format for some entries, hence I reassign date using date_block_num"
   ]
  },
  {
   "cell_type": "code",
   "execution_count": 4,
   "metadata": {},
   "outputs": [],
   "source": [
    "from calendar import monthrange\n",
    "\n",
    "# January, 2013 is date_block_num==0\n",
    "timeline = pd.DataFrame({'begin_date': pd.date_range(start='2013-01-01',end='2015-11-01', freq='MS'),\n",
    "                         'date_block_num': range(35)} )\n",
    "    \n",
    "timeline['n_days'] = timeline.begin_date.apply(lambda date: monthrange(date.year,date.month)[1])"
   ]
  },
  {
   "cell_type": "markdown",
   "metadata": {},
   "source": [
    "Let us for now work with zero-suppressed dataframe of monthly sales"
   ]
  },
  {
   "cell_type": "code",
   "execution_count": 5,
   "metadata": {},
   "outputs": [],
   "source": [
    "monthly = train_df.groupby([\"item_id\",\"shop_id\",\"date_block_num\"]).item_cnt_day.sum()\n",
    "monthly = monthly.reset_index()\n",
    "monthly.columns = [\"item_id\",\"shop_id\",\"date_block_num\",\"target\"]"
   ]
  },
  {
   "cell_type": "code",
   "execution_count": 6,
   "metadata": {},
   "outputs": [
    {
     "name": "stderr",
     "output_type": "stream",
     "text": [
      "/usr/local/lib/python3.7/site-packages/pandas/plotting/_matplotlib/converter.py:102: FutureWarning: Using an implicitly registered datetime converter for a matplotlib plotting method. The converter was registered by pandas on import. Future versions of pandas will require you to explicitly register matplotlib converters.\n",
      "\n",
      "To register the converters:\n",
      "\t>>> from pandas.plotting import register_matplotlib_converters\n",
      "\t>>> register_matplotlib_converters()\n",
      "  warnings.warn(msg, FutureWarning)\n"
     ]
    },
    {
     "name": "stdout",
     "output_type": "stream",
     "text": [
      "CPU times: user 2min 7s, sys: 2.89 s, total: 2min 10s\n",
      "Wall time: 2min 16s\n"
     ]
    },
    {
     "data": {
      "image/png": "[encoded data removed]",
      "text/plain": [
       "<Figure size 432x288 with 1 Axes>"
      ]
     },
     "metadata": {
      "needs_background": "light"
     },
     "output_type": "display_data"
    }
   ],
   "source": [
    "%%time\n",
    "import matplotlib.pyplot as plt\n",
    "%matplotlib inline\n",
    "\n",
    "from statsmodels.tsa.seasonal import seasonal_decompose\n",
    "\n",
    "item_monthly_sales = monthly.groupby([\"item_id\",\"date_block_num\"]).target.sum().reset_index(\"item_id\")\n",
    "\n",
    "decomposition_item = pd.DataFrame()\n",
    "\n",
    "no_stock_items = []\n",
    "\n",
    "for item in item_monthly_sales.item_id.unique():\n",
    "    \n",
    "    sales = item_monthly_sales[item_monthly_sales.item_id==item]\n",
    "    sales_ts = pd.merge(timeline[0:-1], sales, how='left', on=['date_block_num'])\n",
    "\n",
    "    # if last X positions are not known consider the item is discontinued\n",
    "    if sum( np.isnan(sales_ts[-3:].target) ) == 3:\n",
    "        no_stock_items.append(item)\n",
    "        continue\n",
    "\n",
    "    # last months sales are present, but not enough lags for seasonal inference => ignore\n",
    "    if sum(~ np.isnan(sales_ts.target)) <= 12:\n",
    "        no_stock_items.append(item)\n",
    "        continue\n",
    "\n",
    "    # do the best with the rest\n",
    "    if any(np.isnan(sales_ts.target)):\n",
    "        start = min( np.where(~ np.isnan(sales_ts.target))[0] )\n",
    "        end   = max( np.where(~ np.isnan(sales_ts.target))[0] )\n",
    "        sales_ts = sales_ts[start:]\n",
    "\n",
    "    # at this point last observations are not zeros, let's bridge the gaps\n",
    "    sales_ts.target = sales_ts.target.fillna(0) #interpolate()\n",
    "    # last missing values (if any) are automatically imputed with their lags above\n",
    "\n",
    "    ts = pd.Series(sales_ts.target.values, index=sales_ts[\"begin_date\"])\n",
    "\n",
    "    if any( ts.isnull() ):\n",
    "        print(\"Problem\")\n",
    "        break\n",
    "\n",
    "    decomposition = seasonal_decompose(ts, extrapolate_trend=1, freq=12)\n",
    "\n",
    "    trend    = decomposition.trend\n",
    "    seasonal = decomposition.seasonal\n",
    "    residual = decomposition.resid\n",
    "    \n",
    "    if item%500 == 0:\n",
    "        plt.plot(trend, label='Trend')\n",
    "\n",
    "    decomposition_item = pd.concat([decomposition_item,\n",
    "                             pd.DataFrame({\n",
    "                                 'date_block_num':  sales_ts.date_block_num,\n",
    "                                 'item_id':         [item]*len(ts),\n",
    "                                 'item_trend':      trend.values,\n",
    "                                 'item_seasonal':   seasonal.values,\n",
    "                                 'item_forecast':   trend.values + seasonal.values\n",
    "                             })])\n"
   ]
  },
  {
   "cell_type": "code",
   "execution_count": 7,
   "metadata": {},
   "outputs": [],
   "source": [
    "extrapolate = lambda x: np.poly1d( np.polyfit([1,2,3], [x.iloc[-3],x.iloc[-2],x.iloc[-1]], 1) )(4)\n",
    "#extrapolate.__name__ = \"shop_trend\"\n",
    "\n",
    "trend_34 = decomposition_item.groupby([\"item_id\"]).agg({\"item_trend\": [extrapolate]})\n",
    "trend_34.columns = [\"item_trend\"]\n",
    "trend_34.reset_index()\n",
    "\n",
    "seasonal_22 = decomposition_item[decomposition_item.date_block_num==(34-12)][['item_id','item_seasonal']]\n",
    "\n",
    "forecast_34 = pd.merge(trend_34, seasonal_22, how='inner', on=['item_id'])\n",
    "forecast_34['date_block_num'] = 34\n",
    "forecast_34['item_forecast'] = forecast_34['item_trend'] + forecast_34['item_seasonal']\n",
    "\n",
    "decomposition_item = pd.concat([decomposition_item, forecast_34], sort=True, ignore_index=True)"
   ]
  },
  {
   "cell_type": "code",
   "execution_count": 56,
   "metadata": {},
   "outputs": [],
   "source": [
    "last3_nan = lambda x: sum(np.isnan(x[-3:])) == 3\n",
    "\n",
    "items = pd.DataFrame({'item_id': item_monthly_sales.item_id.unique()})\n",
    "items['dup_key'] = 1\n",
    "\n",
    "dates = pd.DataFrame({'date_block_num': range(34)})\n",
    "dates['dup_key'] = 1\n",
    "\n",
    "scaffold = pd.merge(items, dates, how='outer', on=['dup_key'])[['item_id','date_block_num']]\n",
    "\n",
    "gapless_sales = pd.merge(scaffold, item_monthly_sales, how='left', on=['item_id','date_block_num'])\n",
    "\n",
    "discontinued_items = gapless_sales.groupby([\"item_id\"]).agg({\"target\": [last3_nan]})\n",
    "\n",
    "discontinued_items = (discontinued_items\n",
    "                      .iloc[np.where(discontinued_items.iloc[:,0])]\n",
    "                      .reset_index()\n",
    "                      .item_id\n",
    "                      .tolist())"
   ]
  },
  {
   "cell_type": "code",
   "execution_count": 57,
   "metadata": {},
   "outputs": [
    {
     "name": "stdout",
     "output_type": "stream",
     "text": [
      "14621\n",
      "18252\n"
     ]
    },
    {
     "data": {
      "text/plain": [
       "3631"
      ]
     },
     "execution_count": 57,
     "metadata": {},
     "output_type": "execute_result"
    }
   ],
   "source": [
    "print(len(discontinued_items))\n",
    "\n",
    "print(len(no_stock_items))\n",
    "\n",
    "len( set(no_stock_items).difference(set(discontinued_items)) )"
   ]
  },
  {
   "cell_type": "markdown",
   "metadata": {},
   "source": [
    "##########################################"
   ]
  },
  {
   "cell_type": "code",
   "execution_count": 60,
   "metadata": {},
   "outputs": [],
   "source": [
    "# do learning only for shops in stock\n",
    "all_good_data = pd.merge(all_data, decomposition_item, how='right', on=['date_block_num','item_id'])\n",
    "train = all_good_data[~ all_good_data.shop_id.isin(no_stock_items) ]\n",
    "train = train[(train.date_block_num>12)&(train.date_block_num<34)].fillna(0)\n",
    "\n",
    "predictors = predictors + ['item_trend', 'item_seasonal', 'item_forecast'] \n",
    "\n",
    "X_train = train[train.date_block_num <  33][predictors]\n",
    "X_valid = train[train.date_block_num == 33][predictors]\n",
    "y_train = train[train.date_block_num <  33].target\n",
    "y_valid = train[train.date_block_num == 33].target"
   ]
  },
  {
   "cell_type": "code",
   "execution_count": 68,
   "metadata": {},
   "outputs": [
    {
     "name": "stdout",
     "output_type": "stream",
     "text": [
      "13\n",
      "3555\n",
      "3555\n"
     ]
    }
   ],
   "source": [
    "print( len(train.shop_id.unique()) ) #!!! closed shops don't sell items -> correlation !!!\n",
    "\n",
    "print( len(all_good_data.item_id.unique()) )\n",
    "\n",
    "print( len(train.item_id.unique()) )"
   ]
  },
  {
   "cell_type": "code",
   "execution_count": 65,
   "metadata": {},
   "outputs": [
    {
     "name": "stdout",
     "output_type": "stream",
     "text": [
      "CPU times: user 3min 54s, sys: 3.07 s, total: 3min 57s\n",
      "Wall time: 1min 6s\n"
     ]
    },
    {
     "data": {
      "text/plain": [
       "RandomForestRegressor(bootstrap=True, criterion='mse', max_depth=None,\n",
       "                      max_features=4, max_leaf_nodes=None,\n",
       "                      min_impurity_decrease=0.0, min_impurity_split=None,\n",
       "                      min_samples_leaf=1, min_samples_split=2,\n",
       "                      min_weight_fraction_leaf=0.0, n_estimators=64, n_jobs=4,\n",
       "                      oob_score=False, random_state=None, verbose=0,\n",
       "                      warm_start=False)"
      ]
     },
     "execution_count": 65,
     "metadata": {},
     "output_type": "execute_result"
    }
   ],
   "source": [
    "%%time\n",
    "from sklearn.ensemble import RandomForestRegressor\n",
    "\n",
    "model = RandomForestRegressor(n_estimators=64, max_features=4, n_jobs=4)\n",
    "model.fit(X_train, y_train)"
   ]
  },
  {
   "cell_type": "code",
   "execution_count": 66,
   "metadata": {},
   "outputs": [
    {
     "name": "stdout",
     "output_type": "stream",
     "text": [
      "RMSE good: 0.776881\n",
      "Average: 0.36933794473509574\n"
     ]
    }
   ],
   "source": [
    "from sklearn.metrics import mean_squared_error\n",
    "\n",
    "ypred = model.predict(X_valid)\n",
    "rmse = np.sqrt(mean_squared_error(y_valid, ypred))\n",
    "print(\"RMSE good: %f\" % (rmse))\n",
    "print(\"Average: {0}\".format(np.mean(ypred)))"
   ]
  },
  {
   "cell_type": "code",
   "execution_count": 67,
   "metadata": {},
   "outputs": [
    {
     "name": "stdout",
     "output_type": "stream",
     "text": [
      "CPU times: user 4min 12s, sys: 3.82 s, total: 4min 15s\n",
      "Wall time: 1min 15s\n"
     ]
    },
    {
     "data": {
      "text/plain": [
       "RandomForestRegressor(bootstrap=True, criterion='mse', max_depth=None,\n",
       "                      max_features=4, max_leaf_nodes=None,\n",
       "                      min_impurity_decrease=0.0, min_impurity_split=None,\n",
       "                      min_samples_leaf=1, min_samples_split=2,\n",
       "                      min_weight_fraction_leaf=0.0, n_estimators=64, n_jobs=6,\n",
       "                      oob_score=False, random_state=None, verbose=0,\n",
       "                      warm_start=False)"
      ]
     },
     "execution_count": 67,
     "metadata": {},
     "output_type": "execute_result"
    }
   ],
   "source": [
    "%%time\n",
    "from sklearn.ensemble import RandomForestRegressor\n",
    "full_model = RandomForestRegressor(n_estimators=64, max_features=4, n_jobs=6)\n",
    "full_model.fit(train[predictors], train.target)"
   ]
  },
  {
   "cell_type": "code",
   "execution_count": 73,
   "metadata": {},
   "outputs": [],
   "source": [
    "# combine\n",
    "month_34_good = all_good_data[all_good_data.date_block_num == 34].fillna(0)\n",
    "month_34_good['item_cnt_month'] = full_model.predict(month_34_good[predictors])\n",
    "\n",
    "# automatically set 0 for \"bad\" items\n",
    "test = pd.merge(test_df, month_34_good, how=\"left\", on=[\"shop_id\",\"item_id\"]).fillna(0)\n",
    "\n",
    "test = test.loc[:,['ID', 'item_cnt_month']]\n",
    "test.set_index(\"ID\", inplace=True)\n",
    "test[\"item_cnt_month\"] = test[\"item_cnt_month\"].round().astype(\"int64\")\n",
    "\n",
    "test[test.item_cnt_month>20] = 20\n",
    "test.to_csv(\"item_trends.csv\")"
   ]
  },
  {
   "cell_type": "code",
   "execution_count": 74,
   "metadata": {},
   "outputs": [
    {
     "data": {
      "text/plain": [
       "(214200, 1)"
      ]
     },
     "execution_count": 74,
     "metadata": {},
     "output_type": "execute_result"
    }
   ],
   "source": [
    "test.shape"
   ]
  },
  {
   "cell_type": "code",
   "execution_count": null,
   "metadata": {},
   "outputs": [],
   "source": [
    "# public score is 1.18276 even worse than -1 lag prediction! WTF?"
   ]
  },
  {
   "cell_type": "code",
   "execution_count": 77,
   "metadata": {},
   "outputs": [
    {
     "data": {
      "image/png": "[encoded data removed]",
      "text/plain": [
       "<Figure size 432x288 with 1 Axes>"
      ]
     },
     "metadata": {
      "needs_background": "light"
     },
     "output_type": "display_data"
    }
   ],
   "source": [
    "plt.hist(test.item_cnt_month, bins=100, range=[0, 10], alpha=0.5)\n",
    "plt.yscale('log')\n",
    "plt.show()"
   ]
  },
  {
   "cell_type": "code",
   "execution_count": null,
   "metadata": {},
   "outputs": [],
   "source": []
  }
 ],
 "metadata": {
  "kernelspec": {
   "display_name": "Python 3",
   "language": "python",
   "name": "python3"
  },
  "language_info": {
   "codemirror_mode": {
    "name": "ipython",
    "version": 3
   },
   "file_extension": ".py",
   "mimetype": "text/x-python",
   "name": "python",
   "nbconvert_exporter": "python",
   "pygments_lexer": "ipython3",
   "version": "3.7.4"
  }
 },
 "nbformat": 4,
 "nbformat_minor": 2
}
