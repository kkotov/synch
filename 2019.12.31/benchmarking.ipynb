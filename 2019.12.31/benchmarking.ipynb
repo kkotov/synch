{
 "cells": [
  {
   "cell_type": "code",
   "execution_count": 1,
   "metadata": {},
   "outputs": [],
   "source": [
    "import pandas as pd\n",
    "import numpy as np\n",
    "\n",
    "import matplotlib.pyplot as plt\n",
    "%matplotlib inline\n",
    "\n",
    "# Load data\n",
    "train_df = pd.read_csv(\"../sales_train.csv.gz\")\n",
    "test_df  = pd.read_csv(\"../test.csv.gz\")\n",
    "\n",
    "categories = pd.read_csv('../item_categories.csv')\n",
    "items = pd.read_csv('../items.csv')\n",
    "shops = pd.read_csv('../shops.csv')"
   ]
  },
  {
   "cell_type": "code",
   "execution_count": 2,
   "metadata": {},
   "outputs": [],
   "source": [
    "%store -r __prepare_data_4"
   ]
  },
  {
   "cell_type": "code",
   "execution_count": 3,
   "metadata": {},
   "outputs": [
    {
     "name": "stdout",
     "output_type": "stream",
     "text": [
      "CPU times: user 3min 8s, sys: 1min 50s, total: 4min 59s\n",
      "Wall time: 5min 15s\n"
     ]
    }
   ],
   "source": [
    "%%time\n",
    "__prepare_data_4"
   ]
  },
  {
   "cell_type": "code",
   "execution_count": 4,
   "metadata": {},
   "outputs": [
    {
     "name": "stdout",
     "output_type": "stream",
     "text": [
      "[36]\n",
      "{0, 1, 8, 9, 11, 13, 17, 20, 23, 27, 29, 30, 32, 33, 40, 43, 51, 54}\n"
     ]
    }
   ],
   "source": [
    "# based on tables from 2019.11.16/trends_combined.ipynb I choose those shops to be taken out:\n",
    "closed_shops = [0, 1, 8, 9, 11, 13, 17, 20, 23,  27,  29, 30, 32, 33,  36,  40, 43, 54]\n",
    "\n",
    "# one of those, though, needs to be predicted (#36):\n",
    "print(test_df[test_df.shop_id.isin(closed_shops)].shop_id.unique())\n",
    "\n",
    "# and one of those (#51) does not (keep it for training anyways):\n",
    "print(set(all_data.shop_id.unique()).difference(test_df.shop_id.unique()))\n",
    "\n",
    "from calendar import monthrange\n",
    "\n",
    "# January, 2013 is date_block_num==0\n",
    "timeline = pd.DataFrame({'begin_date': pd.date_range(start='2013-01-01',end='2015-11-01', freq='MS'),\n",
    "                         'date_block_num': range(35)} )\n",
    "    \n",
    "timeline['n_days'] = timeline.begin_date.apply(lambda date: monthrange(date.year,date.month)[1])\n",
    "\n",
    "timeline['workdays'] = [17, 20, 20, 22, 18, 19, 23, 22, 21, 23, 20, 22,\n",
    "                        17, 20, 20, 22, 19, 19, 23, 21, 22, 23, 18, 23,\n",
    "                        15, 19, 21, 22, 18, 21, 23, 21, 22, 22, 20]"
   ]
  },
  {
   "cell_type": "code",
   "execution_count": 5,
   "metadata": {},
   "outputs": [
    {
     "name": "stdout",
     "output_type": "stream",
     "text": [
      "Not easily forecastable are 3183 items\n"
     ]
    }
   ],
   "source": [
    "no_stock_items = []\n",
    "discontinued_items = []\n",
    "\n",
    "total_monthly_item_sales_good = (all_data[~ all_data.shop_id.isin(closed_shops)]\n",
    "                                 .groupby([\"date_block_num\", \"item_id\"]).agg({'target': [np.mean, sum]})).reset_index()\n",
    "\n",
    "total_monthly_item_sales_good.columns = [\"date_block_num\", \"item_id\", \"average_sales\", \"total_sales\"]\n",
    "\n",
    "for item in total_monthly_item_sales_good.item_id.unique():\n",
    "\n",
    "    sales = (total_monthly_item_sales_good[total_monthly_item_sales_good.item_id==item]\n",
    "             .groupby([\"date_block_num\"])\n",
    "             .agg({'average_sales': lambda x: np.NA if x.empty else x.iloc[0],\n",
    "                   'total_sales':   lambda x: np.NA if x.empty else x.iloc[0]})\n",
    "             .reset_index())\n",
    "\n",
    "    if not len(sales.index):\n",
    "        continue\n",
    "\n",
    "    sales = pd.merge(sales[[\"average_sales\", \"total_sales\", \"date_block_num\"]],\n",
    "                     timeline,\n",
    "                     how='right',\n",
    "                     on=['date_block_num']).sort_values(by=['date_block_num'])\n",
    "\n",
    "    start = sales.iloc[min( np.where(~ np.isnan(sales.average_sales))[0] ),].date_block_num\n",
    "    end   = sales.iloc[max( np.where(~ np.isnan(sales.average_sales))[0] ),].date_block_num\n",
    "#    print(\"start: %d, end: %d\" % (start,end))\n",
    "\n",
    "    # last months sales are present, but not enough lags for seasonal inference => ignore\n",
    "    if start+12 >= end:\n",
    "        no_stock_items.append(item)\n",
    "        continue\n",
    "\n",
    "    # there should be sales in last month, otherwise consider it is discontinued\n",
    "    if end < 33:\n",
    "        discontinued_items.append(item)\n",
    "        continue\n",
    "        \n",
    "    # at least last 3 month with sales should be present\n",
    "    if sum(~ np.isnan(sales.average_sales[-3:])) < 3:\n",
    "        no_stock_items.append(item)\n",
    "        continue\n",
    "\n",
    "other_items = set(test_df.item_id.unique()).intersection(set(no_stock_items))\n",
    "print(\"Not easily forecastable are %d items\" % len(other_items))"
   ]
  },
  {
   "cell_type": "code",
   "execution_count": 142,
   "metadata": {},
   "outputs": [],
   "source": [
    "#the line below proves that every shop is tested on the same number of items:\n",
    "#test_df.groupby(['shop_id']).agg({'item_id': len})\n",
    "\n",
    "#res1 = pd.read_csv(\"../2019.12.28/two_components_one_seasonal_123.csv\")\n",
    "#res2 = pd.read_csv(\"../2019.12.28/_no_seasonal_predictors_ref_123.csv\")\n",
    "res1 = pd.read_csv(\"../macro4_123.csv\")\n",
    "#res2 = pd.read_csv(\"../2019.12.28/similar2_macro4_123.csv\")\n",
    "res2 = pd.read_csv(\"../2019.12.31/macro4_123_allshops_s0.8.csv\")\n",
    "\n",
    "res1 = pd.merge(res1, test_df, how='left', on=['ID'])\n",
    "res2 = pd.merge(res2, test_df, how='left', on=['ID'])\n",
    "\n",
    "res = pd.merge(res1, res2, how='inner', on=['ID', 'shop_id', 'item_id', 'date_block_num'])"
   ]
  },
  {
   "cell_type": "code",
   "execution_count": 143,
   "metadata": {},
   "outputs": [
    {
     "data": {
      "image/png": "[encoded data removed]",
      "text/plain": [
       "<Figure size 432x288 with 1 Axes>"
      ]
     },
     "metadata": {
      "needs_background": "light"
     },
     "output_type": "display_data"
    }
   ],
   "source": [
    "other = res[res.item_id.isin(other_items) & (res.shop_id!=36)]\n",
    "plt.hist(other.item_cnt_month_x-other.item_cnt_month_y, bins=100, range=[-15, 15], alpha=0.5)\n",
    "plt.yscale('log')\n",
    "plt.show()"
   ]
  },
  {
   "cell_type": "code",
   "execution_count": 16,
   "metadata": {},
   "outputs": [],
   "source": [
    "res3 = res[np.abs(res.item_cnt_month_x-res.item_cnt_month_y)<5]\n",
    "res3 = res3[['ID','item_cnt_month_y']]\n",
    "res3.columns = ['ID','item_cnt_month']\n",
    "\n",
    "res4 = res[np.abs(res.item_cnt_month_x-res.item_cnt_month_y)>=5]\n",
    "res4 = res4[['ID','item_cnt_month_x']]\n",
    "res4.columns = ['ID','item_cnt_month']\n",
    "\n",
    "pd.concat([res3,res4]).sort_values(['ID']).to_csv(\"./surrogate_gt5.csv\", index=False)"
   ]
  },
  {
   "cell_type": "code",
   "execution_count": null,
   "metadata": {},
   "outputs": [],
   "source": [
    "# clear evidence that targets >5 makes public score changing between ~0.9 and ~1.0. Is tail distorted by date #33?"
   ]
  },
  {
   "cell_type": "code",
   "execution_count": 96,
   "metadata": {},
   "outputs": [],
   "source": [
    "retain = res1[res1.item_cnt_month>5]\n",
    "test = pd.merge(test_df, retain[[\"shop_id\",\"item_id\",\"item_cnt_month\"]], how='left', on=[\"shop_id\",\"item_id\"]).fillna(0).reset_index()\n",
    "test[['ID', 'item_cnt_month']].to_csv(\"./macro4_le5eq0.csv\", index=False)"
   ]
  },
  {
   "cell_type": "code",
   "execution_count": 85,
   "metadata": {},
   "outputs": [
    {
     "data": {
      "image/png": "[encoded data removed]",
      "text/plain": [
       "<Figure size 432x288 with 1 Axes>"
      ]
     },
     "metadata": {
      "needs_background": "light"
     },
     "output_type": "display_data"
    }
   ],
   "source": [
    "plt.hist(res1[res1.shop_id==25].item_cnt_month, bins=100, range=[0, 20], alpha=0.5)\n",
    "plt.yscale('log')\n",
    "plt.show()"
   ]
  },
  {
   "cell_type": "code",
   "execution_count": 97,
   "metadata": {},
   "outputs": [
    {
     "data": {
      "text/plain": [
       "22.0"
      ]
     },
     "execution_count": 97,
     "metadata": {},
     "output_type": "execute_result"
    }
   ],
   "source": [
    "gt5sales = res1.groupby(['shop_id']).agg({'item_cnt_month': lambda x: sum(x>5)})\n",
    "np.median(gt5sales.item_cnt_month)"
   ]
  },
  {
   "cell_type": "code",
   "execution_count": 62,
   "metadata": {},
   "outputs": [],
   "source": [
    "items_to_forecast = test_df.item_id.unique()\n",
    "closed_shops = [0, 1, 8, 9, 11, 13, 17, 20, 23,  27,  29, 30, 32, 33,  36,  40, 43, 54]\n",
    "train = all_data[(all_data.date_block_num < 34)&(~all_data.shop_id.isin(closed_shops))&(all_data.item_id.isin(items_to_forecast))].fillna(0)"
   ]
  },
  {
   "cell_type": "code",
   "execution_count": 66,
   "metadata": {},
   "outputs": [
    {
     "data": {
      "text/html": [
       "<div>\n",
       "<style scoped>\n",
       "    .dataframe tbody tr th:only-of-type {\n",
       "        vertical-align: middle;\n",
       "    }\n",
       "\n",
       "    .dataframe tbody tr th {\n",
       "        vertical-align: top;\n",
       "    }\n",
       "\n",
       "    .dataframe thead th {\n",
       "        text-align: right;\n",
       "    }\n",
       "</style>\n",
       "<table border=\"1\" class=\"dataframe\">\n",
       "  <thead>\n",
       "    <tr style=\"text-align: right;\">\n",
       "      <th></th>\n",
       "      <th>target</th>\n",
       "    </tr>\n",
       "    <tr>\n",
       "      <th>shop_id</th>\n",
       "      <th></th>\n",
       "    </tr>\n",
       "  </thead>\n",
       "  <tbody>\n",
       "    <tr>\n",
       "      <th>2</th>\n",
       "      <td>4.0</td>\n",
       "    </tr>\n",
       "    <tr>\n",
       "      <th>3</th>\n",
       "      <td>5.0</td>\n",
       "    </tr>\n",
       "    <tr>\n",
       "      <th>4</th>\n",
       "      <td>3.0</td>\n",
       "    </tr>\n",
       "    <tr>\n",
       "      <th>5</th>\n",
       "      <td>5.0</td>\n",
       "    </tr>\n",
       "    <tr>\n",
       "      <th>6</th>\n",
       "      <td>11.0</td>\n",
       "    </tr>\n",
       "    <tr>\n",
       "      <th>7</th>\n",
       "      <td>11.0</td>\n",
       "    </tr>\n",
       "    <tr>\n",
       "      <th>10</th>\n",
       "      <td>2.0</td>\n",
       "    </tr>\n",
       "    <tr>\n",
       "      <th>12</th>\n",
       "      <td>13.0</td>\n",
       "    </tr>\n",
       "    <tr>\n",
       "      <th>14</th>\n",
       "      <td>6.0</td>\n",
       "    </tr>\n",
       "    <tr>\n",
       "      <th>15</th>\n",
       "      <td>12.0</td>\n",
       "    </tr>\n",
       "    <tr>\n",
       "      <th>16</th>\n",
       "      <td>7.0</td>\n",
       "    </tr>\n",
       "    <tr>\n",
       "      <th>18</th>\n",
       "      <td>9.0</td>\n",
       "    </tr>\n",
       "    <tr>\n",
       "      <th>19</th>\n",
       "      <td>11.0</td>\n",
       "    </tr>\n",
       "    <tr>\n",
       "      <th>21</th>\n",
       "      <td>11.0</td>\n",
       "    </tr>\n",
       "    <tr>\n",
       "      <th>22</th>\n",
       "      <td>14.0</td>\n",
       "    </tr>\n",
       "    <tr>\n",
       "      <th>24</th>\n",
       "      <td>11.0</td>\n",
       "    </tr>\n",
       "    <tr>\n",
       "      <th>25</th>\n",
       "      <td>75.0</td>\n",
       "    </tr>\n",
       "    <tr>\n",
       "      <th>26</th>\n",
       "      <td>13.0</td>\n",
       "    </tr>\n",
       "    <tr>\n",
       "      <th>28</th>\n",
       "      <td>22.0</td>\n",
       "    </tr>\n",
       "    <tr>\n",
       "      <th>31</th>\n",
       "      <td>61.0</td>\n",
       "    </tr>\n",
       "    <tr>\n",
       "      <th>34</th>\n",
       "      <td>3.0</td>\n",
       "    </tr>\n",
       "    <tr>\n",
       "      <th>35</th>\n",
       "      <td>6.0</td>\n",
       "    </tr>\n",
       "    <tr>\n",
       "      <th>37</th>\n",
       "      <td>7.0</td>\n",
       "    </tr>\n",
       "    <tr>\n",
       "      <th>38</th>\n",
       "      <td>9.0</td>\n",
       "    </tr>\n",
       "    <tr>\n",
       "      <th>39</th>\n",
       "      <td>9.0</td>\n",
       "    </tr>\n",
       "    <tr>\n",
       "      <th>41</th>\n",
       "      <td>3.0</td>\n",
       "    </tr>\n",
       "    <tr>\n",
       "      <th>42</th>\n",
       "      <td>45.0</td>\n",
       "    </tr>\n",
       "    <tr>\n",
       "      <th>44</th>\n",
       "      <td>5.0</td>\n",
       "    </tr>\n",
       "    <tr>\n",
       "      <th>45</th>\n",
       "      <td>4.0</td>\n",
       "    </tr>\n",
       "    <tr>\n",
       "      <th>46</th>\n",
       "      <td>10.0</td>\n",
       "    </tr>\n",
       "    <tr>\n",
       "      <th>47</th>\n",
       "      <td>14.0</td>\n",
       "    </tr>\n",
       "    <tr>\n",
       "      <th>48</th>\n",
       "      <td>10.0</td>\n",
       "    </tr>\n",
       "    <tr>\n",
       "      <th>49</th>\n",
       "      <td>1.0</td>\n",
       "    </tr>\n",
       "    <tr>\n",
       "      <th>50</th>\n",
       "      <td>5.0</td>\n",
       "    </tr>\n",
       "    <tr>\n",
       "      <th>52</th>\n",
       "      <td>5.0</td>\n",
       "    </tr>\n",
       "    <tr>\n",
       "      <th>53</th>\n",
       "      <td>5.0</td>\n",
       "    </tr>\n",
       "    <tr>\n",
       "      <th>55</th>\n",
       "      <td>36.0</td>\n",
       "    </tr>\n",
       "    <tr>\n",
       "      <th>56</th>\n",
       "      <td>6.0</td>\n",
       "    </tr>\n",
       "    <tr>\n",
       "      <th>57</th>\n",
       "      <td>9.0</td>\n",
       "    </tr>\n",
       "    <tr>\n",
       "      <th>58</th>\n",
       "      <td>5.0</td>\n",
       "    </tr>\n",
       "    <tr>\n",
       "      <th>59</th>\n",
       "      <td>3.0</td>\n",
       "    </tr>\n",
       "  </tbody>\n",
       "</table>\n",
       "</div>"
      ],
      "text/plain": [
       "         target\n",
       "shop_id        \n",
       "2           4.0\n",
       "3           5.0\n",
       "4           3.0\n",
       "5           5.0\n",
       "6          11.0\n",
       "7          11.0\n",
       "10          2.0\n",
       "12         13.0\n",
       "14          6.0\n",
       "15         12.0\n",
       "16          7.0\n",
       "18          9.0\n",
       "19         11.0\n",
       "21         11.0\n",
       "22         14.0\n",
       "24         11.0\n",
       "25         75.0\n",
       "26         13.0\n",
       "28         22.0\n",
       "31         61.0\n",
       "34          3.0\n",
       "35          6.0\n",
       "37          7.0\n",
       "38          9.0\n",
       "39          9.0\n",
       "41          3.0\n",
       "42         45.0\n",
       "44          5.0\n",
       "45          4.0\n",
       "46         10.0\n",
       "47         14.0\n",
       "48         10.0\n",
       "49          1.0\n",
       "50          5.0\n",
       "52          5.0\n",
       "53          5.0\n",
       "55         36.0\n",
       "56          6.0\n",
       "57          9.0\n",
       "58          5.0\n",
       "59          3.0"
      ]
     },
     "execution_count": 66,
     "metadata": {},
     "output_type": "execute_result"
    }
   ],
   "source": [
    "train[train.date_block_num == 33].groupby(['shop_id']).agg({'target': lambda x: sum(x>10)})"
   ]
  },
  {
   "cell_type": "code",
   "execution_count": 70,
   "metadata": {},
   "outputs": [
    {
     "data": {
      "image/png": "[encoded data removed]",
      "text/plain": [
       "<Figure size 432x288 with 1 Axes>"
      ]
     },
     "metadata": {
      "needs_background": "light"
     },
     "output_type": "display_data"
    }
   ],
   "source": [
    "month_33 = train[train.date_block_num == 33]\n",
    "plt.hist(month_33[month_33.shop_id==5].target, bins=100, range=[0, 20], alpha=0.5)\n",
    "#plt.yscale('log')\n",
    "plt.show()"
   ]
  },
  {
   "cell_type": "code",
   "execution_count": 88,
   "metadata": {},
   "outputs": [
    {
     "name": "stdout",
     "output_type": "stream",
     "text": [
      "RMSE forecastable: 0.944594\n",
      "Average forecastable: 0.3400578460550887\n"
     ]
    }
   ],
   "source": [
    "from sklearn.metrics import mean_squared_error\n",
    "\n",
    "rmse = np.sqrt(mean_squared_error(res1.item_cnt_month, [0]*len(res1.clip(0,5).item_cnt_month)))\n",
    "print(\"RMSE forecastable: %f\" % (rmse))\n",
    "print(\"Average forecastable: {0}\".format(np.mean(res1.item_cnt_month)))"
   ]
  },
  {
   "cell_type": "code",
   "execution_count": null,
   "metadata": {},
   "outputs": [],
   "source": [
    "# but public score for clipping at 5 jumps to 1.15866"
   ]
  },
  {
   "cell_type": "code",
   "execution_count": 127,
   "metadata": {},
   "outputs": [],
   "source": [
    "shop25 = res1[res1.shop_id==25]\n",
    "shop25.item_cnt_month *= 0.9\n",
    "result = pd.concat([shop25, res1[res1.shop_id!=25]]).sort_values(by=[\"shop_id\",\"item_id\"])\n",
    "test = pd.merge(test_df, result[[\"shop_id\",\"item_id\",\"item_cnt_month\"]], how='left', on=[\"shop_id\",\"item_id\"]).fillna(0).reset_index()\n",
    "test[['ID', 'item_cnt_month']].to_csv(\"./macro4_shop25s0.9.csv\", index=False)"
   ]
  },
  {
   "cell_type": "code",
   "execution_count": 122,
   "metadata": {},
   "outputs": [
    {
     "data": {
      "text/plain": [
       "(5100, 6)"
      ]
     },
     "execution_count": 122,
     "metadata": {},
     "output_type": "execute_result"
    }
   ],
   "source": [
    "shop25.shape"
   ]
  },
  {
   "cell_type": "code",
   "execution_count": 137,
   "metadata": {},
   "outputs": [],
   "source": [
    "res1.item_cnt_month *= 0.8\n",
    "test = pd.merge(test_df, res1[[\"shop_id\",\"item_id\",\"item_cnt_month\"]], how='left', on=[\"shop_id\",\"item_id\"]).fillna(0).reset_index()\n",
    "test[['ID', 'item_cnt_month']].to_csv(\"./macro4_123_allshops_s0.8.csv\", index=False)"
   ]
  },
  {
   "cell_type": "code",
   "execution_count": null,
   "metadata": {},
   "outputs": [],
   "source": []
  }
 ],
 "metadata": {
  "kernelspec": {
   "display_name": "Python 3",
   "language": "python",
   "name": "python3"
  },
  "language_info": {
   "codemirror_mode": {
    "name": "ipython",
    "version": 3
   },
   "file_extension": ".py",
   "mimetype": "text/x-python",
   "name": "python",
   "nbconvert_exporter": "python",
   "pygments_lexer": "ipython3",
   "version": "3.7.4"
  }
 },
 "nbformat": 4,
 "nbformat_minor": 2
}
