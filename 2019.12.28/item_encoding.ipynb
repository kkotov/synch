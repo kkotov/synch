{
 "cells": [
  {
   "cell_type": "markdown",
   "metadata": {},
   "source": [
    "# Some thoughts\n",
    "\n",
    "In the last studies (e.g. from 2019.12.20) you see that your public score is always around 0.9 while local validation reaches rmse of 0.8.\n",
    "\n",
    "Two possibilities (not mutually exclusive) are:\n",
    "* inaccurate forecast due to some more feature still not used (e.g. revenues)\n",
    "* some of ~300 items (out of 5100) that you never saw selling may be selling on the forecast date\n",
    "\n"
   ]
  },
  {
   "cell_type": "code",
   "execution_count": 1,
   "metadata": {},
   "outputs": [],
   "source": [
    "import pandas as pd\n",
    "import numpy as np\n",
    "\n",
    "import matplotlib.pyplot as plt\n",
    "%matplotlib inline\n",
    "\n",
    "# Load data\n",
    "train_df = pd.read_csv(\"../sales_train.csv.gz\")\n",
    "test_df  = pd.read_csv(\"../test.csv.gz\")\n",
    "\n",
    "categories = pd.read_csv('../item_categories.csv')\n",
    "items = pd.read_csv('../items.csv')\n",
    "shops = pd.read_csv('../shops.csv')"
   ]
  },
  {
   "cell_type": "code",
   "execution_count": 2,
   "metadata": {},
   "outputs": [],
   "source": [
    "%store -r __prepare_data_4"
   ]
  },
  {
   "cell_type": "code",
   "execution_count": 3,
   "metadata": {},
   "outputs": [
    {
     "name": "stdout",
     "output_type": "stream",
     "text": [
      "CPU times: user 2min 45s, sys: 1min 28s, total: 4min 14s\n",
      "Wall time: 4min 17s\n"
     ]
    }
   ],
   "source": [
    "%%time\n",
    "__prepare_data_4"
   ]
  },
  {
   "cell_type": "code",
   "execution_count": 4,
   "metadata": {},
   "outputs": [
    {
     "name": "stdout",
     "output_type": "stream",
     "text": [
      "[36]\n",
      "{0, 1, 8, 9, 11, 13, 17, 20, 23, 27, 29, 30, 32, 33, 40, 43, 51, 54}\n"
     ]
    },
    {
     "data": {
      "text/html": [
       "<div>\n",
       "<style scoped>\n",
       "    .dataframe tbody tr th:only-of-type {\n",
       "        vertical-align: middle;\n",
       "    }\n",
       "\n",
       "    .dataframe tbody tr th {\n",
       "        vertical-align: top;\n",
       "    }\n",
       "\n",
       "    .dataframe thead th {\n",
       "        text-align: right;\n",
       "    }\n",
       "</style>\n",
       "<table border=\"1\" class=\"dataframe\">\n",
       "  <thead>\n",
       "    <tr style=\"text-align: right;\">\n",
       "      <th></th>\n",
       "      <th>date_block_num</th>\n",
       "      <th>total_monthly_shop_sales</th>\n",
       "    </tr>\n",
       "  </thead>\n",
       "  <tbody>\n",
       "    <tr>\n",
       "      <th>0</th>\n",
       "      <td>33</td>\n",
       "      <td>0.060964</td>\n",
       "    </tr>\n",
       "    <tr>\n",
       "      <th>1</th>\n",
       "      <td>34</td>\n",
       "      <td>0.000000</td>\n",
       "    </tr>\n",
       "  </tbody>\n",
       "</table>\n",
       "</div>"
      ],
      "text/plain": [
       "   date_block_num  total_monthly_shop_sales\n",
       "0              33                  0.060964\n",
       "1              34                  0.000000"
      ]
     },
     "execution_count": 4,
     "metadata": {},
     "output_type": "execute_result"
    }
   ],
   "source": [
    "# based on tables from 2019.11.16/trends_combined.ipynb I choose those shops to be taken out:\n",
    "closed_shops = [0, 1, 8, 9, 11, 13, 17, 20, 23,  27,  29, 30, 32, 33,  36,  40, 43, 54]\n",
    "\n",
    "# one of those, though, needs to be predicted (#36):\n",
    "print(test_df[test_df.shop_id.isin(closed_shops)].shop_id.unique())\n",
    "\n",
    "# and one of those (#51) does not (keep it for training anyways):\n",
    "print(set(all_data.shop_id.unique()).difference(test_df.shop_id.unique()))\n",
    "\n",
    "# this explains why shop #36 is not a good shop:\n",
    "(all_data[all_data.shop_id == 36]\n",
    "             .groupby([\"date_block_num\"])\n",
    "             .agg({'total_monthly_shop_sales': lambda x: np.NA if x.empty else x.iloc[0]})\n",
    "             .reset_index())"
   ]
  },
  {
   "cell_type": "code",
   "execution_count": 5,
   "metadata": {},
   "outputs": [
    {
     "name": "stdout",
     "output_type": "stream",
     "text": [
      "Total number of items is 22170, among those sold are 21807\n",
      "Items never sold 363\n",
      "Unknown items to predict: 0\n",
      "Unsold items to predict: 363\n",
      "Known items not to bother about: 17070\n",
      "I.e., to predict: 5100 out of 22170 items\n",
      "Categories of sold (84) and unsold (39) items: 39 out of 84 categories\n",
      "Categories of items to predict: 62\n"
     ]
    }
   ],
   "source": [
    "# from cell 14 of 2019.11.16/trends_combined.ipynb\n",
    "\n",
    "print(\"Total number of items is %d, among those sold are %d\" % \\\n",
    "      (len(items.item_id), len(train_df.item_id.unique())) )\n",
    "\n",
    "items_never_sold = set(items.item_id.unique().tolist()).difference(set(train_df.item_id.unique()))\n",
    "\n",
    "print(\"Items never sold %d\" % len(items_never_sold) )\n",
    "\n",
    "print(\"Unknown items to predict: %d\" % len(set(test_df.item_id.unique()).difference(set(items.item_id.unique()))))\n",
    "\n",
    "print(\"Unsold items to predict: %d\" % len(set(test_df.item_id.unique()).intersection(set(items_never_sold))))\n",
    "\n",
    "print(\"Known items not to bother about: %d\" % len(set(items.item_id.unique()).difference(set(test_df.item_id.unique()))))\n",
    "\n",
    "print(\"I.e., to predict: %d out of %d items\" % (len(test_df.item_id.unique()), len(set(items.item_id.unique()))))\n",
    "\n",
    "cat_of_unsold_items = items[ items.item_id.isin(list(items_never_sold))].item_category_id.unique()\n",
    "cat_of_sold_items   = items[~items.item_id.isin(list(items_never_sold))].item_category_id.unique()\n",
    "\n",
    "print(\"Categories of sold (%d) and unsold (%d) items: %d out of %d categories\" % \\\n",
    "      (len(cat_of_sold_items),len(cat_of_unsold_items),len(set(cat_of_unsold_items).intersection(set(cat_of_sold_items))), len(categories)))\n",
    "\n",
    "print(\"Categories of items to predict: %d\" % len(items[ items.item_id.isin(test_df.item_id.unique()) ].item_category_id.unique()))"
   ]
  },
  {
   "cell_type": "code",
   "execution_count": 6,
   "metadata": {},
   "outputs": [],
   "source": [
    "from calendar import monthrange\n",
    "\n",
    "# January, 2013 is date_block_num==0\n",
    "timeline = pd.DataFrame({'begin_date': pd.date_range(start='2013-01-01',end='2015-11-01', freq='MS'),\n",
    "                         'date_block_num': range(35)} )\n",
    "    \n",
    "timeline['n_days'] = timeline.begin_date.apply(lambda date: monthrange(date.year,date.month)[1])\n",
    "\n",
    "timeline['workdays'] = [17, 20, 20, 22, 18, 19, 23, 22, 21, 23, 20, 22,\n",
    "                        17, 20, 20, 22, 19, 19, 23, 21, 22, 23, 18, 23,\n",
    "                        15, 19, 21, 22, 18, 21, 23, 21, 22, 22, 20]\n",
    "\n",
    "timeline['month_num'] = timeline['date_block_num'] % 12"
   ]
  },
  {
   "cell_type": "code",
   "execution_count": 7,
   "metadata": {},
   "outputs": [
    {
     "name": "stderr",
     "output_type": "stream",
     "text": [
      "/usr/local/lib/python3.7/site-packages/pandas/plotting/_matplotlib/converter.py:102: FutureWarning: Using an implicitly registered datetime converter for a matplotlib plotting method. The converter was registered by pandas on import. Future versions of pandas will require you to explicitly register matplotlib converters.\n",
      "\n",
      "To register the converters:\n",
      "\t>>> from pandas.plotting import register_matplotlib_converters\n",
      "\t>>> register_matplotlib_converters()\n",
      "  warnings.warn(msg, FutureWarning)\n"
     ]
    },
    {
     "name": "stdout",
     "output_type": "stream",
     "text": [
      "CPU times: user 4min 27s, sys: 3.56 s, total: 4min 31s\n",
      "Wall time: 4min 32s\n"
     ]
    },
    {
     "data": {
      "text/plain": [
       "<matplotlib.legend.Legend at 0x11205f490>"
      ]
     },
     "execution_count": 7,
     "metadata": {},
     "output_type": "execute_result"
    },
    {
     "data": {
      "image/png": "[encoded data removed]",
      "text/plain": [
       "<Figure size 432x288 with 1 Axes>"
      ]
     },
     "metadata": {
      "needs_background": "light"
     },
     "output_type": "display_data"
    }
   ],
   "source": [
    "%%time\n",
    "# the idea is to aggregate rarely sold items over larger periods (e.g. quarters) also identifying discontinued items\n",
    "import matplotlib.pyplot as plt\n",
    "%matplotlib inline\n",
    "\n",
    "from statsmodels.tsa.seasonal import seasonal_decompose\n",
    "\n",
    "decomposition_item = pd.DataFrame()\n",
    "no_stock_items = []\n",
    "discontinued_items = []\n",
    "\n",
    "total_monthly_item_sales_good = (all_data[~ all_data.shop_id.isin(closed_shops)]\n",
    "                                 .groupby([\"date_block_num\", \"item_id\"]).agg({'target': [np.mean, sum]})).reset_index()\n",
    "\n",
    "total_monthly_item_sales_good.columns = [\"date_block_num\", \"item_id\", \"average_sales\", \"total_sales\"]\n",
    "\n",
    "for item in total_monthly_item_sales_good.item_id.unique(): #[1:30]:\n",
    "\n",
    "    sales = (total_monthly_item_sales_good[total_monthly_item_sales_good.item_id==item]\n",
    "             .groupby([\"date_block_num\"])\n",
    "             .agg({'average_sales': lambda x: np.NA if x.empty else x.iloc[0],\n",
    "                   'total_sales':   lambda x: np.NA if x.empty else x.iloc[0]})\n",
    "             .reset_index())\n",
    "\n",
    "    if not len(sales.index):\n",
    "        continue\n",
    "\n",
    "    sales = pd.merge(sales[[\"average_sales\", \"total_sales\", \"date_block_num\"]],\n",
    "                     timeline,\n",
    "                     how='right',\n",
    "                     on=['date_block_num']).sort_values(by=['date_block_num'])\n",
    "\n",
    "    start = sales.iloc[min( np.where(~ np.isnan(sales.average_sales))[0] ),].date_block_num\n",
    "    end   = sales.iloc[max( np.where(~ np.isnan(sales.average_sales))[0] ),].date_block_num\n",
    "#    print(\"start: %d, end: %d\" % (start,end))\n",
    "\n",
    "    # last months sales are present, but not enough lags for seasonal inference => ignore\n",
    "    if start+12 >= end:\n",
    "        no_stock_items.append(item)\n",
    "        continue\n",
    "\n",
    "    # there should be sales in last month, otherwise consider it is discontinued\n",
    "    if end < 33:\n",
    "        discontinued_items.append(item)\n",
    "        continue\n",
    "        \n",
    "    # at least last 3 month with sales should be present\n",
    "    if sum(~ np.isnan(sales.average_sales[-3:])) < 3:\n",
    "        no_stock_items.append(item)\n",
    "        continue\n",
    "\n",
    "    sales = sales[sales.date_block_num < 34].fillna(0) # month 34 does not have anything\n",
    "\n",
    "#    print(sales)\n",
    "    ts = pd.Series(sales.average_sales.values, index=sales[\"begin_date\"])\n",
    "\n",
    "    decomposition = seasonal_decompose(ts, extrapolate_trend=1, freq=12)\n",
    "\n",
    "    trend    = decomposition.trend\n",
    "    seasonal = decomposition.seasonal\n",
    "    residual = decomposition.resid\n",
    "\n",
    "    if (item % 100) == 0:\n",
    "        plt.plot(trend, label=item)\n",
    "\n",
    "    decomposition_item = pd.concat([decomposition_item,\n",
    "                             pd.DataFrame({\n",
    "                                 'date_block_num':  sales.date_block_num,\n",
    "                                 'item_id':         [item]*len(ts),\n",
    "                                 'item_trend':      trend.values,\n",
    "                                 'item_seasonal':   seasonal.values,\n",
    "                                 'item_forecast':   trend.values + seasonal.values\n",
    "                             })])\n",
    "\n",
    "plt.legend(loc='best')\n",
    "\n",
    "#all_data[all_data.shop_id.isin(strange_shops)]"
   ]
  },
  {
   "cell_type": "code",
   "execution_count": 8,
   "metadata": {},
   "outputs": [
    {
     "name": "stdout",
     "output_type": "stream",
     "text": [
      "Forecastable are 1917 items\n",
      "Among those only 1917 are needed for submission\n",
      "Discontinued are 7082 out of which 0 need submission!\n",
      "Not easily forecastable are 13171 items with 3183 needed for submission\n"
     ]
    }
   ],
   "source": [
    "print(\"Forecastable are %d items\" % len(decomposition_item.item_id.unique()))\n",
    "\n",
    "print(\"Among those only %d are needed for submission\" % \\\n",
    "      len(set(test_df.item_id.unique()).intersection(set(decomposition_item.item_id.unique()))))\n",
    "      \n",
    "print(\"Discontinued are %d out of which %d need submission!\" % \\\n",
    "      (len(discontinued_items), len(set(test_df.item_id.unique()).intersection(set(discontinued_items)))))\n",
    "\n",
    "print(\"Not easily forecastable are %d items with %d needed for submission\" % \\\n",
    "      (len(no_stock_items),len(set(test_df.item_id.unique()).intersection(set(no_stock_items)))))"
   ]
  },
  {
   "cell_type": "code",
   "execution_count": 9,
   "metadata": {},
   "outputs": [
    {
     "data": {
      "text/plain": [
       "<matplotlib.legend.Legend at 0x112085250>"
      ]
     },
     "execution_count": 9,
     "metadata": {},
     "output_type": "execute_result"
    },
    {
     "data": {
      "image/png": "[encoded data removed]",
      "text/plain": [
       "<Figure size 432x288 with 1 Axes>"
      ]
     },
     "metadata": {
      "needs_background": "light"
     },
     "output_type": "display_data"
    }
   ],
   "source": [
    "# extrapolate one point ahead basing on 3 points behind (note, all coordinates are relative):\n",
    "extrapolate = lambda x: np.poly1d( np.polyfit([1,2,3], [x.iloc[-3],x.iloc[-2],x.iloc[-1]], 1) )(4)\n",
    "#extrapolate.__name__ = \"shop_trend\"\n",
    "\n",
    "trend_34 = decomposition_item.groupby([\"item_id\"]).agg({\"item_trend\": extrapolate})\n",
    "trend_34.columns = [\"item_trend\"]\n",
    "trend_34.reset_index()\n",
    "\n",
    "seasonal_22 = decomposition_item[decomposition_item.date_block_num==(34-12)][['item_id','item_seasonal']]\n",
    "\n",
    "forecast_34 = pd.merge(trend_34, seasonal_22, how='inner', on=['item_id'])\n",
    "forecast_34['date_block_num'] = 34\n",
    "forecast_34['item_forecast'] = forecast_34['item_trend'] + forecast_34['item_seasonal']\n",
    "\n",
    "decomposition_item = pd.concat([decomposition_item, forecast_34], sort=True, ignore_index=True)\n",
    "\n",
    "for item in decomposition_item.item_id.unique():\n",
    "    if (item % 100) == 0:\n",
    "        plt.plot(decomposition_item[decomposition_item.item_id == item].date_block_num.values,\n",
    "                 decomposition_item[decomposition_item.item_id == item].item_forecast.values,\n",
    "                 label=item)\n",
    "\n",
    "plt.legend(loc='upper left')"
   ]
  },
  {
   "cell_type": "code",
   "execution_count": 10,
   "metadata": {},
   "outputs": [
    {
     "name": "stdout",
     "output_type": "stream",
     "text": [
      "RMSE other: 0.903499\n",
      "Average other: 0.31840477864672656\n"
     ]
    }
   ],
   "source": [
    "from sklearn.ensemble import RandomForestRegressor\n",
    "from sklearn.metrics import mean_squared_error\n",
    "\n",
    "train_ref = all_data[(all_data.date_block_num>11)&(all_data.date_block_num<33)].fillna(0)\n",
    "\n",
    "train_ref = train_ref[(train_ref.shop_id!=51)|(train_ref.date_block_num<33)]\n",
    "\n",
    "train_ref['date_block_num'] = train_ref['date_block_num'].astype(np.float32)\n",
    "\n",
    "X_train_other_ref = train_ref[(train_ref.date_block_num <  32)][predictors] # + ['n_days','workdays']]\n",
    "X_valid_other_ref = train_ref[(train_ref.date_block_num == 32)][predictors] # + ['n_days','workdays']]\n",
    "y_train_other_ref = train_ref[(train_ref.date_block_num <  32)].target\n",
    "y_valid_other_ref = train_ref[(train_ref.date_block_num == 32)].target\n",
    "\n",
    "model_other_ref = RandomForestRegressor(n_estimators=64, max_features=6, n_jobs=6, random_state=123)\n",
    "model_other_ref.fit(X_train_other_ref, y_train_other_ref)\n",
    "\n",
    "ypred_other = model_other_ref.predict(X_valid_other_ref)\n",
    "rmse = np.sqrt(mean_squared_error(y_valid_other_ref, ypred_other))\n",
    "print(\"RMSE other: %f\" % (rmse))\n",
    "print(\"Average other: {0}\".format(np.mean(ypred_other)))"
   ]
  },
  {
   "cell_type": "code",
   "execution_count": 11,
   "metadata": {},
   "outputs": [
    {
     "name": "stdout",
     "output_type": "stream",
     "text": [
      "RMSE other: 0.910533\n",
      "Average other: 0.32044923795476893\n"
     ]
    }
   ],
   "source": [
    "train_ref = all_data[(all_data.date_block_num>11)&(all_data.date_block_num<33)&(~all_data.shop_id.isin(closed_shops))].fillna(0)\n",
    "\n",
    "train_ref = train_ref[(train_ref.shop_id!=51)|(train_ref.date_block_num<33)]\n",
    "\n",
    "train_ref['date_block_num'] = train_ref['date_block_num'].astype(np.float32) #.astype(np.int8)\n",
    "\n",
    "X_train_other_ref = train_ref[(train_ref.date_block_num <  32)][predictors] # + ['n_days','workdays']]\n",
    "X_valid_other_ref = train_ref[(train_ref.date_block_num == 32)][predictors] # + ['n_days','workdays']]\n",
    "y_train_other_ref = train_ref[(train_ref.date_block_num <  32)].target\n",
    "y_valid_other_ref = train_ref[(train_ref.date_block_num == 32)].target\n",
    "\n",
    "model_other_ref = RandomForestRegressor(n_estimators=64, max_features=6, n_jobs=6, random_state=123)\n",
    "model_other_ref.fit(X_train_other_ref, y_train_other_ref)\n",
    "\n",
    "ypred_other = model_other_ref.predict(X_valid_other_ref)\n",
    "rmse = np.sqrt(mean_squared_error(y_valid_other_ref, ypred_other))\n",
    "print(\"RMSE other: %f\" % (rmse))\n",
    "print(\"Average other: {0}\".format(np.mean(ypred_other)))"
   ]
  },
  {
   "cell_type": "code",
   "execution_count": 11,
   "metadata": {},
   "outputs": [],
   "source": [
    "train = all_data[(all_data.date_block_num>11)&(all_data.date_block_num<34)&(~all_data.shop_id.isin(closed_shops))].fillna(0)\n",
    "train = pd.merge(train, timeline, how='left', on=['date_block_num'])\n",
    "\n",
    "train = pd.merge(train, decomposition_item, how='left', on=['date_block_num','item_id'])\n",
    "\n",
    "# shop 51 is a special case as it is one point short\n",
    "train = train[(train.shop_id!=51)|(train.date_block_num<33)]\n",
    "\n",
    "predictors2 = predictors + ['item_forecast', 'item_trend', 'item_seasonal', 'n_days', 'workdays', 'month_num']\n",
    "\n",
    "predictors3 = predictors + ['n_days', 'workdays', 'month_num']\n",
    "\n",
    "# if you use date_block_num, it should not be categorical when forecasting\n",
    "train['date_block_num'] = train['date_block_num'].astype(np.float32)\n",
    "train['n_days']         = train['n_days']        .astype(np.int8)\n",
    "train['workdays']       = train['workdays']      .astype(np.int8)\n",
    "train['month_num']      = train['month_num']     .astype(np.int8)"
   ]
  },
  {
   "cell_type": "code",
   "execution_count": null,
   "metadata": {},
   "outputs": [],
   "source": [
    "%%time\n",
    "from sklearn.ensemble import RandomForestRegressor\n",
    "\n",
    "forecastable_items = decomposition_item.item_id.unique()\n",
    "\n",
    "X_train_forecastable = train[(train.date_block_num <  33)&(train.item_id.isin(forecastable_items))][predictors2]\n",
    "X_valid_forecastable = train[(train.date_block_num == 33)&(train.item_id.isin(forecastable_items))][predictors2]\n",
    "y_train_forecastable = train[(train.date_block_num <  33)&(train.item_id.isin(forecastable_items))].target\n",
    "y_valid_forecastable = train[(train.date_block_num == 33)&(train.item_id.isin(forecastable_items))].target\n",
    "\n",
    "other_items = set(test_df.item_id.unique()).intersection(set(no_stock_items))\n",
    "\n",
    "X_train_other = train[(train.date_block_num <  33)][predictors3] # + ['n_days','workdays']]\n",
    "X_valid_other = train[(train.date_block_num == 33)][predictors3] # + ['n_days','workdays']]\n",
    "y_train_other = train[(train.date_block_num <  33)].target\n",
    "y_valid_other = train[(train.date_block_num == 33)].target\n",
    "\n",
    "model_forecastable = RandomForestRegressor(n_estimators=64, max_features=6, n_jobs=6, random_state=123)\n",
    "model_forecastable.fit(X_train_forecastable, y_train_forecastable)\n",
    "\n",
    "model_other = RandomForestRegressor(n_estimators=64, max_features=6, n_jobs=6, random_state=123)\n",
    "model_other.fit(X_train_other, y_train_other)"
   ]
  },
  {
   "cell_type": "code",
   "execution_count": 40,
   "metadata": {},
   "outputs": [
    {
     "name": "stdout",
     "output_type": "stream",
     "text": [
      "RMSE forecastable: 0.675763\n",
      "Average forecastable: 0.36094889117905266\n",
      "RMSE other: 0.637749\n",
      "Average other: 0.3246273315139255\n",
      "RMSE total: 0.657031\n",
      "Average total: 0.34278811134648907\n"
     ]
    }
   ],
   "source": [
    "from sklearn.metrics import mean_squared_error\n",
    "# when you play with predictors2 <-> predictors3 for the forecastable model, you see the forecast only do harm\n",
    "ypred_forecastable = model_forecastable.predict(X_valid_forecastable)\n",
    "rmse = np.sqrt(mean_squared_error(y_valid_forecastable, ypred_forecastable))\n",
    "print(\"RMSE forecastable: %f\" % (rmse))\n",
    "print(\"Average forecastable: {0}\".format(np.mean(ypred_forecastable)))\n",
    "\n",
    "#X_valid_other = train[(train.date_block_num == 33)&(train.item_id.isin(other_items))][predictors] # + ['n_days','workdays']]\n",
    "#y_valid_other = train[(train.date_block_num == 33)&(train.item_id.isin(other_items))].target\n",
    "\n",
    "ypred_other = model_other.predict(X_valid_other)\n",
    "rmse = np.sqrt(mean_squared_error(y_valid_other, ypred_other))\n",
    "print(\"RMSE other: %f\" % (rmse))\n",
    "print(\"Average other: {0}\".format(np.mean(ypred_other)))\n",
    "\n",
    "rmse = np.sqrt(mean_squared_error(y_valid_forecastable.append(y_valid_other), np.concatenate((ypred_forecastable, ypred_other))))\n",
    "print(\"RMSE total: %f\" % (rmse))\n",
    "print(\"Average total: {0}\".format(np.mean(np.concatenate((ypred_forecastable, ypred_other)))))"
   ]
  },
  {
   "cell_type": "code",
   "execution_count": 14,
   "metadata": {},
   "outputs": [
    {
     "name": "stdout",
     "output_type": "stream",
     "text": [
      "CPU times: user 1h 16min 31s, sys: 55.6 s, total: 1h 17min 27s\n",
      "Wall time: 21min 21s\n"
     ]
    },
    {
     "data": {
      "text/plain": [
       "RandomForestRegressor(bootstrap=True, criterion='mse', max_depth=None,\n",
       "                      max_features=6, max_leaf_nodes=None,\n",
       "                      min_impurity_decrease=0.0, min_impurity_split=None,\n",
       "                      min_samples_leaf=1, min_samples_split=2,\n",
       "                      min_weight_fraction_leaf=0.0, n_estimators=64, n_jobs=6,\n",
       "                      oob_score=False, random_state=123, verbose=0,\n",
       "                      warm_start=False)"
      ]
     },
     "execution_count": 14,
     "metadata": {},
     "output_type": "execute_result"
    }
   ],
   "source": [
    "%%time\n",
    "from sklearn.ensemble import RandomForestRegressor\n",
    "full_model_forecastable = RandomForestRegressor(n_estimators=64, max_features=6, n_jobs=6, random_state=123)\n",
    "full_model_forecastable.fit(train[train.item_id.isin(forecastable_items)][predictors2], train[train.item_id.isin(forecastable_items)].target)\n",
    "\n",
    "#full_model_other = RandomForestRegressor(n_estimators=64, max_features=6, n_jobs=6, random_state=123)\n",
    "#full_model_other.fit(train[train.item_id.isin(other_items)][predictors], train[train.item_id.isin(other_items)].target)\n",
    "\n",
    "full_model_other = RandomForestRegressor(n_estimators=64, max_features=6, n_jobs=6, random_state=123)\n",
    "full_model_other.fit(train[predictors3], train.target)"
   ]
  },
  {
   "cell_type": "code",
   "execution_count": 15,
   "metadata": {},
   "outputs": [
    {
     "name": "stdout",
     "output_type": "stream",
     "text": [
      "CPU times: user 1h 11min 24s, sys: 50.4 s, total: 1h 12min 15s\n",
      "Wall time: 19min 40s\n"
     ]
    },
    {
     "data": {
      "text/plain": [
       "RandomForestRegressor(bootstrap=True, criterion='mse', max_depth=None,\n",
       "                      max_features=6, max_leaf_nodes=None,\n",
       "                      min_impurity_decrease=0.0, min_impurity_split=None,\n",
       "                      min_samples_leaf=1, min_samples_split=2,\n",
       "                      min_weight_fraction_leaf=0.0, n_estimators=64, n_jobs=6,\n",
       "                      oob_score=False, random_state=123, verbose=0,\n",
       "                      warm_start=False)"
      ]
     },
     "execution_count": 15,
     "metadata": {},
     "output_type": "execute_result"
    }
   ],
   "source": [
    "%%time\n",
    "train32 = train[train.date_block_num < 33]\n",
    "\n",
    "from sklearn.ensemble import RandomForestRegressor\n",
    "full_model_forecastable32 = RandomForestRegressor(n_estimators=64, max_features=6, n_jobs=6, random_state=123)\n",
    "full_model_forecastable32.fit(train32[train32.item_id.isin(forecastable_items)][predictors2], train32[train32.item_id.isin(forecastable_items)].target)\n",
    "\n",
    "full_model_other32 = RandomForestRegressor(n_estimators=64, max_features=6, n_jobs=6, random_state=123)\n",
    "full_model_other32.fit(train32[predictors3], train32.target)"
   ]
  },
  {
   "cell_type": "code",
   "execution_count": 23,
   "metadata": {},
   "outputs": [],
   "source": [
    "# combine\n",
    "items_to_forecast = test_df.item_id.unique()\n",
    "\n",
    "month_34 = all_data[(all_data.date_block_num == 34)&(~all_data.shop_id.isin(closed_shops))&(all_data.item_id.isin(items_to_forecast))].fillna(0)\n",
    "month_34 = pd.merge(month_34, timeline, how='left', on=['date_block_num'])\n",
    "# shop #51 and #36 are special cases:\n",
    "month_34 = month_34[(month_34.shop_id!=51)&(month_34.shop_id!=36)]\n",
    "\n",
    "forecastable = pd.merge(month_34[month_34.item_id.isin(forecastable_items)],\n",
    "                        decomposition_item,\n",
    "                        how='left',\n",
    "                        on=['date_block_num','item_id'])\n",
    "\n",
    "forecastable['item_cnt_month'] = full_model_forecastable.predict(forecastable[predictors2])\n",
    "\n",
    "other = month_34[month_34.item_id.isin(other_items)].copy(deep=True)\n",
    "other['item_cnt_month'] = full_model_other.predict(other[predictors3])\n",
    "\n",
    "month_34 = pd.concat([forecastable[[\"shop_id\",\"item_id\",\"item_cnt_month\"]], other[[\"shop_id\",\"item_id\",\"item_cnt_month\"]]])\n",
    "\n",
    "test = pd.merge(test_df, month_34, how='left', on=[\"shop_id\",\"item_id\"]).fillna(0)\n",
    "\n",
    "test = test.loc[:,['ID', 'item_cnt_month']]\n",
    "test.set_index(\"ID\", inplace=True)\n",
    "test[\"item_cnt_month\"] = test[\"item_cnt_month\"] #.round().astype(\"int64\") do not round up, you are screwing RSS\n",
    "\n",
    "test[test.item_cnt_month>20] = 20\n",
    "test.to_csv(\"two_models_123.csv\")"
   ]
  },
  {
   "cell_type": "code",
   "execution_count": null,
   "metadata": {},
   "outputs": [],
   "source": [
    "# public score of ~0.99 for baseline with month #33 drops down to 0.93492 when augmenting it with n_days, month_num, working_days (similar2_*)\n",
    "# public score of ~0.91 for baseline without m #33 stays adound 0.93492 when augmenting it with same predictors (similar32_*)\n",
    "# public score of 0.94669 (i.e. 1% worse), happens when use forecastable model for ~2K items -> it must be undertrained (two_models_*)"
   ]
  },
  {
   "cell_type": "code",
   "execution_count": 31,
   "metadata": {},
   "outputs": [
    {
     "data": {
      "text/plain": [
       "RandomForestRegressor(bootstrap=True, criterion='mse', max_depth=None,\n",
       "                      max_features=3, max_leaf_nodes=None,\n",
       "                      min_impurity_decrease=0.0, min_impurity_split=None,\n",
       "                      min_samples_leaf=1, min_samples_split=2,\n",
       "                      min_weight_fraction_leaf=0.0, n_estimators=64, n_jobs=4,\n",
       "                      oob_score=False, random_state=123, verbose=0,\n",
       "                      warm_start=False)"
      ]
     },
     "execution_count": 31,
     "metadata": {},
     "output_type": "execute_result"
    }
   ],
   "source": [
    "train = all_data[(all_data.date_block_num>11)&(all_data.date_block_num<34)&(~all_data.shop_id.isin(closed_shops))].fillna(0)\n",
    "train = pd.merge(train, timeline, how='left', on=['date_block_num'])\n",
    "train['item_cnt_month_guess'] = full_model_other.predict(train[predictors3])\n",
    "train = train[train.item_id.isin(forecastable_items)]\n",
    "train = pd.merge(train, decomposition_item, how='left', on=['date_block_num','item_id'])\n",
    "# shop 51 is a special case as it is one point short\n",
    "train = train[(train.shop_id!=51)|(train.date_block_num<33)]\n",
    "\n",
    "full_model_forecastable = RandomForestRegressor(n_estimators=64, max_features=3, n_jobs=4, random_state=123)\n",
    "full_model_forecastable.fit(train[['shop_id',\n",
    "                                   'item_id',\n",
    "                                   'target_lag_1',\n",
    "                                   'total_monthly_city_item_sales_lag_1',\n",
    "                                   'total_monthly_item_sales_lag_1',\n",
    "                                   'date_block_num',\n",
    "                                   'item_forecast',\n",
    "                                   'item_trend',\n",
    "                                   'item_seasonal',\n",
    "                                   'item_cnt_month_guess']], train.target)"
   ]
  },
  {
   "cell_type": "code",
   "execution_count": 32,
   "metadata": {},
   "outputs": [
    {
     "name": "stdout",
     "output_type": "stream",
     "text": [
      "name                                      score\n",
      "item_cnt_month_guess                 0.6598\n",
      "target_lag_1                         0.106607\n",
      "total_monthly_city_item_sales_lag_1  0.0779032\n",
      "item_forecast                        0.069396\n",
      "total_monthly_item_sales_lag_1       0.0307881\n",
      "item_trend                           0.0302801\n",
      "item_seasonal                        0.0115057\n",
      "shop_id                              0.00612365\n",
      "item_id                              0.00456064\n",
      "date_block_num                       0.00303492\n"
     ]
    }
   ],
   "source": [
    "from tabulate import tabulate\n",
    "headers = [\"name\", \"score\"]\n",
    "values = sorted(zip(['shop_id',\n",
    "                     'item_id',\n",
    "                     'target_lag_1',\n",
    "                     'total_monthly_city_item_sales_lag_1',\n",
    "                     'total_monthly_item_sales_lag_1',\n",
    "                     'date_block_num',\n",
    "                     'item_forecast',\n",
    "                     'item_trend',\n",
    "                     'item_seasonal',\n",
    "                     'item_cnt_month_guess'], full_model_forecastable.feature_importances_), key=lambda x: x[1] * -1)\n",
    "print(tabulate(values, headers, tablefmt=\"plain\"))"
   ]
  },
  {
   "cell_type": "code",
   "execution_count": 33,
   "metadata": {},
   "outputs": [],
   "source": [
    "month_34 = all_data[(all_data.date_block_num == 34)&(~all_data.shop_id.isin(closed_shops))&(all_data.item_id.isin(items_to_forecast))].fillna(0)\n",
    "month_34 = pd.merge(month_34, timeline, how='left', on=['date_block_num'])\n",
    "# shop #51 and #36 are special cases:\n",
    "month_34 = month_34[(month_34.shop_id!=51)&(month_34.shop_id!=36)]\n",
    "month_34['item_cnt_month'] = full_model_other.predict(month_34[predictors3])\n",
    "\n",
    "forecastable = pd.merge(month_34[month_34.item_id.isin(forecastable_items)],\n",
    "                        decomposition_item,\n",
    "                        how='left',\n",
    "                        on=['date_block_num','item_id'])\n",
    "\n",
    "forecastable['item_cnt_month_guess'] = forecastable['item_cnt_month']\n",
    "forecastable['item_cnt_month'] = full_model_forecastable.predict(forecastable[\n",
    "    ['shop_id',\n",
    "     'item_id',\n",
    "     'target_lag_1',\n",
    "     'total_monthly_city_item_sales_lag_1',\n",
    "     'total_monthly_item_sales_lag_1',\n",
    "     'date_block_num',\n",
    "     'item_forecast',\n",
    "     'item_trend',\n",
    "     'item_seasonal',\n",
    "     'item_cnt_month_guess']\n",
    "])\n",
    "\n",
    "month_34 = pd.concat([forecastable[[\"shop_id\",\"item_id\",\"item_cnt_month\"]], month_34[~month_34.item_id.isin(forecastable_items)][[\"shop_id\",\"item_id\",\"item_cnt_month\"]]])\n",
    "\n",
    "test = pd.merge(test_df, month_34, how='left', on=[\"shop_id\",\"item_id\"]).fillna(0)\n",
    "\n",
    "test = test.loc[:,['ID', 'item_cnt_month']]\n",
    "test.set_index(\"ID\", inplace=True)\n",
    "test[\"item_cnt_month\"] = test[\"item_cnt_month\"] #.round().astype(\"int64\") do not round up, you are screwing RSS\n",
    "\n",
    "test[test.item_cnt_month>20] = 20\n",
    "test.to_csv(\"two_models_hierarchical_extended_123.csv\")"
   ]
  },
  {
   "cell_type": "code",
   "execution_count": null,
   "metadata": {},
   "outputs": [],
   "source": [
    "# public score of 0.93952 (0.94101 in not exteded case) - no improvement"
   ]
  },
  {
   "cell_type": "code",
   "execution_count": 30,
   "metadata": {},
   "outputs": [],
   "source": [
    "month_34 = all_data[(all_data.date_block_num == 34)&(~all_data.shop_id.isin(closed_shops))&(all_data.item_id.isin(items_to_forecast))].fillna(0)\n",
    "month_34 = pd.merge(month_34, timeline, how='left', on=['date_block_num'])\n",
    "# shop #51 and #36 are special cases:\n",
    "month_34 = month_34[(month_34.shop_id!=51)&(month_34.shop_id!=36)]\n",
    "month_34['item_cnt_month'] = full_model_other.predict(month_34[predictors3])\n",
    "\n",
    "forecastable = pd.merge(month_34[month_34.item_id.isin(forecastable_items)],\n",
    "                        decomposition_item,\n",
    "                        how='left',\n",
    "                        on=['date_block_num','item_id'])\n",
    "\n",
    "forecastable['item_cnt_month'] = forecastable['item_forecast']\n",
    "\n",
    "month_34 = pd.concat([forecastable[[\"shop_id\",\"item_id\",\"item_cnt_month\"]], month_34[~month_34.item_id.isin(forecastable_items)][[\"shop_id\",\"item_id\",\"item_cnt_month\"]]])\n",
    "\n",
    "test = pd.merge(test_df, month_34, how='left', on=[\"shop_id\",\"item_id\"]).fillna(0)\n",
    "\n",
    "test = test.loc[:,['ID', 'item_cnt_month']]\n",
    "test.set_index(\"ID\", inplace=True)\n",
    "test[\"item_cnt_month\"] = test[\"item_cnt_month\"] #.round().astype(\"int64\") do not round up, you are screwing RSS\n",
    "\n",
    "test.clip(0,20,inplace=True)\n",
    "test.to_csv(\"macro4_plus_forecast_123.csv\")"
   ]
  },
  {
   "cell_type": "code",
   "execution_count": null,
   "metadata": {},
   "outputs": [],
   "source": [
    "# public score of 1.05060 suggests your forecast for mean encodings is not good for predicting individual"
   ]
  },
  {
   "cell_type": "code",
   "execution_count": null,
   "metadata": {},
   "outputs": [],
   "source": [
    "test_df.iloc[168299,:]"
   ]
  },
  {
   "cell_type": "code",
   "execution_count": null,
   "metadata": {},
   "outputs": [],
   "source": [
    "#X_train_other.to_csv(\"X_train_other.csv\")\n",
    "#y_train_other.to_csv(\"y_train_other.csv\")"
   ]
  },
  {
   "cell_type": "code",
   "execution_count": 35,
   "metadata": {},
   "outputs": [
    {
     "data": {
      "image/png": "[encoded data removed]",
      "text/plain": [
       "<Figure size 432x288 with 1 Axes>"
      ]
     },
     "metadata": {
      "needs_background": "light"
     },
     "output_type": "display_data"
    }
   ],
   "source": [
    "month_34 = all_data[(all_data.date_block_num == 34)&(~all_data.shop_id.isin(closed_shops))&(all_data.item_id.isin(forecastable_items))].fillna(0)\n",
    "month_34 = pd.merge(month_34, timeline, how='left', on=['date_block_num'])\n",
    "# shop #51 and #36 are special cases:\n",
    "month_34 = month_34[(month_34.shop_id!=51)&(month_34.shop_id!=36)]\n",
    "month_34['item_cnt_month'] = full_model_other.predict(month_34[predictors3])\n",
    "\n",
    "plt.hist(month_34.item_cnt_month, bins=100, range=[0, 20], alpha=0.5)\n",
    "plt.yscale('log')\n",
    "plt.show()"
   ]
  },
  {
   "cell_type": "code",
   "execution_count": 36,
   "metadata": {},
   "outputs": [
    {
     "data": {
      "image/png": "[encoded data removed]",
      "text/plain": [
       "<Figure size 432x288 with 1 Axes>"
      ]
     },
     "metadata": {
      "needs_background": "light"
     },
     "output_type": "display_data"
    }
   ],
   "source": [
    "plt.hist(month_34.item_cnt_month, bins=100, range=[0, 20], alpha=0.5)\n",
    "plt.show()"
   ]
  },
  {
   "cell_type": "code",
   "execution_count": null,
   "metadata": {},
   "outputs": [],
   "source": []
  }
 ],
 "metadata": {
  "kernelspec": {
   "display_name": "Python 3",
   "language": "python",
   "name": "python3"
  },
  "language_info": {
   "codemirror_mode": {
    "name": "ipython",
    "version": 3
   },
   "file_extension": ".py",
   "mimetype": "text/x-python",
   "name": "python",
   "nbconvert_exporter": "python",
   "pygments_lexer": "ipython3",
   "version": "3.7.4"
  }
 },
 "nbformat": 4,
 "nbformat_minor": 2
}
