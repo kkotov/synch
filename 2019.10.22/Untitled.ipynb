{
 "cells": [
  {
   "cell_type": "code",
   "execution_count": null,
   "metadata": {},
   "outputs": [],
   "source": [
    "month_34 = all_data[all_data.date_block_num == 34].fillna(0)\n",
    "month_34['item_cnt_month'] = full_model2.predict(month_34[predictors])\n",
    "test = pd.merge(test_df, month_34, on=[\"shop_id\",\"item_id\"]).fillna(0)\n",
    "\n",
    "test = test.loc[:,['ID', 'item_cnt_month']]\n",
    "test.set_index(\"ID\", inplace=True)\n",
    "test[\"item_cnt_month\"] = test[\"item_cnt_month\"].round().astype(\"int64\")\n",
    "\n",
    "test[test.item_cnt_month>20] = 20\n",
    "test.to_csv(\"shop_item_trends.csv\")"
   ]
  },
  {
   "cell_type": "code",
   "execution_count": null,
   "metadata": {},
   "outputs": [],
   "source": [
    "%%time\n",
    "from sklearn.ensemble import RandomForestRegressor\n",
    "full_model2 = RandomForestRegressor(n_estimators=64, max_features=4, n_jobs=6) #len(predictors)/2\n",
    "full_model2.fit(train[predictors], train.target)"
   ]
  },
  {
   "cell_type": "code",
   "execution_count": null,
   "metadata": {},
   "outputs": [],
   "source": [
    "%%time\n",
    "from sklearn.ensemble import RandomForestRegressor\n",
    "from sklearn.metrics import mean_squared_error\n",
    "model2 = RandomForestRegressor(n_estimators=64, max_features=4, n_jobs=4)\n",
    "model2.fit(X_train, y_train)\n",
    "ypred = model2.predict(X_valid)\n",
    "rmse = np.sqrt(mean_squared_error(y_valid, ypred))\n",
    "print(\"RMSE: %f\" % (rmse))"
   ]
  },
  {
   "cell_type": "code",
   "execution_count": null,
   "metadata": {},
   "outputs": [],
   "source": [
    "train = all_data[(all_data.date_block_num>12)&(all_data.date_block_num<34)].fillna(0)\n",
    "\n",
    "predictors += ['item_trend', 'item_seasonal', 'item_forecast'] \n",
    "\n",
    "X_train = train[train.date_block_num <  33][predictors]\n",
    "X_valid = train[train.date_block_num == 33][predictors]\n",
    "y_train = train[train.date_block_num <  33].target\n",
    "y_valid = train[train.date_block_num == 33].target"
   ]
  },
  {
   "cell_type": "code",
   "execution_count": null,
   "metadata": {},
   "outputs": [],
   "source": [
    "all_data = pd.merge(all_data, extrapolate_item, how='left', on=['date_block_num','item_id'])"
   ]
  },
  {
   "cell_type": "code",
   "execution_count": null,
   "metadata": {},
   "outputs": [],
   "source": [
    "import gc\n",
    "del month_34\n",
    "gc.collect()"
   ]
  },
  {
   "cell_type": "code",
   "execution_count": null,
   "metadata": {},
   "outputs": [],
   "source": [
    "item_monthly_sales[item_monthly_sales.item_id==little_data_items[0]]"
   ]
  },
  {
   "cell_type": "code",
   "execution_count": null,
   "metadata": {},
   "outputs": [],
   "source": [
    "# force all out-of-stock items to yeild zero\n",
    "for item in no_stock_items:\n",
    "\n",
    "        extrapolate_item = pd.concat([extrapolate_item,\n",
    "                             pd.DataFrame({\n",
    "                                 'date_block_num':  range(35),\n",
    "                                 'item_id':         [item]*35,\n",
    "                                 'item_trend':      [0]*35,\n",
    "                                 'item_seasonal':   [0]*35,\n",
    "                                 'item_forecast':   [0]*35\n",
    "                             })])\n",
    "\n",
    "for item in little_data_items:\n",
    "\n",
    "    sales = item_monthly_sales[item_monthly_sales.item_id==item]\n",
    "\n",
    "    target_33 = 33 in sales.index and sales.target[33] or 0\n",
    "    target_32 = 32 in sales.index and sales.target[32] or 0\n",
    "    target_31 = 31 in sales.index and sales.target[31] or 0\n",
    "\n",
    "    forecast = (target_33+target_32+target_31)/3.\n",
    "\n",
    "    extrapolate_item = pd.concat([extrapolate_item,\n",
    "                             pd.DataFrame({\n",
    "                                 'date_block_num':  [34],\n",
    "                                 'item_id':         [item],\n",
    "                                 'item_trend':      0,\n",
    "                                 'item_seasonal':   0,\n",
    "                                 'item_forecast':   forecast\n",
    "                             })])\n"
   ]
  },
  {
   "cell_type": "code",
   "execution_count": null,
   "metadata": {},
   "outputs": [],
   "source": [
    "prev_year    = extrapolate_item[extrapolate_item.date_block_num==(34-12)][['item_id','item_seasonal']]\n",
    "prev_month_0 = extrapolate_item[extrapolate_item.date_block_num==33][['item_id','item_trend']]\n",
    "prev_month_1 = extrapolate_item[extrapolate_item.date_block_num==32][['item_id','item_trend']]\n",
    "prev_month_2 = extrapolate_item[extrapolate_item.date_block_num==31][['item_id','item_trend']]\n",
    "\n",
    "prev_month = pd.DataFrame()\n",
    "\n",
    "for item in prev_month_0.item_id.unique()[1:10]:\n",
    "    t0 = prev_month_0[prev_month_0.item_id == item].item_trend.values[0]\n",
    "    t1 = prev_month_1[prev_month_1.item_id == item].item_trend.values[0]\n",
    "    t2 = prev_month_2[prev_month_2.item_id == item].item_trend.values[0]\n",
    "\n",
    "    fit = np.polyfit([31,32,33], [t2,t1,t0] ,1) # 1 is for linear fit\n",
    "    line = np.poly1d(fit)\n",
    "\n",
    "    prev_month = pd.concat([prev_month, pd.DataFrame({'item_id': [item], 'item_trend': [line(34)]})])\n",
    "\n",
    "    if item%500 == 0:\n",
    "        plt.plot([t2,t1,t0,line(34)], label='Trend')\n",
    "\n",
    "\n",
    "month_34 = pd.merge(prev_month, prev_year, how='inner', on=['item_id'])\n",
    "month_34['date_block_num'] = 34\n",
    "month_34['item_forecast'] = month_34['item_trend'] + month_34['item_seasonal']\n",
    "\n",
    "extrapolate_item = pd.concat([extrapolate_item,month_34])\n",
    "extrapolate_item.shape"
   ]
  },
  {
   "cell_type": "code",
   "execution_count": null,
   "metadata": {},
   "outputs": [],
   "source": [
    "plt.hist([len(no_stock_items),len(little_data_items)])"
   ]
  },
  {
   "cell_type": "code",
   "execution_count": null,
   "metadata": {},
   "outputs": [],
   "source": [
    "%%time\n",
    "#import matplotlib.pyplot as plt\n",
    "#%matplotlib inline\n",
    "\n",
    "item_monthly_sales = monthly.groupby([\"item_id\",\"date_block_num\"]).target.sum().reset_index(\"item_id\")\n",
    "\n",
    "extrapolate_item = pd.DataFrame()\n",
    "\n",
    "no_stock_items = []\n",
    "\n",
    "little_data_items = []\n",
    "\n",
    "for item in item_monthly_sales.item_id.unique():\n",
    "    \n",
    "    sales = item_monthly_sales[item_monthly_sales.item_id==item]\n",
    "    sales_ts = pd.merge(timeline[0:-1], sales, how='left', on=['date_block_num'])\n",
    "\n",
    "    # some items are discuntinued or go out of stock, don't forecast those yet\n",
    "    if sum( np.isnan(sales_ts[-3:].target) ) == 3: # >0 ?\n",
    "        no_stock_items.append(item)\n",
    "        continue\n",
    "\n",
    "    # at this point last observations are not zeros, let's bridge the gaps\n",
    "    sales_ts.target = sales_ts.target.interpolate()\n",
    "    # last missing values (if any) are automatically imputed with their lags above\n",
    "\n",
    "    # any remaining nulls are from earliy continuous periods (interpolate wont impute those)\n",
    "    if any(np.isnan(sales_ts.target)):\n",
    "        last_null = max( np.where(np.isnan(sales_ts.target))[0] )\n",
    "        sales_ts = sales_ts[last_null+1:]\n",
    "\n",
    "    if len(sales_ts) <= 12:\n",
    "        little_data_items.append(item)\n",
    "        continue\n",
    "\n",
    "    ts = pd.Series(sales_ts.target.values, index=sales_ts[\"begin_date\"])\n",
    "\n",
    "    if any( ts.isnull() ):\n",
    "        print(\"Problem\")\n",
    "        break\n",
    "\n",
    "    decomposition = seasonal_decompose(ts, extrapolate_trend=1, freq=12)\n",
    "\n",
    "    trend    = decomposition.trend\n",
    "    seasonal = decomposition.seasonal\n",
    "    residual = decomposition.resid\n",
    "    \n",
    "    if item%500 == 0:\n",
    "        plt.plot(trend, label='Trend')\n",
    "\n",
    "    extrapolate_item = pd.concat([extrapolate_item,\n",
    "                             pd.DataFrame({\n",
    "                                 'date_block_num':  sales_ts.date_block_num,\n",
    "                                 'item_id':         [item]*len(ts),\n",
    "                                 'item_trend':      trend.values,\n",
    "                                 'item_seasonal':   seasonal.values,\n",
    "                                 'item_forecast':   trend.values + seasonal.values\n",
    "                             })])\n"
   ]
  },
  {
   "cell_type": "code",
   "execution_count": null,
   "metadata": {},
   "outputs": [],
   "source": []
  }
 ],
 "metadata": {
  "kernelspec": {
   "display_name": "Python 3",
   "language": "python",
   "name": "python3"
  },
  "language_info": {
   "codemirror_mode": {
    "name": "ipython",
    "version": 3
   },
   "file_extension": ".py",
   "mimetype": "text/x-python",
   "name": "python",
   "nbconvert_exporter": "python",
   "pygments_lexer": "ipython3",
   "version": "3.7.4"
  }
 },
 "nbformat": 4,
 "nbformat_minor": 2
}
