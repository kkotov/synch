{
 "metadata": {
  "name": "",
  "signature": "sha256:ec4b3a4de996666ebe21bc73bfcb888233c0897c63284e9f01450620bd13eb70"
 },
 "nbformat": 3,
 "nbformat_minor": 0,
 "worksheets": [
  {
   "cells": [
    {
     "cell_type": "code",
     "collapsed": false,
     "input": [
      "import pandas as pd\n",
      "train_df = pd.read_csv(\"../sales_train.csv.gz\")\n",
      "test_df  = pd.read_csv(\"../test.csv.gz\")"
     ],
     "language": "python",
     "metadata": {},
     "outputs": [],
     "prompt_number": 1
    },
    {
     "cell_type": "code",
     "collapsed": false,
     "input": [
      "%store -r __prepare_data\n",
      "__prepare_data"
     ],
     "language": "python",
     "metadata": {},
     "outputs": [],
     "prompt_number": 9
    },
    {
     "cell_type": "code",
     "collapsed": false,
     "input": [
      "all_data = all_data[all_data.date_block_num > 0] # no lags before time 0\n",
      "all_data.fillna(0, inplace=True)\n",
      "print(all_data.isnull().values.any())"
     ],
     "language": "python",
     "metadata": {},
     "outputs": [
      {
       "output_type": "stream",
       "stream": "stdout",
       "text": [
        "False\n"
       ]
      }
     ],
     "prompt_number": 4
    },
    {
     "cell_type": "code",
     "collapsed": false,
     "input": [
      "from sklearn.ensemble import RandomForestRegressor, GradientBoostingRegressor\n",
      "from sklearn.metrics import mean_squared_error\n",
      "from sklearn.model_selection import train_test_split"
     ],
     "language": "python",
     "metadata": {},
     "outputs": [],
     "prompt_number": 5
    },
    {
     "cell_type": "code",
     "collapsed": false,
     "input": [
      "predictors = [\"target_lag_1\",\"item_target_enc_lag_1\",\"shop_target_enc_lag_1\"]\n",
      "target = all_data.target.values\n",
      "target[target>20] = 20\n",
      "#X_train, X_test, y_train, y_test = train_test_split(X, y, test_size=1, random_state=321)"
     ],
     "language": "python",
     "metadata": {},
     "outputs": [],
     "prompt_number": 6
    },
    {
     "cell_type": "code",
     "collapsed": false,
     "input": [
      "# models\n",
      "sklRf  = RandomForestRegressor(n_estimators=8, max_features=1, n_jobs=2) #len(predictors)/2\n",
      "# fit the model\n",
      "sklRf.fit(all_data[predictors], target)"
     ],
     "language": "python",
     "metadata": {},
     "outputs": [
      {
       "metadata": {},
       "output_type": "pyout",
       "prompt_number": 7,
       "text": [
        "RandomForestRegressor(bootstrap=True, criterion='mse', max_depth=None,\n",
        "           max_features=1, max_leaf_nodes=None, min_impurity_decrease=0.0,\n",
        "           min_impurity_split=None, min_samples_leaf=1,\n",
        "           min_samples_split=2, min_weight_fraction_leaf=0.0,\n",
        "           n_estimators=8, n_jobs=2, oob_score=False, random_state=None,\n",
        "           verbose=0, warm_start=False)"
       ]
      }
     ],
     "prompt_number": 7
    },
    {
     "cell_type": "code",
     "collapsed": false,
     "input": [
      "%store -r __prepare_submission"
     ],
     "language": "python",
     "metadata": {},
     "outputs": [
      {
       "metadata": {},
       "output_type": "pyout",
       "prompt_number": 24,
       "text": [
        "IPython.macro.Macro(u'def prepare_submission(model, predictors, aliases, output):\\n    \"\"\"A helper to prepare sumbission file\\n    Args:\\n        model - anything implementing predict\\n        predictors - ordered list of the predictors used for the model\\n        aliases - dictionary of predictors of the model and their names in data\\n        output - csv file name\\n    \"\"\"\\n    # subset\\n\\n    X = all_data_33.loc[:,[aliases[colname] for colname in predictors]]\\n    # rename\\n    X.columns = predictors\\n    # predict\\n    y = sklRf.predict(X)\\n\\n    all_data_33[\"item_cnt_month\"] = y\\n    test = test_df.join(all_data_33.set_index([\"shop_id\",\"item_id\"]), on=[\"shop_id\",\"item_id\"]).fillna(0)\\n\\n    test = test.loc[:,[\\'ID\\', \\'item_cnt_month\\']]\\n    test.set_index(\"ID\", inplace=True)\\n    test[\"item_cnt_month\"] = test[\"item_cnt_month\"].round().astype(\"int64\")\\n\\n    # clip\\n    test[test.item_cnt_month>20] = 20\\n    # save\\n    test.to_csv(output)\\n')"
       ]
      }
     ],
     "prompt_number": 24
    },
    {
     "cell_type": "code",
     "collapsed": false,
     "input": [
      "__prepare_submission"
     ],
     "language": "python",
     "metadata": {},
     "outputs": [],
     "prompt_number": 32
    },
    {
     "cell_type": "code",
     "collapsed": false,
     "input": [
      "aliases = \\\n",
      "{\"target_lag_1\":          \"target\",\n",
      " \"item_target_enc_lag_1\": \"item_target_enc\",\n",
      " \"shop_target_enc_lag_1\": \"shop_target_enc\"}\n",
      "\n",
      "prepare_submission(sklRf, predictors, aliases, \"skl_rf_test.csv\")"
     ],
     "language": "python",
     "metadata": {},
     "outputs": [],
     "prompt_number": 31
    },
    {
     "cell_type": "code",
     "collapsed": false,
     "input": [
      "sklGbt = GradientBoostingRegressor(n_estimators=8, learning_rate=0.1, max_depth=8, random_state=0, loss='ls')\n",
      "\n",
      "# fit the model\n",
      "sklGbt.fit(all_data[predictors], target)"
     ],
     "language": "python",
     "metadata": {},
     "outputs": [
      {
       "metadata": {},
       "output_type": "pyout",
       "prompt_number": 33,
       "text": [
        "GradientBoostingRegressor(alpha=0.9, criterion='friedman_mse', init=None,\n",
        "             learning_rate=0.1, loss='ls', max_depth=8, max_features=None,\n",
        "             max_leaf_nodes=None, min_impurity_decrease=0.0,\n",
        "             min_impurity_split=None, min_samples_leaf=1,\n",
        "             min_samples_split=2, min_weight_fraction_leaf=0.0,\n",
        "             n_estimators=8, n_iter_no_change=None, presort='auto',\n",
        "             random_state=0, subsample=1.0, tol=0.0001,\n",
        "             validation_fraction=0.1, verbose=0, warm_start=False)"
       ]
      }
     ],
     "prompt_number": 33
    },
    {
     "cell_type": "code",
     "collapsed": false,
     "input": [
      "prepare_submission(sklGbt, predictors, aliases, \"skl_gbt_test.csv\")"
     ],
     "language": "python",
     "metadata": {},
     "outputs": [],
     "prompt_number": 35
    },
    {
     "cell_type": "code",
     "collapsed": false,
     "input": [
      "sklRf  = RandomForestRegressor(n_estimators=32, max_features=1, n_jobs=2) #len(predictors)/2\n",
      "sklRf.fit(all_data[predictors], target)"
     ],
     "language": "python",
     "metadata": {},
     "outputs": [
      {
       "metadata": {},
       "output_type": "pyout",
       "prompt_number": 36,
       "text": [
        "RandomForestRegressor(bootstrap=True, criterion='mse', max_depth=None,\n",
        "           max_features=1, max_leaf_nodes=None, min_impurity_decrease=0.0,\n",
        "           min_impurity_split=None, min_samples_leaf=1,\n",
        "           min_samples_split=2, min_weight_fraction_leaf=0.0,\n",
        "           n_estimators=32, n_jobs=2, oob_score=False, random_state=None,\n",
        "           verbose=0, warm_start=False)"
       ]
      }
     ],
     "prompt_number": 36
    },
    {
     "cell_type": "code",
     "collapsed": false,
     "input": [
      "prepare_submission(sklRf, predictors, aliases, \"skl_rf_test2.csv\")"
     ],
     "language": "python",
     "metadata": {},
     "outputs": [],
     "prompt_number": 37
    },
    {
     "cell_type": "code",
     "collapsed": false,
     "input": [
      "sklGbt = GradientBoostingRegressor(n_estimators=32, learning_rate=0.1, max_depth=8, random_state=0, loss='ls')\n",
      "sklGbt.fit(all_data[predictors], target)"
     ],
     "language": "python",
     "metadata": {},
     "outputs": [
      {
       "metadata": {},
       "output_type": "pyout",
       "prompt_number": 38,
       "text": [
        "GradientBoostingRegressor(alpha=0.9, criterion='friedman_mse', init=None,\n",
        "             learning_rate=0.1, loss='ls', max_depth=8, max_features=None,\n",
        "             max_leaf_nodes=None, min_impurity_decrease=0.0,\n",
        "             min_impurity_split=None, min_samples_leaf=1,\n",
        "             min_samples_split=2, min_weight_fraction_leaf=0.0,\n",
        "             n_estimators=32, n_iter_no_change=None, presort='auto',\n",
        "             random_state=0, subsample=1.0, tol=0.0001,\n",
        "             validation_fraction=0.1, verbose=0, warm_start=False)"
       ]
      }
     ],
     "prompt_number": 38
    },
    {
     "cell_type": "code",
     "collapsed": false,
     "input": [
      "prepare_submission(sklGbt, predictors, aliases, \"skl_gbt_test2.csv\")"
     ],
     "language": "python",
     "metadata": {},
     "outputs": [],
     "prompt_number": 39
    },
    {
     "cell_type": "code",
     "collapsed": false,
     "input": [
      "sklRf  = RandomForestRegressor(n_estimators=128, max_features=1, n_jobs=2) #len(predictors)/2\n",
      "sklRf.fit(all_data[predictors], target)\n",
      "prepare_submission(sklRf, predictors, aliases, \"skl_rf_test3.csv\")"
     ],
     "language": "python",
     "metadata": {},
     "outputs": [],
     "prompt_number": 40
    },
    {
     "cell_type": "code",
     "collapsed": false,
     "input": [
      "#import math\n",
      "#math.sqrt( mean_squared_error(testSet[['ptTrueInv']].values.ravel(), 1./sklRfTest)"
     ],
     "language": "python",
     "metadata": {},
     "outputs": []
    }
   ],
   "metadata": {}
  }
 ]
}