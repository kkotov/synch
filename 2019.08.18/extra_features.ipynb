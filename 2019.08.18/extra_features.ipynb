{
 "metadata": {
  "name": "",
  "signature": "sha256:e621c165fcf4d15f19ef6e7d99abed0111c5dcb98ebd80ea03eb2f0097a678df"
 },
 "nbformat": 3,
 "nbformat_minor": 0,
 "worksheets": [
  {
   "cells": [
    {
     "cell_type": "code",
     "collapsed": false,
     "input": [
      "import pandas as pd\n",
      "train_df = pd.read_csv(\"../sales_train.csv.gz\")\n",
      "test_df  = pd.read_csv(\"../test.csv.gz\")"
     ],
     "language": "python",
     "metadata": {},
     "outputs": [],
     "prompt_number": 1
    },
    {
     "cell_type": "code",
     "collapsed": false,
     "input": [
      "%store -r __prepare_data"
     ],
     "language": "python",
     "metadata": {},
     "outputs": [],
     "prompt_number": 2
    },
    {
     "cell_type": "code",
     "collapsed": false,
     "input": [
      "__prepare_data"
     ],
     "language": "python",
     "metadata": {},
     "outputs": [],
     "prompt_number": 3
    },
    {
     "cell_type": "code",
     "collapsed": false,
     "input": [
      "all_data = all_data[all_data.date_block_num > 0] # no lags before time 0\n",
      "all_data.fillna(0, inplace=True)\n",
      "print(all_data.isnull().values.any())"
     ],
     "language": "python",
     "metadata": {},
     "outputs": [
      {
       "output_type": "stream",
       "stream": "stdout",
       "text": [
        "False\n"
       ]
      }
     ],
     "prompt_number": 4
    },
    {
     "cell_type": "code",
     "collapsed": false,
     "input": [
      "from sklearn.ensemble import RandomForestRegressor, GradientBoostingRegressor\n",
      "from sklearn.metrics import mean_squared_error\n",
      "from sklearn.model_selection import train_test_split"
     ],
     "language": "python",
     "metadata": {},
     "outputs": [],
     "prompt_number": 5
    },
    {
     "cell_type": "code",
     "collapsed": false,
     "input": [
      "predictors = [\"target_lag_1\",\"item_target_enc_lag_1\",\"shop_target_enc_lag_1\"] #,\n",
      "                             #\"item_target_enc_ave\",  \"shop_target_enc_ave\"]\n",
      "target = all_data.target.values\n",
      "target[target>20] = 20\n",
      "#X_train, X_test, y_train, y_test = train_test_split(X, y, test_size=1, random_state=321)"
     ],
     "language": "python",
     "metadata": {},
     "outputs": [],
     "prompt_number": 9
    },
    {
     "cell_type": "code",
     "collapsed": false,
     "input": [
      "model  = RandomForestRegressor(n_estimators=32, max_features=2, n_jobs=2) #len(predictors)/2\n",
      "model.fit(all_data[predictors], target)"
     ],
     "language": "python",
     "metadata": {},
     "outputs": [
      {
       "metadata": {},
       "output_type": "pyout",
       "prompt_number": 10,
       "text": [
        "RandomForestRegressor(bootstrap=True, criterion='mse', max_depth=None,\n",
        "           max_features=2, max_leaf_nodes=None, min_impurity_decrease=0.0,\n",
        "           min_impurity_split=None, min_samples_leaf=1,\n",
        "           min_samples_split=2, min_weight_fraction_leaf=0.0,\n",
        "           n_estimators=32, n_jobs=2, oob_score=False, random_state=None,\n",
        "           verbose=0, warm_start=False)"
       ]
      }
     ],
     "prompt_number": 10
    },
    {
     "cell_type": "code",
     "collapsed": false,
     "input": [
      "from sklearn.model_selection import cross_validate\n",
      "cv = cross_validate(model, all_data[predictors], target,\n",
      "                                  cv=10, n_jobs=2, verbose=10)"
     ],
     "language": "python",
     "metadata": {},
     "outputs": []
    },
    {
     "cell_type": "code",
     "collapsed": false,
     "input": [
      "%store -r __prepare_submission"
     ],
     "language": "python",
     "metadata": {},
     "outputs": [],
     "prompt_number": 9
    },
    {
     "cell_type": "code",
     "collapsed": false,
     "input": [
      "__prepare_submission"
     ],
     "language": "python",
     "metadata": {},
     "outputs": [],
     "prompt_number": 10
    },
    {
     "cell_type": "code",
     "collapsed": false,
     "input": [
      "aliases = \\\n",
      "{\"target_lag_1\":          \"target\",\n",
      " \"item_target_enc_lag_1\": \"item_target_enc\",\n",
      " \"shop_target_enc_lag_1\": \"shop_target_enc\"}\n",
      "\n",
      "prepare_submission(sklRf, predictors, aliases, \"skl_rf_test.csv\")"
     ],
     "language": "python",
     "metadata": {},
     "outputs": [],
     "prompt_number": 31
    },
    {
     "cell_type": "code",
     "collapsed": false,
     "input": [
      "all_data.columns\n",
      "#import math\n",
      "#math.sqrt( mean_squared_error(testSet[['ptTrueInv']].values.ravel(), 1./sklRfTest)"
     ],
     "language": "python",
     "metadata": {},
     "outputs": [
      {
       "metadata": {},
       "output_type": "pyout",
       "prompt_number": 8,
       "text": [
        "Index([u'shop_id', u'item_id', u'date_block_num', u'target', u'item_cnt_day',\n",
        "       u'target_lag_1', u'target_lag_2', u'target_lag_3', u'target_lag_4',\n",
        "       u'target_lag_5', u'item_target_enc', u'item_target_enc_lag_1',\n",
        "       u'shop_target_enc', u'shop_target_enc_lag_1'],\n",
        "      dtype='object')"
       ]
      }
     ],
     "prompt_number": 8
    },
    {
     "cell_type": "code",
     "collapsed": false,
     "input": [],
     "language": "python",
     "metadata": {},
     "outputs": []
    }
   ],
   "metadata": {}
  }
 ]
}