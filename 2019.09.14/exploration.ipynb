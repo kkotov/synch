{
 "cells": [
  {
   "cell_type": "code",
   "execution_count": 1,
   "metadata": {},
   "outputs": [],
   "source": [
    "import pandas as pd\n",
    "import numpy as np\n",
    "\n",
    "train_df = pd.read_csv(\"../sales_train.csv.gz\")\n",
    "test_df  = pd.read_csv(\"../test.csv.gz\")\n",
    "\n",
    "categories = pd.read_csv('../item_categories.csv')\n",
    "items = pd.read_csv('../items.csv')"
   ]
  },
  {
   "cell_type": "code",
   "execution_count": 2,
   "metadata": {},
   "outputs": [],
   "source": [
    "%store -r __prepare_data"
   ]
  },
  {
   "cell_type": "code",
   "execution_count": 3,
   "metadata": {},
   "outputs": [
    {
     "name": "stdout",
     "output_type": "stream",
     "text": [
      "RMSE: 0.913456\n",
      "CPU times: user 37min 36s, sys: 1min 18s, total: 38min 55s\n",
      "Wall time: 12min\n"
     ]
    }
   ],
   "source": [
    "%%time\n",
    "__prepare_data"
   ]
  },
  {
   "cell_type": "code",
   "execution_count": 11,
   "metadata": {},
   "outputs": [],
   "source": [
    "X_train = train[train.date_block_num <  33][predictors]\n",
    "X_valid = train[train.date_block_num == 33][predictors]\n",
    "y_train = train[train.date_block_num <  33].target\n",
    "y_valid = train[train.date_block_num == 33].target"
   ]
  },
  {
   "cell_type": "code",
   "execution_count": 12,
   "metadata": {},
   "outputs": [
    {
     "name": "stdout",
     "output_type": "stream",
     "text": [
      "RMSE: 0.965149\n",
      "CPU times: user 30min 16s, sys: 28.1 s, total: 30min 44s\n",
      "Wall time: 8min 17s\n"
     ]
    }
   ],
   "source": [
    "%%time\n",
    "from sklearn.metrics import mean_squared_error\n",
    "from sklearn.ensemble import RandomForestRegressor\n",
    "\n",
    "model1 = RandomForestRegressor(n_estimators=64, max_features=3, n_jobs=4)\n",
    "model1.fit(X_train, y_train)\n",
    "ypred = model1.predict(X_valid)\n",
    "rmse = np.sqrt(mean_squared_error(y_valid, ypred))\n",
    "print(\"RMSE: %f\" % (rmse))"
   ]
  },
  {
   "cell_type": "code",
   "execution_count": 25,
   "metadata": {},
   "outputs": [
    {
     "name": "stdout",
     "output_type": "stream",
     "text": [
      "RMSE: 0.966271\n"
     ]
    }
   ],
   "source": [
    "%%time\n",
    "model3 = RandomForestRegressor(n_estimators=128, max_features=4, n_jobs=4)\n",
    "model3.fit(X_train, y_train)\n",
    "ypred = model3.predict(X_valid)\n",
    "rmse = np.sqrt(mean_squared_error(y_valid, ypred))\n",
    "print(\"RMSE: %f\" % (rmse))"
   ]
  },
  {
   "cell_type": "code",
   "execution_count": 18,
   "metadata": {},
   "outputs": [],
   "source": [
    "predictors_old = [\"target_lag_1\",\n",
    "              \"total_monthly_item_sales_lag_1\",\n",
    "              \"total_monthly_shop_sales_lag_1\",\n",
    "              \"total_monthly_shop_category_sales_lag_1\",\n",
    "              \"total_monthly_shop_supercategory_sales_lag_1\",\n",
    "              \"total_monthly_supercategory_sales_lag_1\"\n",
    "             ]\n",
    "\n",
    "X_train_old = train[train.date_block_num <  33][predictors_old]\n",
    "X_valid_old = train[train.date_block_num == 33][predictors_old]\n",
    "y_train_old = train[train.date_block_num <  33].target\n",
    "y_valid_old = train[train.date_block_num == 33].target"
   ]
  },
  {
   "cell_type": "code",
   "execution_count": 24,
   "metadata": {},
   "outputs": [
    {
     "name": "stdout",
     "output_type": "stream",
     "text": [
      "RMSE: 0.979642\n"
     ]
    }
   ],
   "source": [
    "%%time\n",
    "model5 = RandomForestRegressor(n_estimators=64, max_features=3, n_jobs=4)\n",
    "model5.fit(X_train_old, y_train_old)\n",
    "ypred = model5.predict(X_valid_old)\n",
    "rmse = np.sqrt(mean_squared_error(y_valid_old, ypred))\n",
    "print(\"RMSE: %f\" % (rmse))"
   ]
  },
  {
   "cell_type": "code",
   "execution_count": 22,
   "metadata": {},
   "outputs": [
    {
     "name": "stdout",
     "output_type": "stream",
     "text": [
      "name                                              score\n",
      "total_monthly_item_sales_lag_1                0.42063\n",
      "total_monthly_shop_category_sales_lag_1       0.191807\n",
      "total_monthly_shop_sales_lag_1                0.108511\n",
      "target_lag_1                                  0.105677\n",
      "total_monthly_shop_supercategory_sales_lag_1  0.0914071\n",
      "total_monthly_supercategory_sales_lag_1       0.0819669\n"
     ]
    }
   ],
   "source": [
    "from tabulate import tabulate\n",
    "headers = [\"name\", \"score\"]\n",
    "values = sorted(zip(X_valid_old.columns, model5.feature_importances_), key=lambda x: x[1] * -1)\n",
    "print(tabulate(values, headers, tablefmt=\"plain\"))"
   ]
  },
  {
   "cell_type": "markdown",
   "metadata": {},
   "source": [
    "# Trying out XGBoost"
   ]
  },
  {
   "cell_type": "code",
   "execution_count": 29,
   "metadata": {},
   "outputs": [
    {
     "name": "stdout",
     "output_type": "stream",
     "text": [
      "[21:29:40] WARNING: src/objective/regression_obj.cu:152: reg:linear is now deprecated in favor of reg:squarederror.\n",
      "[21:29:40] WARNING: src/learner.cc:686: Tree method is automatically selected to be 'approx' for faster speed. To use old behavior (exact greedy algorithm on single machine), set tree_method to 'exact'.\n",
      "[0]\tvalidation_0-rmse:1.16779\tvalidation_1-rmse:1.12782\n",
      "Multiple eval metrics have been passed: 'validation_1-rmse' will be used for early stopping.\n",
      "\n",
      "Will train until validation_1-rmse hasn't improved in 10 rounds.\n",
      "[1]\tvalidation_0-rmse:1.12554\tvalidation_1-rmse:1.09952\n",
      "[2]\tvalidation_0-rmse:1.09204\tvalidation_1-rmse:1.07708\n",
      "[3]\tvalidation_0-rmse:1.06798\tvalidation_1-rmse:1.05756\n",
      "[4]\tvalidation_0-rmse:1.04707\tvalidation_1-rmse:1.04123\n",
      "[5]\tvalidation_0-rmse:1.02984\tvalidation_1-rmse:1.02805\n",
      "[6]\tvalidation_0-rmse:1.01391\tvalidation_1-rmse:1.01735\n",
      "[7]\tvalidation_0-rmse:1.00475\tvalidation_1-rmse:1.0099\n",
      "[8]\tvalidation_0-rmse:0.99283\tvalidation_1-rmse:1.00225\n",
      "[9]\tvalidation_0-rmse:0.981569\tvalidation_1-rmse:0.995617\n",
      "[10]\tvalidation_0-rmse:0.975192\tvalidation_1-rmse:0.991731\n",
      "[11]\tvalidation_0-rmse:0.967521\tvalidation_1-rmse:0.987597\n",
      "[12]\tvalidation_0-rmse:0.96091\tvalidation_1-rmse:0.984229\n",
      "[13]\tvalidation_0-rmse:0.955281\tvalidation_1-rmse:0.981514\n",
      "[14]\tvalidation_0-rmse:0.950893\tvalidation_1-rmse:0.979096\n",
      "[15]\tvalidation_0-rmse:0.945057\tvalidation_1-rmse:0.977448\n",
      "[16]\tvalidation_0-rmse:0.942957\tvalidation_1-rmse:0.97596\n",
      "[17]\tvalidation_0-rmse:0.940028\tvalidation_1-rmse:0.9746\n",
      "[18]\tvalidation_0-rmse:0.938589\tvalidation_1-rmse:0.973498\n",
      "[19]\tvalidation_0-rmse:0.937294\tvalidation_1-rmse:0.972388\n",
      "[20]\tvalidation_0-rmse:0.935134\tvalidation_1-rmse:0.971652\n",
      "[21]\tvalidation_0-rmse:0.933248\tvalidation_1-rmse:0.9715\n",
      "[22]\tvalidation_0-rmse:0.932357\tvalidation_1-rmse:0.970839\n",
      "[23]\tvalidation_0-rmse:0.929967\tvalidation_1-rmse:0.970345\n",
      "[24]\tvalidation_0-rmse:0.92865\tvalidation_1-rmse:0.970198\n",
      "[25]\tvalidation_0-rmse:0.927443\tvalidation_1-rmse:0.969506\n",
      "[26]\tvalidation_0-rmse:0.92647\tvalidation_1-rmse:0.969239\n",
      "[27]\tvalidation_0-rmse:0.925362\tvalidation_1-rmse:0.969105\n",
      "[28]\tvalidation_0-rmse:0.924479\tvalidation_1-rmse:0.969353\n",
      "[29]\tvalidation_0-rmse:0.923954\tvalidation_1-rmse:0.969053\n",
      "[30]\tvalidation_0-rmse:0.92327\tvalidation_1-rmse:0.968826\n",
      "[31]\tvalidation_0-rmse:0.922444\tvalidation_1-rmse:0.968468\n",
      "[32]\tvalidation_0-rmse:0.921884\tvalidation_1-rmse:0.968164\n",
      "[33]\tvalidation_0-rmse:0.92126\tvalidation_1-rmse:0.967993\n",
      "[34]\tvalidation_0-rmse:0.920805\tvalidation_1-rmse:0.967975\n",
      "[35]\tvalidation_0-rmse:0.92032\tvalidation_1-rmse:0.968162\n",
      "[36]\tvalidation_0-rmse:0.919703\tvalidation_1-rmse:0.967972\n",
      "[37]\tvalidation_0-rmse:0.919295\tvalidation_1-rmse:0.968128\n",
      "[38]\tvalidation_0-rmse:0.919005\tvalidation_1-rmse:0.96808\n",
      "[39]\tvalidation_0-rmse:0.918673\tvalidation_1-rmse:0.968286\n",
      "[40]\tvalidation_0-rmse:0.918296\tvalidation_1-rmse:0.967849\n",
      "[41]\tvalidation_0-rmse:0.917922\tvalidation_1-rmse:0.967738\n",
      "[42]\tvalidation_0-rmse:0.917694\tvalidation_1-rmse:0.967739\n",
      "[43]\tvalidation_0-rmse:0.917549\tvalidation_1-rmse:0.967744\n",
      "[44]\tvalidation_0-rmse:0.917382\tvalidation_1-rmse:0.967603\n",
      "[45]\tvalidation_0-rmse:0.917151\tvalidation_1-rmse:0.967498\n",
      "[46]\tvalidation_0-rmse:0.916951\tvalidation_1-rmse:0.967543\n",
      "[47]\tvalidation_0-rmse:0.916786\tvalidation_1-rmse:0.967469\n",
      "[48]\tvalidation_0-rmse:0.91665\tvalidation_1-rmse:0.967368\n",
      "[49]\tvalidation_0-rmse:0.916388\tvalidation_1-rmse:0.967322\n",
      "[50]\tvalidation_0-rmse:0.916307\tvalidation_1-rmse:0.967288\n",
      "[51]\tvalidation_0-rmse:0.916206\tvalidation_1-rmse:0.967242\n",
      "[52]\tvalidation_0-rmse:0.916061\tvalidation_1-rmse:0.96727\n",
      "[53]\tvalidation_0-rmse:0.915923\tvalidation_1-rmse:0.967124\n",
      "[54]\tvalidation_0-rmse:0.915762\tvalidation_1-rmse:0.967247\n",
      "[55]\tvalidation_0-rmse:0.915661\tvalidation_1-rmse:0.967243\n",
      "[56]\tvalidation_0-rmse:0.915579\tvalidation_1-rmse:0.967128\n",
      "[57]\tvalidation_0-rmse:0.915392\tvalidation_1-rmse:0.967049\n",
      "[58]\tvalidation_0-rmse:0.915145\tvalidation_1-rmse:0.966857\n",
      "[59]\tvalidation_0-rmse:0.9151\tvalidation_1-rmse:0.966835\n",
      "[60]\tvalidation_0-rmse:0.914939\tvalidation_1-rmse:0.966821\n",
      "[61]\tvalidation_0-rmse:0.914874\tvalidation_1-rmse:0.966733\n",
      "[62]\tvalidation_0-rmse:0.914708\tvalidation_1-rmse:0.966815\n",
      "[63]\tvalidation_0-rmse:0.914518\tvalidation_1-rmse:0.966774\n",
      "[64]\tvalidation_0-rmse:0.914414\tvalidation_1-rmse:0.966768\n",
      "[65]\tvalidation_0-rmse:0.914279\tvalidation_1-rmse:0.966714\n",
      "[66]\tvalidation_0-rmse:0.914161\tvalidation_1-rmse:0.966367\n",
      "[67]\tvalidation_0-rmse:0.914053\tvalidation_1-rmse:0.966393\n",
      "[68]\tvalidation_0-rmse:0.914021\tvalidation_1-rmse:0.966359\n",
      "[69]\tvalidation_0-rmse:0.913909\tvalidation_1-rmse:0.966328\n",
      "[70]\tvalidation_0-rmse:0.913826\tvalidation_1-rmse:0.966284\n",
      "[71]\tvalidation_0-rmse:0.913737\tvalidation_1-rmse:0.966235\n",
      "[72]\tvalidation_0-rmse:0.913605\tvalidation_1-rmse:0.966211\n",
      "[73]\tvalidation_0-rmse:0.913427\tvalidation_1-rmse:0.966162\n",
      "[74]\tvalidation_0-rmse:0.91336\tvalidation_1-rmse:0.966155\n",
      "[75]\tvalidation_0-rmse:0.913311\tvalidation_1-rmse:0.96617\n",
      "[76]\tvalidation_0-rmse:0.91329\tvalidation_1-rmse:0.966157\n",
      "[77]\tvalidation_0-rmse:0.913235\tvalidation_1-rmse:0.96609\n",
      "[78]\tvalidation_0-rmse:0.913215\tvalidation_1-rmse:0.966068\n",
      "[79]\tvalidation_0-rmse:0.912978\tvalidation_1-rmse:0.966007\n",
      "[80]\tvalidation_0-rmse:0.912966\tvalidation_1-rmse:0.966024\n",
      "[81]\tvalidation_0-rmse:0.91292\tvalidation_1-rmse:0.966014\n",
      "[82]\tvalidation_0-rmse:0.912853\tvalidation_1-rmse:0.965982\n",
      "[83]\tvalidation_0-rmse:0.912777\tvalidation_1-rmse:0.965962\n",
      "[84]\tvalidation_0-rmse:0.912748\tvalidation_1-rmse:0.965917\n",
      "[85]\tvalidation_0-rmse:0.912705\tvalidation_1-rmse:0.965942\n",
      "[86]\tvalidation_0-rmse:0.912628\tvalidation_1-rmse:0.965954\n",
      "[87]\tvalidation_0-rmse:0.912545\tvalidation_1-rmse:0.965913\n",
      "[88]\tvalidation_0-rmse:0.912469\tvalidation_1-rmse:0.965896\n",
      "[89]\tvalidation_0-rmse:0.912449\tvalidation_1-rmse:0.965894\n",
      "[90]\tvalidation_0-rmse:0.912425\tvalidation_1-rmse:0.965852\n",
      "[91]\tvalidation_0-rmse:0.912395\tvalidation_1-rmse:0.96584\n",
      "[92]\tvalidation_0-rmse:0.912327\tvalidation_1-rmse:0.965734\n",
      "[93]\tvalidation_0-rmse:0.912271\tvalidation_1-rmse:0.965763\n",
      "[94]\tvalidation_0-rmse:0.912239\tvalidation_1-rmse:0.96577\n",
      "[95]\tvalidation_0-rmse:0.912146\tvalidation_1-rmse:0.965721\n",
      "[96]\tvalidation_0-rmse:0.912034\tvalidation_1-rmse:0.965703\n",
      "[97]\tvalidation_0-rmse:0.912027\tvalidation_1-rmse:0.96571\n",
      "[98]\tvalidation_0-rmse:0.912006\tvalidation_1-rmse:0.965733\n",
      "[99]\tvalidation_0-rmse:0.911974\tvalidation_1-rmse:0.965708\n",
      "[100]\tvalidation_0-rmse:0.911896\tvalidation_1-rmse:0.965661\n",
      "[101]\tvalidation_0-rmse:0.911876\tvalidation_1-rmse:0.965634\n",
      "[102]\tvalidation_0-rmse:0.911843\tvalidation_1-rmse:0.965625\n",
      "[103]\tvalidation_0-rmse:0.911805\tvalidation_1-rmse:0.965582\n",
      "[104]\tvalidation_0-rmse:0.911727\tvalidation_1-rmse:0.96556\n",
      "[105]\tvalidation_0-rmse:0.911682\tvalidation_1-rmse:0.965558\n",
      "[106]\tvalidation_0-rmse:0.911661\tvalidation_1-rmse:0.96555\n",
      "[107]\tvalidation_0-rmse:0.911598\tvalidation_1-rmse:0.965511\n",
      "[108]\tvalidation_0-rmse:0.911587\tvalidation_1-rmse:0.965494\n",
      "[109]\tvalidation_0-rmse:0.911424\tvalidation_1-rmse:0.965632\n",
      "[110]\tvalidation_0-rmse:0.911369\tvalidation_1-rmse:0.96562\n",
      "[111]\tvalidation_0-rmse:0.91125\tvalidation_1-rmse:0.965625\n",
      "[112]\tvalidation_0-rmse:0.911223\tvalidation_1-rmse:0.965625\n",
      "[113]\tvalidation_0-rmse:0.911191\tvalidation_1-rmse:0.965634\n",
      "[114]\tvalidation_0-rmse:0.911016\tvalidation_1-rmse:0.965539\n",
      "[115]\tvalidation_0-rmse:0.910997\tvalidation_1-rmse:0.965521\n",
      "[116]\tvalidation_0-rmse:0.910969\tvalidation_1-rmse:0.965467\n",
      "[117]\tvalidation_0-rmse:0.91095\tvalidation_1-rmse:0.965473\n",
      "[118]\tvalidation_0-rmse:0.910821\tvalidation_1-rmse:0.965397\n",
      "[119]\tvalidation_0-rmse:0.910804\tvalidation_1-rmse:0.965386\n",
      "[120]\tvalidation_0-rmse:0.910736\tvalidation_1-rmse:0.965365\n",
      "[121]\tvalidation_0-rmse:0.910698\tvalidation_1-rmse:0.965305\n",
      "[122]\tvalidation_0-rmse:0.910675\tvalidation_1-rmse:0.965309\n",
      "[123]\tvalidation_0-rmse:0.91059\tvalidation_1-rmse:0.965239\n",
      "[124]\tvalidation_0-rmse:0.910556\tvalidation_1-rmse:0.965214\n",
      "[125]\tvalidation_0-rmse:0.910454\tvalidation_1-rmse:0.96532\n",
      "[126]\tvalidation_0-rmse:0.910398\tvalidation_1-rmse:0.965272\n",
      "[127]\tvalidation_0-rmse:0.910382\tvalidation_1-rmse:0.965256\n",
      "[128]\tvalidation_0-rmse:0.910266\tvalidation_1-rmse:0.965224\n",
      "[129]\tvalidation_0-rmse:0.910244\tvalidation_1-rmse:0.965208\n",
      "[130]\tvalidation_0-rmse:0.910206\tvalidation_1-rmse:0.965115\n",
      "[131]\tvalidation_0-rmse:0.910199\tvalidation_1-rmse:0.965237\n"
     ]
    },
    {
     "name": "stdout",
     "output_type": "stream",
     "text": [
      "[132]\tvalidation_0-rmse:0.910167\tvalidation_1-rmse:0.9651\n",
      "[133]\tvalidation_0-rmse:0.910149\tvalidation_1-rmse:0.965117\n",
      "[134]\tvalidation_0-rmse:0.910124\tvalidation_1-rmse:0.965149\n",
      "[135]\tvalidation_0-rmse:0.9101\tvalidation_1-rmse:0.965154\n",
      "[136]\tvalidation_0-rmse:0.91009\tvalidation_1-rmse:0.965161\n",
      "[137]\tvalidation_0-rmse:0.910075\tvalidation_1-rmse:0.965136\n",
      "[138]\tvalidation_0-rmse:0.910053\tvalidation_1-rmse:0.96515\n",
      "[139]\tvalidation_0-rmse:0.909992\tvalidation_1-rmse:0.965164\n",
      "[140]\tvalidation_0-rmse:0.909976\tvalidation_1-rmse:0.965136\n",
      "[141]\tvalidation_0-rmse:0.909922\tvalidation_1-rmse:0.96504\n",
      "[142]\tvalidation_0-rmse:0.909896\tvalidation_1-rmse:0.965105\n",
      "[143]\tvalidation_0-rmse:0.909885\tvalidation_1-rmse:0.96513\n",
      "[144]\tvalidation_0-rmse:0.909853\tvalidation_1-rmse:0.965133\n",
      "[145]\tvalidation_0-rmse:0.909834\tvalidation_1-rmse:0.965138\n",
      "[146]\tvalidation_0-rmse:0.909794\tvalidation_1-rmse:0.965124\n",
      "[147]\tvalidation_0-rmse:0.909787\tvalidation_1-rmse:0.965144\n",
      "[148]\tvalidation_0-rmse:0.909705\tvalidation_1-rmse:0.965104\n",
      "[149]\tvalidation_0-rmse:0.909581\tvalidation_1-rmse:0.965098\n",
      "[150]\tvalidation_0-rmse:0.909547\tvalidation_1-rmse:0.965075\n",
      "[151]\tvalidation_0-rmse:0.90953\tvalidation_1-rmse:0.965075\n",
      "Stopping. Best iteration:\n",
      "[141]\tvalidation_0-rmse:0.909922\tvalidation_1-rmse:0.96504\n",
      "\n"
     ]
    },
    {
     "data": {
      "text/plain": [
       "XGBRegressor(base_score=0.5, booster='gbtree', colsample_bylevel=1,\n",
       "             colsample_bynode=1, colsample_bytree=0.8, eta=0.3, gamma=0,\n",
       "             importance_type='gain', learning_rate=0.1, max_delta_step=0,\n",
       "             max_depth=8, min_child_weight=300, missing=None, n_estimators=1000,\n",
       "             n_jobs=4, nthread=None, objective='reg:linear', random_state=0,\n",
       "             reg_alpha=0, reg_lambda=1, scale_pos_weight=1, seed=42,\n",
       "             silent=None, subsample=0.8, verbosity=1)"
      ]
     },
     "execution_count": 29,
     "metadata": {},
     "output_type": "execute_result"
    }
   ],
   "source": [
    "%%time\n",
    "from xgboost import XGBRegressor\n",
    "\n",
    "xmodel = XGBRegressor(\n",
    "    max_depth=8,\n",
    "    n_estimators=1000,\n",
    "    min_child_weight=300, \n",
    "    colsample_bytree=0.8, \n",
    "    subsample=0.8, \n",
    "    eta=0.3,\n",
    "    n_jobs=4,\n",
    "    seed=42)\n",
    "\n",
    "xmodel.fit(\n",
    "    X_train, \n",
    "    y_train, \n",
    "    eval_metric=\"rmse\", \n",
    "    eval_set=[(X_train, y_train), (X_valid, y_valid)], \n",
    "    verbose=True, \n",
    "    early_stopping_rounds = 10)"
   ]
  },
  {
   "cell_type": "code",
   "execution_count": 30,
   "metadata": {},
   "outputs": [
    {
     "name": "stdout",
     "output_type": "stream",
     "text": [
      "RMSE: 0.964996\n"
     ]
    }
   ],
   "source": [
    "ypred = xmodel.predict(X_valid)\n",
    "rmse = np.sqrt(mean_squared_error(y_valid, ypred))\n",
    "print(\"RMSE: %f\" % (rmse))"
   ]
  },
  {
   "cell_type": "code",
   "execution_count": 31,
   "metadata": {},
   "outputs": [],
   "source": [
    "month_34 = all_data[all_data.date_block_num == 34].fillna(0)\n",
    "month_34['item_cnt_month'] = xmodel.predict(month_34[predictors])\n",
    "test = pd.merge(test_df,month_34, on=[\"shop_id\",\"item_id\"]).fillna(0)\n",
    "\n",
    "test = test.loc[:,['ID', 'item_cnt_month']]\n",
    "test.set_index(\"ID\", inplace=True)\n",
    "test[\"item_cnt_month\"] = test[\"item_cnt_month\"].round().astype(\"int64\")\n",
    "\n",
    "test[test.item_cnt_month>20] = 20\n",
    "test.to_csv(\"macro2_xgb.csv\")"
   ]
  },
  {
   "cell_type": "code",
   "execution_count": null,
   "metadata": {},
   "outputs": [],
   "source": []
  }
 ],
 "metadata": {
  "kernelspec": {
   "display_name": "Python 3",
   "language": "python",
   "name": "python3"
  },
  "language_info": {
   "codemirror_mode": {
    "name": "ipython",
    "version": 3
   },
   "file_extension": ".py",
   "mimetype": "text/x-python",
   "name": "python",
   "nbconvert_exporter": "python",
   "pygments_lexer": "ipython3",
   "version": "3.7.4"
  }
 },
 "nbformat": 4,
 "nbformat_minor": 2
}
