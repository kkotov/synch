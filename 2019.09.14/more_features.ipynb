{
 "cells": [
  {
   "cell_type": "code",
   "execution_count": 3,
   "metadata": {},
   "outputs": [],
   "source": [
    "import pandas as pd\n",
    "train_df = pd.read_csv(\"../sales_train.csv.gz\")\n",
    "test_df  = pd.read_csv(\"../test.csv.gz\")\n",
    "categories = pd.read_csv('../item_categories.csv')\n",
    "items = pd.read_csv('../items.csv')"
   ]
  },
  {
   "cell_type": "code",
   "execution_count": 4,
   "metadata": {},
   "outputs": [],
   "source": [
    "%store -r __prepare_data"
   ]
  },
  {
   "cell_type": "code",
   "execution_count": 5,
   "metadata": {},
   "outputs": [],
   "source": [
    "__prepare_data"
   ]
  },
  {
   "cell_type": "code",
   "execution_count": 6,
   "metadata": {},
   "outputs": [],
   "source": [
    "%store -r __add_categories"
   ]
  },
  {
   "cell_type": "code",
   "execution_count": 7,
   "metadata": {},
   "outputs": [],
   "source": [
    "__add_categories"
   ]
  },
  {
   "cell_type": "code",
   "execution_count": 9,
   "metadata": {},
   "outputs": [
    {
     "name": "stdout",
     "output_type": "stream",
     "text": [
      "False\n"
     ]
    }
   ],
   "source": [
    "all_data = all_data[all_data.date_block_num > 1] # no lags before time 1\n",
    "all_data.fillna(0, inplace=True)\n",
    "print(all_data.isnull().values.any())"
   ]
  },
  {
   "cell_type": "code",
   "execution_count": 11,
   "metadata": {},
   "outputs": [],
   "source": [
    "from sklearn.model_selection import train_test_split\n",
    "\n",
    "target = all_data.target.values\n",
    "target[target>20] = 20\n",
    "\n",
    "predictors = [\"target_lag_1\",\"item_target_enc_lag_1\",\"shop_target_enc_lag_1\",\n",
    "                             \"item_target_enc_ave\",  \"shop_target_enc_ave\",\n",
    "             \"item_cat_target_enc_lag_1\", \"shop_item_cat_target_enc_lag_1\",\n",
    "              \"shop_super_cat_target_enc_lag_1\",\"super_cat_target_enc_lag_1\"\n",
    "             ]\n",
    "\n",
    "X_train, X_test, y_train, y_test = \\\n",
    "    train_test_split(all_data[predictors], target, test_size=0.2, random_state=123)"
   ]
  },
  {
   "cell_type": "code",
   "execution_count": 12,
   "metadata": {},
   "outputs": [
    {
     "name": "stdout",
     "output_type": "stream",
     "text": [
      "RMSE: 0.729407\n"
     ]
    }
   ],
   "source": [
    "from sklearn.metrics import mean_squared_error\n",
    "from sklearn.ensemble import RandomForestRegressor\n",
    "\n",
    "model2 = RandomForestRegressor(n_estimators=64, max_features=3, n_jobs=6) #len(predictors)/2\n",
    "model2.fit(X_train, y_train)\n",
    "ypred = model2.predict(X_test)\n",
    "rmse = np.sqrt(mean_squared_error(y_test, ypred))\n",
    "print(\"RMSE: %f\" % (rmse))"
   ]
  },
  {
   "cell_type": "code",
   "execution_count": 13,
   "metadata": {},
   "outputs": [
    {
     "data": {
      "text/plain": [
       "RandomForestRegressor(bootstrap=True, criterion='mse', max_depth=None,\n",
       "                      max_features=3, max_leaf_nodes=None,\n",
       "                      min_impurity_decrease=0.0, min_impurity_split=None,\n",
       "                      min_samples_leaf=1, min_samples_split=2,\n",
       "                      min_weight_fraction_leaf=0.0, n_estimators=64, n_jobs=6,\n",
       "                      oob_score=False, random_state=None, verbose=0,\n",
       "                      warm_start=False)"
      ]
     },
     "execution_count": 13,
     "metadata": {},
     "output_type": "execute_result"
    }
   ],
   "source": [
    "from sklearn.ensemble import RandomForestRegressor\n",
    "full_model = RandomForestRegressor(n_estimators=64, max_features=3, n_jobs=6) #len(predictors)/2\n",
    "full_model.fit(all_data[predictors], target)"
   ]
  },
  {
   "cell_type": "code",
   "execution_count": 1,
   "metadata": {},
   "outputs": [],
   "source": [
    "%store -r __prepare_submission"
   ]
  },
  {
   "cell_type": "code",
   "execution_count": 15,
   "metadata": {},
   "outputs": [],
   "source": [
    "__prepare_submission"
   ]
  },
  {
   "cell_type": "code",
   "execution_count": 27,
   "metadata": {},
   "outputs": [],
   "source": [
    "aliases = \\\n",
    "{\"target_lag_1\":          \"target\",\n",
    " \"item_target_enc_lag_1\": \"item_target_enc\",\n",
    " \"shop_target_enc_lag_1\": \"shop_target_enc\",\n",
    " \"item_target_enc_ave\":   \"item_target_enc_ave\",\n",
    " \"shop_target_enc_ave\":   \"shop_target_enc_ave\",\n",
    " \"item_cat_target_enc_lag_1\":      \"item_cat_target_enc\",\n",
    " \"shop_item_cat_target_enc_lag_1\": \"shop_item_cat_target_enc\",\n",
    " \"shop_super_cat_target_enc_lag_1\":\"shop_super_cat_target_enc\",\n",
    " \"super_cat_target_enc_lag_1\":     \"super_cat_target_enc\"\n",
    "}\n",
    "all_data_33.fillna(0, inplace=True)\n",
    "prepare_submission(full_model, predictors, aliases, \"more_features.csv\")"
   ]
  },
  {
   "cell_type": "code",
   "execution_count": 28,
   "metadata": {},
   "outputs": [
    {
     "name": "stdout",
     "output_type": "stream",
     "text": [
      "name                                 score\n",
      "target_lag_1                     0.27163\n",
      "item_target_enc_ave              0.232063\n",
      "item_target_enc_lag_1            0.15347\n",
      "shop_item_cat_target_enc_lag_1   0.0850627\n",
      "item_cat_target_enc_lag_1        0.0606884\n",
      "shop_super_cat_target_enc_lag_1  0.0574929\n",
      "super_cat_target_enc_lag_1       0.0529111\n",
      "shop_target_enc_lag_1            0.0478585\n",
      "shop_target_enc_ave              0.038824\n"
     ]
    }
   ],
   "source": [
    "from tabulate import tabulate\n",
    "headers = [\"name\", \"score\"]\n",
    "values = sorted(zip(X_test.columns, full_model.feature_importances_), key=lambda x: x[1] * -1)\n",
    "print(tabulate(values, headers, tablefmt=\"plain\"))"
   ]
  },
  {
   "cell_type": "code",
   "execution_count": 17,
   "metadata": {},
   "outputs": [],
   "source": [
    "predictors = [\"date_block_num\", \"shop_id\", \"item_id\"] + \\\n",
    "             [\"target_lag_1\",\n",
    "              \"item_target_enc_lag_1\",\n",
    "              \"shop_target_enc_lag_1\",\n",
    "              \"shop_item_cat_target_enc_lag_1\",\n",
    "              \"shop_super_cat_target_enc_lag_1\",\n",
    "              \"super_cat_target_enc_lag_1\"\n",
    "             ]\n",
    "#all_data[predictors].to_csv(\"alt.csv\")"
   ]
  },
  {
   "cell_type": "code",
   "execution_count": 18,
   "metadata": {},
   "outputs": [
    {
     "data": {
      "text/html": [
       "<div>\n",
       "<style scoped>\n",
       "    .dataframe tbody tr th:only-of-type {\n",
       "        vertical-align: middle;\n",
       "    }\n",
       "\n",
       "    .dataframe tbody tr th {\n",
       "        vertical-align: top;\n",
       "    }\n",
       "\n",
       "    .dataframe thead th {\n",
       "        text-align: right;\n",
       "    }\n",
       "</style>\n",
       "<table border=\"1\" class=\"dataframe\">\n",
       "  <thead>\n",
       "    <tr style=\"text-align: right;\">\n",
       "      <th></th>\n",
       "      <th>date_block_num</th>\n",
       "      <th>shop_id</th>\n",
       "      <th>item_id</th>\n",
       "      <th>target_lag_1</th>\n",
       "      <th>item_target_enc_lag_1</th>\n",
       "      <th>shop_target_enc_lag_1</th>\n",
       "      <th>shop_item_cat_target_enc_lag_1</th>\n",
       "      <th>shop_super_cat_target_enc_lag_1</th>\n",
       "      <th>super_cat_target_enc_lag_1</th>\n",
       "    </tr>\n",
       "  </thead>\n",
       "  <tbody>\n",
       "    <tr>\n",
       "      <th>10913845</th>\n",
       "      <td>33</td>\n",
       "      <td>59</td>\n",
       "      <td>22162</td>\n",
       "      <td>0.0</td>\n",
       "      <td>0.162791</td>\n",
       "      <td>0.179744</td>\n",
       "      <td>0.109834</td>\n",
       "      <td>0.112623</td>\n",
       "      <td>0.197367</td>\n",
       "    </tr>\n",
       "    <tr>\n",
       "      <th>10913846</th>\n",
       "      <td>33</td>\n",
       "      <td>59</td>\n",
       "      <td>22163</td>\n",
       "      <td>0.0</td>\n",
       "      <td>0.465116</td>\n",
       "      <td>0.179744</td>\n",
       "      <td>0.109834</td>\n",
       "      <td>0.112623</td>\n",
       "      <td>0.197367</td>\n",
       "    </tr>\n",
       "    <tr>\n",
       "      <th>10913847</th>\n",
       "      <td>33</td>\n",
       "      <td>59</td>\n",
       "      <td>22164</td>\n",
       "      <td>0.0</td>\n",
       "      <td>0.209302</td>\n",
       "      <td>0.179744</td>\n",
       "      <td>0.131965</td>\n",
       "      <td>0.112623</td>\n",
       "      <td>0.197367</td>\n",
       "    </tr>\n",
       "    <tr>\n",
       "      <th>10913848</th>\n",
       "      <td>33</td>\n",
       "      <td>59</td>\n",
       "      <td>22166</td>\n",
       "      <td>0.0</td>\n",
       "      <td>0.116279</td>\n",
       "      <td>0.179744</td>\n",
       "      <td>0.000000</td>\n",
       "      <td>0.033943</td>\n",
       "      <td>0.189629</td>\n",
       "    </tr>\n",
       "    <tr>\n",
       "      <th>10913849</th>\n",
       "      <td>33</td>\n",
       "      <td>59</td>\n",
       "      <td>22167</td>\n",
       "      <td>0.0</td>\n",
       "      <td>0.488372</td>\n",
       "      <td>0.179744</td>\n",
       "      <td>0.024390</td>\n",
       "      <td>0.033943</td>\n",
       "      <td>0.189629</td>\n",
       "    </tr>\n",
       "  </tbody>\n",
       "</table>\n",
       "</div>"
      ],
      "text/plain": [
       "          date_block_num  shop_id  item_id  target_lag_1  \\\n",
       "10913845              33       59    22162           0.0   \n",
       "10913846              33       59    22163           0.0   \n",
       "10913847              33       59    22164           0.0   \n",
       "10913848              33       59    22166           0.0   \n",
       "10913849              33       59    22167           0.0   \n",
       "\n",
       "          item_target_enc_lag_1  shop_target_enc_lag_1  \\\n",
       "10913845               0.162791               0.179744   \n",
       "10913846               0.465116               0.179744   \n",
       "10913847               0.209302               0.179744   \n",
       "10913848               0.116279               0.179744   \n",
       "10913849               0.488372               0.179744   \n",
       "\n",
       "          shop_item_cat_target_enc_lag_1  shop_super_cat_target_enc_lag_1  \\\n",
       "10913845                        0.109834                         0.112623   \n",
       "10913846                        0.109834                         0.112623   \n",
       "10913847                        0.131965                         0.112623   \n",
       "10913848                        0.000000                         0.033943   \n",
       "10913849                        0.024390                         0.033943   \n",
       "\n",
       "          super_cat_target_enc_lag_1  \n",
       "10913845                    0.197367  \n",
       "10913846                    0.197367  \n",
       "10913847                    0.197367  \n",
       "10913848                    0.189629  \n",
       "10913849                    0.189629  "
      ]
     },
     "execution_count": 18,
     "metadata": {},
     "output_type": "execute_result"
    }
   ],
   "source": [
    "all_data[predictors].tail()"
   ]
  },
  {
   "cell_type": "code",
   "execution_count": null,
   "metadata": {},
   "outputs": [],
   "source": []
  }
 ],
 "metadata": {
  "kernelspec": {
   "display_name": "Python 3",
   "language": "python",
   "name": "python3"
  },
  "language_info": {
   "codemirror_mode": {
    "name": "ipython",
    "version": 3
   },
   "file_extension": ".py",
   "mimetype": "text/x-python",
   "name": "python",
   "nbconvert_exporter": "python",
   "pygments_lexer": "ipython3",
   "version": "3.7.4"
  }
 },
 "nbformat": 4,
 "nbformat_minor": 1
}
