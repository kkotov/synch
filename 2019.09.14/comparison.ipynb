{
 "cells": [
  {
   "cell_type": "code",
   "execution_count": 1,
   "metadata": {},
   "outputs": [],
   "source": [
    "import pandas as pd\n",
    "import numpy as np"
   ]
  },
  {
   "cell_type": "code",
   "execution_count": 2,
   "metadata": {},
   "outputs": [],
   "source": [
    "all_data = pd.read_pickle(\"../data.pkl\")\n",
    "all_data_33 = all_data[all_data.date_block_num == 34]\n",
    "all_data = all_data[all_data.date_block_num < 34]\n",
    "test_df  = pd.read_csv(\"../test.csv.gz\")"
   ]
  },
  {
   "cell_type": "code",
   "execution_count": 3,
   "metadata": {},
   "outputs": [],
   "source": [
    "from sklearn.model_selection import train_test_split\n",
    "\n",
    "target = all_data.item_cnt_month.values\n",
    "target[target>20] = 20\n",
    "\n",
    "predictors = ['item_cnt_month_lag_1',         # \"target_lag_1\"\n",
    "              'date_item_avg_item_cnt_lag_1', # \"item_target_enc_lag_1\",\n",
    "              'date_shop_avg_item_cnt_lag_1', # \"shop_target_enc_lag_1\",\n",
    "                                              # \"item_target_enc_ave\",  \"shop_target_enc_ave\",\n",
    "                                              # \"item_cat_target_enc_lag_1\", \n",
    "              'date_shop_cat_avg_item_cnt_lag_1',  # \"shop_item_cat_target_enc_lag_1\",\n",
    "              'date_shop_type_avg_item_cnt_lag_1', # \"shop_super_cat_target_enc_lag_1\",\n",
    "              'date_type_avg_item_cnt_lag_1'  # \"super_cat_target_enc_lag_1\"\n",
    "             ]\n",
    "\n",
    "X_train, X_test, y_train, y_test = \\\n",
    "    train_test_split(all_data[predictors], target, test_size=0.2, random_state=123)"
   ]
  },
  {
   "cell_type": "code",
   "execution_count": 4,
   "metadata": {},
   "outputs": [],
   "source": [
    "all_data[predictors].to_csv(\"ref.csv\")"
   ]
  },
  {
   "cell_type": "code",
   "execution_count": 5,
   "metadata": {},
   "outputs": [
    {
     "name": "stdout",
     "output_type": "stream",
     "text": [
      "RMSE: 0.909246\n"
     ]
    }
   ],
   "source": [
    "from sklearn.metrics import mean_squared_error\n",
    "from sklearn.ensemble import RandomForestRegressor\n",
    "\n",
    "model2 = RandomForestRegressor(n_estimators=64, max_features=3, n_jobs=6) #len(predictors)/2\n",
    "model2.fit(X_train, y_train)\n",
    "ypred = model2.predict(X_test)\n",
    "rmse = np.sqrt(mean_squared_error(y_test, ypred))\n",
    "print(\"RMSE: %f\" % (rmse))"
   ]
  },
  {
   "cell_type": "code",
   "execution_count": 6,
   "metadata": {},
   "outputs": [
    {
     "data": {
      "text/plain": [
       "RandomForestRegressor(bootstrap=True, criterion='mse', max_depth=None,\n",
       "                      max_features=3, max_leaf_nodes=None,\n",
       "                      min_impurity_decrease=0.0, min_impurity_split=None,\n",
       "                      min_samples_leaf=1, min_samples_split=2,\n",
       "                      min_weight_fraction_leaf=0.0, n_estimators=64, n_jobs=6,\n",
       "                      oob_score=False, random_state=None, verbose=0,\n",
       "                      warm_start=False)"
      ]
     },
     "execution_count": 6,
     "metadata": {},
     "output_type": "execute_result"
    }
   ],
   "source": [
    "from sklearn.ensemble import RandomForestRegressor\n",
    "full_model = RandomForestRegressor(n_estimators=64, max_features=3, n_jobs=6) #len(predictors)/2\n",
    "full_model.fit(all_data[predictors], target)"
   ]
  },
  {
   "cell_type": "code",
   "execution_count": 7,
   "metadata": {},
   "outputs": [],
   "source": [
    "%store -r __prepare_submission"
   ]
  },
  {
   "cell_type": "code",
   "execution_count": 8,
   "metadata": {},
   "outputs": [],
   "source": [
    "__prepare_submission"
   ]
  },
  {
   "cell_type": "code",
   "execution_count": 9,
   "metadata": {},
   "outputs": [],
   "source": [
    "aliases = \\\n",
    "{\"item_cnt_month_lag_1\":          \"item_cnt_month_lag_1\",\n",
    " \"date_item_avg_item_cnt_lag_1\":  \"date_item_avg_item_cnt_lag_1\",\n",
    " \"date_shop_avg_item_cnt_lag_1\":  \"date_shop_avg_item_cnt_lag_1\",\n",
    " \"date_shop_cat_avg_item_cnt_lag_1\": \"date_shop_cat_avg_item_cnt_lag_1\",\n",
    " \"date_shop_type_avg_item_cnt_lag_1\":\"date_shop_type_avg_item_cnt_lag_1\",\n",
    " \"date_type_avg_item_cnt_lag_1\":  \"date_type_avg_item_cnt_lag_1\"\n",
    "}\n",
    "\n",
    "prepare_submission(full_model, predictors, aliases, \"comparison_rf.csv\")"
   ]
  },
  {
   "cell_type": "code",
   "execution_count": 10,
   "metadata": {},
   "outputs": [
    {
     "name": "stdout",
     "output_type": "stream",
     "text": [
      "name                                   score\n",
      "item_cnt_month_lag_1               0.35118\n",
      "date_item_avg_item_cnt_lag_1       0.260171\n",
      "date_shop_cat_avg_item_cnt_lag_1   0.146621\n",
      "date_shop_type_avg_item_cnt_lag_1  0.084455\n",
      "date_shop_avg_item_cnt_lag_1       0.0837268\n",
      "date_type_avg_item_cnt_lag_1       0.0738454\n"
     ]
    }
   ],
   "source": [
    "from tabulate import tabulate\n",
    "headers = [\"name\", \"score\"]\n",
    "values = sorted(zip(X_test.columns, full_model.feature_importances_), key=lambda x: x[1] * -1)\n",
    "print(tabulate(values, headers, tablefmt=\"plain\"))"
   ]
  },
  {
   "cell_type": "markdown",
   "metadata": {},
   "source": [
    "This is bullshit! Using less predictors from his cleaner data I got 5% better results on the leaderboard."
   ]
  }
 ],
 "metadata": {
  "kernelspec": {
   "display_name": "Python 3",
   "language": "python",
   "name": "python3"
  },
  "language_info": {
   "codemirror_mode": {
    "name": "ipython",
    "version": 3
   },
   "file_extension": ".py",
   "mimetype": "text/x-python",
   "name": "python",
   "nbconvert_exporter": "python",
   "pygments_lexer": "ipython3",
   "version": "3.7.4"
  }
 },
 "nbformat": 4,
 "nbformat_minor": 2
}
