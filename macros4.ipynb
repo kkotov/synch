{
 "cells": [
  {
   "cell_type": "markdown",
   "metadata": {},
   "source": [
    "# Prepare data"
   ]
  },
  {
   "cell_type": "code",
   "execution_count": 1,
   "metadata": {},
   "outputs": [],
   "source": [
    "import pandas as pd\n",
    "\n",
    "train_df = pd.read_csv(\"./sales_train.csv.gz\")\n",
    "test_df  = pd.read_csv(\"./test.csv.gz\")\n",
    "\n",
    "categories = pd.read_csv('./item_categories.csv')\n",
    "items = pd.read_csv('./items.csv')\n",
    "shops = pd.read_csv('./shops.csv')"
   ]
  },
  {
   "cell_type": "markdown",
   "metadata": {},
   "source": [
    "Build scafold grid indexed by all combinatinos of shops and items observed every month"
   ]
  },
  {
   "cell_type": "code",
   "execution_count": 2,
   "metadata": {},
   "outputs": [],
   "source": [
    "import pandas as pd\n",
    "import numpy as np\n",
    "from itertools import product\n",
    "\n",
    "# create grid of all possible shops and items remembered to be sold there\n",
    "grid = []\n",
    "for date_block_num in train_df[\"date_block_num\"].unique():\n",
    "    all_item_ids = train_df[train_df.date_block_num==date_block_num][\"item_id\"].unique()\n",
    "    all_shop_ids = train_df[train_df.date_block_num==date_block_num][\"shop_id\"].unique()\n",
    "    grid.append( np.array(list(product(*[all_item_ids, all_shop_ids, [date_block_num]]))) )\n",
    "\n",
    "grid = pd.DataFrame(np.vstack(grid), columns = [\"item_id\", \"shop_id\", \"date_block_num\"], dtype=\"int32\")"
   ]
  },
  {
   "cell_type": "markdown",
   "metadata": {},
   "source": [
    "Augment the grid with counts of monthly sales from the training set and clip those to 20 as suggested"
   ]
  },
  {
   "cell_type": "code",
   "execution_count": 3,
   "metadata": {},
   "outputs": [],
   "source": [
    "agg = train_df.groupby([\"item_id\", \"shop_id\", \"date_block_num\"], as_index=False).agg({\"item_cnt_day\":\"sum\"})\n",
    "\n",
    "agg.columns = [\"item_id\", \"shop_id\", \"date_block_num\", \"target\"] # this is all that all_data will have for now!\n",
    "\n",
    "all_data = pd.merge(grid, agg, how=\"left\", on=[\"item_id\", \"shop_id\", \"date_block_num\"])\n",
    "all_data.sort_values(['date_block_num','shop_id','item_id'],inplace=True)\n",
    "\n",
    "all_data['date_block_num'] = all_data['date_block_num'].astype(np.int8)\n",
    "all_data['shop_id'] = all_data['shop_id'].astype(np.int8)\n",
    "all_data['item_id'] = all_data['item_id'].astype(np.int16)\n",
    "\n",
    "all_data['target'] = (all_data['target']\n",
    "                      .fillna(0)\n",
    "                      .clip(0,20) #### this is important to not having it here, why do we have it here?\n",
    "                      .astype(np.float16))"
   ]
  },
  {
   "cell_type": "markdown",
   "metadata": {},
   "source": [
    "Extend the data frame to the target month usgin shop/item combinations of interest from the test set"
   ]
  },
  {
   "cell_type": "code",
   "execution_count": 4,
   "metadata": {},
   "outputs": [],
   "source": [
    "test_df['date_block_num'] = 34\n",
    "test_df['target'] = 0.\n",
    "test_df['date_block_num'] = test_df['date_block_num'].astype(np.int8)\n",
    "test_df['shop_id'] = test_df['shop_id'].astype(np.int8)\n",
    "test_df['item_id'] = test_df['item_id'].astype(np.int16)\n",
    "all_data = pd.concat([all_data, test_df[['date_block_num','shop_id','item_id','target']]],\n",
    "                     ignore_index=True,\n",
    "                     sort=False,\n",
    "                     keys=['date_block_num','shop_id','item_id'])"
   ]
  },
  {
   "cell_type": "markdown",
   "metadata": {},
   "source": [
    "Handle categories"
   ]
  },
  {
   "cell_type": "code",
   "execution_count": 5,
   "metadata": {},
   "outputs": [],
   "source": [
    "from sklearn.preprocessing import LabelEncoder\n",
    "\n",
    "categories['split'] = categories['item_category_name'].str.split('-')\n",
    "categories['type'] = categories['split'].map(lambda x: x[0].strip())\n",
    "categories['type_code'] = LabelEncoder().fit_transform(categories['type'])\n",
    "\n",
    "categories['subtype'] = categories['split'].map(lambda x: x[1].strip() if len(x) > 1 else x[0].strip())\n",
    "categories['subtype_code'] = LabelEncoder().fit_transform(categories['subtype'])\n",
    "categories = categories[['item_category_id','type_code', 'subtype_code']]\n",
    "\n",
    "items = pd.merge(categories, items, how=\"right\", on=[\"item_category_id\"])\n",
    "\n",
    "all_data = pd.merge(all_data, items, how='left', on=['item_id'])\n",
    "all_data['item_category_id'] = all_data['item_category_id'].astype(np.int8)\n",
    "all_data['type_code'] = all_data['type_code'].astype(np.int8)\n",
    "all_data['subtype_code'] = all_data['subtype_code'].astype(np.int8)\n",
    "\n",
    "shops.loc[shops.shop_name == 'Сергиев Посад ТЦ \"7Я\"', 'shop_name'] = 'СергиевПосад ТЦ \"7Я\"'\n",
    "shops['city'] = shops['shop_name'].str.split(' ').map(lambda x: x[0])\n",
    "shops.loc[shops.city == '!Якутск', 'city'] = 'Якутск'\n",
    "shops['city_code'] = LabelEncoder().fit_transform(shops['city'])\n",
    "shops = shops[['shop_id','city_code']]\n",
    "\n",
    "all_data = pd.merge(all_data, shops, how='left', on=['shop_id'])\n",
    "all_data['city_code'] = all_data['city_code'].astype(np.int8)"
   ]
  },
  {
   "cell_type": "markdown",
   "metadata": {},
   "source": [
    "# Introduce mean encodings"
   ]
  },
  {
   "cell_type": "code",
   "execution_count": 6,
   "metadata": {},
   "outputs": [],
   "source": [
    "# remember, as long as month (\"date_block_num\") is in the groupby list, month #34 doesn't affect the means\n",
    "def add_encoded_target_mean(data, groupby, name):\n",
    "    aggregated_sales = data.groupby(groupby).target.mean()\n",
    "    aggregated_sales.name = name\n",
    "    return data.merge(aggregated_sales.reset_index(), how = \"left\", on = groupby)"
   ]
  },
  {
   "cell_type": "code",
   "execution_count": 7,
   "metadata": {},
   "outputs": [],
   "source": [
    "# total sales for a month\n",
    "all_data = add_encoded_target_mean(all_data, [\"date_block_num\"], \"total_monthly_sales\")\n",
    "\n",
    "# total sales for a month per shop\n",
    "all_data = add_encoded_target_mean(all_data, [\"date_block_num\", \"shop_id\"], \"total_monthly_shop_sales\")\n",
    "\n",
    "# total sales for a month per item\n",
    "all_data = add_encoded_target_mean(all_data, [\"date_block_num\", \"item_id\"], \"total_monthly_item_sales\")\n",
    "\n",
    "# total sales for a month per category\n",
    "all_data = add_encoded_target_mean(all_data, [\"date_block_num\", \"item_category_id\"], \"total_monthly_category_sales\")\n",
    "\n",
    "# total sales for a month per supercategory\n",
    "all_data = add_encoded_target_mean(all_data, [\"date_block_num\", \"type_code\"], \"total_monthly_supercategory_sales\")\n",
    "\n",
    "# total sales for a month per subcategory\n",
    "all_data = add_encoded_target_mean(all_data, [\"date_block_num\", \"subtype_code\"], \"total_monthly_subcategory_sales\")\n",
    "\n",
    "# total sales for a month per category in a shop\n",
    "all_data = add_encoded_target_mean(all_data, [\"date_block_num\", \"item_category_id\", \"shop_id\"], \"total_monthly_shop_category_sales\")\n",
    "\n",
    "# total sales for a month per supercategory in a shop\n",
    "all_data = add_encoded_target_mean(all_data, [\"date_block_num\", \"type_code\", \"shop_id\"], \"total_monthly_shop_supercategory_sales\")\n",
    "\n",
    "# total sales for a month per subcategory in a shop\n",
    "all_data = add_encoded_target_mean(all_data, [\"date_block_num\", \"subtype_code\", \"shop_id\"], \"total_monthly_shop_subcategory_sales\")"
   ]
  },
  {
   "cell_type": "code",
   "execution_count": 8,
   "metadata": {},
   "outputs": [],
   "source": [
    "all_data = add_encoded_target_mean(all_data, ['date_block_num', 'city_code'], \"total_monthly_city_sales\")\n",
    "\n",
    "all_data = add_encoded_target_mean(all_data, ['date_block_num', 'item_id', 'city_code'], \"total_monthly_city_item_sales\")"
   ]
  },
  {
   "cell_type": "code",
   "execution_count": 9,
   "metadata": {},
   "outputs": [],
   "source": [
    "# of course, average item_price doesn't care for closed shops, but averaging must be done on non-exploded view!\n",
    "group = train_df.groupby(['item_id']).agg({'item_price': 'mean'})\n",
    "group.columns = ['item_avg_item_price']\n",
    "group.reset_index(inplace=True)\n",
    "\n",
    "# now merge that back into the all_data\n",
    "all_data = pd.merge(all_data, group, how='left', on=['item_id'])\n",
    "all_data['item_avg_item_price'] = all_data['item_avg_item_price'].astype(np.float16)\n",
    "\n",
    "group = train_df.groupby(['date_block_num','item_id']).agg({'item_price': 'mean'})\n",
    "group.columns = ['date_item_avg_item_price']\n",
    "group.reset_index(inplace=True)\n",
    "\n",
    "# merge that back into the all_data again\n",
    "all_data = pd.merge(all_data, group, how='left', on=['date_block_num','item_id'])\n",
    "all_data['item_avg_item_price'] = all_data['item_avg_item_price'].astype(np.float16)"
   ]
  },
  {
   "cell_type": "markdown",
   "metadata": {},
   "source": [
    "# Introduce lags"
   ]
  },
  {
   "cell_type": "code",
   "execution_count": 10,
   "metadata": {},
   "outputs": [],
   "source": [
    "def construct_lags(data, lags, columns):\n",
    "    index = [\"date_block_num\", \"shop_id\", \"item_id\"]\n",
    "    lagged_data = []\n",
    "    for l in lags:\n",
    "        lag = data[index + columns].copy()\n",
    "        lag.columns = index + [col+\"_lag_\"+str(l) for col in columns]\n",
    "        lag[\"date_block_num\"] += l\n",
    "        lagged_data.append(lag)\n",
    "\n",
    "    if not lags:\n",
    "        return data[[\"date_block_num\"]]\n",
    "    \n",
    "    retval = lagged_data.pop()\n",
    "\n",
    "    for l in lagged_data:\n",
    "        retval = pd.merge(retval, l, how='outer', on=index)\n",
    "\n",
    "    return retval.fillna(0) # non-existing lags are set to 0"
   ]
  },
  {
   "cell_type": "code",
   "execution_count": 11,
   "metadata": {},
   "outputs": [],
   "source": [
    "trg_lags = construct_lags(all_data, [1,2,3,6,12], [\"target\"]) # item_cnt_month_lag\n",
    "\n",
    "mean_lags = construct_lags(all_data,\n",
    "                          [1],\n",
    "                          [\"total_monthly_sales\",                     # date_avg_item_cnt      # just one lag is used\n",
    "                           \"total_monthly_category_sales\",            # date_cat_avg_item_cnt  # only one lag used\n",
    "                           \"total_monthly_supercategory_sales\",       # date_type_avg_item_cnt # dropped\n",
    "                           \"total_monthly_subcategory_sales\",         # date_subtype_avg_item_cnt      # dropped\n",
    "                           \"total_monthly_shop_category_sales\",       # date_shop_cat_avg_item_cnt     # single lag\n",
    "                           \"total_monthly_shop_supercategory_sales\",  # date_shop_type_avg_item_cnt    # dropped\n",
    "                           \"total_monthly_shop_subcategory_sales\",    # date_shop_subtype_avg_item_cnt # dropped\n",
    "                           \"total_monthly_city_sales\",\n",
    "                           \"total_monthly_city_item_sales\"\n",
    "                          ])\n",
    "\n",
    "mean_lags_2 = construct_lags(all_data,\n",
    "                          [1,2,3,6,12],\n",
    "                          [\"total_monthly_shop_sales\",\n",
    "                           \"total_monthly_item_sales\"\n",
    "                          ])\n",
    "\n",
    "all_data = pd.merge(all_data, trg_lags,  how='left', on=['date_block_num','shop_id','item_id'])\n",
    "all_data = pd.merge(all_data, mean_lags, how='left', on=['date_block_num','shop_id','item_id'])\n",
    "all_data = pd.merge(all_data, mean_lags_2, how='left', on=['date_block_num','shop_id','item_id'])"
   ]
  },
  {
   "cell_type": "code",
   "execution_count": 12,
   "metadata": {},
   "outputs": [],
   "source": [
    "from sklearn.model_selection import train_test_split\n",
    "\n",
    "train = all_data[(all_data.date_block_num>11)&(all_data.date_block_num<33)].fillna(0) # reduced traning set\n",
    "\n",
    "predictors = [\n",
    "    'date_block_num',\n",
    "    'shop_id',\n",
    "    'item_id',\n",
    "    'city_code',\n",
    "    'item_category_id',\n",
    "    'type_code',\n",
    "    'subtype_code',\n",
    "    \"target_lag_1\",\n",
    "    \"target_lag_2\",\n",
    "    \"target_lag_3\",\n",
    "    \"target_lag_6\",\n",
    "    \"target_lag_12\",\n",
    "    \"total_monthly_sales_lag_1\",\n",
    "    \"total_monthly_shop_sales_lag_1\",\n",
    "    \"total_monthly_shop_sales_lag_2\",\n",
    "    \"total_monthly_shop_sales_lag_3\",\n",
    "    \"total_monthly_shop_sales_lag_6\",\n",
    "    \"total_monthly_shop_sales_lag_12\",\n",
    "    \"total_monthly_item_sales_lag_1\",\n",
    "    \"total_monthly_item_sales_lag_2\",\n",
    "    \"total_monthly_item_sales_lag_3\",\n",
    "    \"total_monthly_item_sales_lag_6\",\n",
    "    \"total_monthly_item_sales_lag_12\",\n",
    "    \"total_monthly_category_sales_lag_1\",\n",
    "    \"total_monthly_supercategory_sales_lag_1\",\n",
    "    \"total_monthly_subcategory_sales_lag_1\",\n",
    "    \"total_monthly_shop_category_sales_lag_1\",\n",
    "    \"total_monthly_shop_supercategory_sales_lag_1\",    \n",
    "    \"total_monthly_shop_subcategory_sales_lag_1\",\n",
    "    \"total_monthly_city_sales_lag_1\",\n",
    "    \"total_monthly_city_item_sales_lag_1\"]\n",
    "\n",
    "X_train, X_test, y_train, y_test = \\\n",
    "    train_test_split(train[predictors], train.target, test_size=0.2, random_state=123)"
   ]
  },
  {
   "cell_type": "code",
   "execution_count": 13,
   "metadata": {},
   "outputs": [
    {
     "name": "stdout",
     "output_type": "stream",
     "text": [
      "RMSE: 0.764005\n"
     ]
    },
    {
     "data": {
      "text/plain": [
       "34"
      ]
     },
     "execution_count": 13,
     "metadata": {},
     "output_type": "execute_result"
    }
   ],
   "source": [
    "from sklearn.metrics import mean_squared_error\n",
    "from sklearn.ensemble import RandomForestRegressor\n",
    "\n",
    "model = RandomForestRegressor(n_estimators=64, max_features=3, n_jobs=6) #len(predictors)/2\n",
    "model.fit(X_train, y_train)\n",
    "\n",
    "ypred = model.predict(X_test)\n",
    "rmse = np.sqrt(mean_squared_error(y_test, ypred))\n",
    "print(\"RMSE: %f\" % (rmse))\n",
    "\n",
    "#from joblib import dump, load\n",
    "#joblib.dump(model2,\"model2.joblib\")\n",
    "del model\n",
    "import gc\n",
    "gc.collect()"
   ]
  },
  {
   "cell_type": "code",
   "execution_count": 14,
   "metadata": {},
   "outputs": [
    {
     "name": "stdout",
     "output_type": "stream",
     "text": [
      "CPU times: user 1h 8min 6s, sys: 44.5 s, total: 1h 8min 51s\n",
      "Wall time: 18min 51s\n"
     ]
    }
   ],
   "source": [
    "%%time\n",
    "from sklearn.ensemble import RandomForestRegressor\n",
    "full_model = RandomForestRegressor(n_estimators=64, max_features=6, n_jobs=6, random_state=123) #len(predictors)/2\n",
    "full_model.fit(train[predictors], train.target)"
   ]
  },
  {
   "cell_type": "code",
   "execution_count": 15,
   "metadata": {},
   "outputs": [
    {
     "name": "stdout",
     "output_type": "stream",
     "text": [
      "name                                               score\n",
      "item_id                                       0.134211\n",
      "target_lag_1                                  0.11017\n",
      "total_monthly_city_item_sales_lag_1           0.090553\n",
      "total_monthly_item_sales_lag_1                0.0851329\n",
      "target_lag_2                                  0.0489116\n",
      "total_monthly_shop_subcategory_sales_lag_1    0.0405234\n",
      "date_block_num                                0.0401573\n",
      "total_monthly_shop_category_sales_lag_1       0.0379835\n",
      "shop_id                                       0.0375399\n",
      "total_monthly_item_sales_lag_2                0.0345937\n",
      "target_lag_3                                  0.0273318\n",
      "item_category_id                              0.0256391\n",
      "total_monthly_item_sales_lag_3                0.0227419\n",
      "total_monthly_shop_supercategory_sales_lag_1  0.0221762\n",
      "total_monthly_category_sales_lag_1            0.021263\n",
      "city_code                                     0.0201802\n",
      "total_monthly_shop_sales_lag_1                0.0193412\n",
      "total_monthly_subcategory_sales_lag_1         0.0192372\n",
      "total_monthly_shop_sales_lag_2                0.0172372\n",
      "subtype_code                                  0.0165165\n",
      "total_monthly_item_sales_lag_6                0.0155529\n",
      "total_monthly_supercategory_sales_lag_1       0.0145526\n",
      "total_monthly_city_sales_lag_1                0.0144226\n",
      "total_monthly_shop_sales_lag_3                0.014174\n",
      "target_lag_6                                  0.0120306\n",
      "total_monthly_sales_lag_1                     0.0117633\n",
      "total_monthly_item_sales_lag_12               0.0113258\n",
      "total_monthly_shop_sales_lag_6                0.0104943\n",
      "total_monthly_shop_sales_lag_12               0.00937857\n",
      "type_code                                     0.00836765\n",
      "target_lag_12                                 0.00649775\n"
     ]
    }
   ],
   "source": [
    "from tabulate import tabulate\n",
    "headers = [\"name\", \"score\"]\n",
    "values = sorted(zip(X_test.columns, full_model.feature_importances_), key=lambda x: x[1] * -1)\n",
    "print(tabulate(values, headers, tablefmt=\"plain\"))"
   ]
  },
  {
   "cell_type": "code",
   "execution_count": 16,
   "metadata": {},
   "outputs": [],
   "source": [
    "month_34 = all_data[all_data.date_block_num == 34].fillna(0)\n",
    "# here you some times feed your model with item_ids that it never saw!\n",
    "month_34['item_cnt_month'] = full_model.predict(month_34[predictors])\n",
    "test = pd.merge(test_df,month_34, on=[\"shop_id\",\"item_id\"]).fillna(0)\n",
    "\n",
    "test = test.loc[:,['ID', 'item_cnt_month']]\n",
    "test.set_index(\"ID\", inplace=True)\n",
    "test[\"item_cnt_month\"] = test[\"item_cnt_month\"] #.round().astype(\"int64\") do not round up, you are screwing RSS\n",
    "\n",
    "test[test.item_cnt_month>20] = 20\n",
    "test.to_csv(\"macro4_123.csv\")"
   ]
  },
  {
   "cell_type": "code",
   "execution_count": 17,
   "metadata": {},
   "outputs": [],
   "source": [
    "%macro -q __prepare_data_4 2-12"
   ]
  },
  {
   "cell_type": "code",
   "execution_count": 18,
   "metadata": {},
   "outputs": [
    {
     "name": "stdout",
     "output_type": "stream",
     "text": [
      "Stored '__prepare_data_4' (Macro)\n"
     ]
    }
   ],
   "source": [
    "%store __prepare_data_4"
   ]
  },
  {
   "cell_type": "code",
   "execution_count": 19,
   "metadata": {},
   "outputs": [],
   "source": [
    "all_data.to_pickle('all_data_4.pkl')"
   ]
  },
  {
   "cell_type": "code",
   "execution_count": 20,
   "metadata": {},
   "outputs": [
    {
     "data": {
      "text/html": [
       "<div>\n",
       "<style scoped>\n",
       "    .dataframe tbody tr th:only-of-type {\n",
       "        vertical-align: middle;\n",
       "    }\n",
       "\n",
       "    .dataframe tbody tr th {\n",
       "        vertical-align: top;\n",
       "    }\n",
       "\n",
       "    .dataframe thead th {\n",
       "        text-align: right;\n",
       "    }\n",
       "</style>\n",
       "<table border=\"1\" class=\"dataframe\">\n",
       "  <thead>\n",
       "    <tr style=\"text-align: right;\">\n",
       "      <th></th>\n",
       "      <th>item_id</th>\n",
       "      <th>shop_id</th>\n",
       "      <th>date_block_num</th>\n",
       "      <th>target</th>\n",
       "      <th>item_category_id</th>\n",
       "      <th>type_code</th>\n",
       "      <th>subtype_code</th>\n",
       "      <th>item_name</th>\n",
       "      <th>city_code</th>\n",
       "      <th>total_monthly_sales</th>\n",
       "      <th>total_monthly_shop_sales</th>\n",
       "      <th>total_monthly_item_sales</th>\n",
       "      <th>total_monthly_category_sales</th>\n",
       "      <th>total_monthly_supercategory_sales</th>\n",
       "      <th>total_monthly_subcategory_sales</th>\n",
       "      <th>total_monthly_shop_category_sales</th>\n",
       "      <th>total_monthly_shop_supercategory_sales</th>\n",
       "      <th>total_monthly_shop_subcategory_sales</th>\n",
       "      <th>total_monthly_city_sales</th>\n",
       "      <th>total_monthly_city_item_sales</th>\n",
       "      <th>item_avg_item_price</th>\n",
       "      <th>date_item_avg_item_price</th>\n",
       "      <th>target_lag_12</th>\n",
       "      <th>target_lag_1</th>\n",
       "      <th>target_lag_2</th>\n",
       "      <th>target_lag_3</th>\n",
       "      <th>target_lag_6</th>\n",
       "      <th>total_monthly_sales_lag_1</th>\n",
       "      <th>total_monthly_category_sales_lag_1</th>\n",
       "      <th>total_monthly_supercategory_sales_lag_1</th>\n",
       "      <th>total_monthly_subcategory_sales_lag_1</th>\n",
       "      <th>total_monthly_shop_category_sales_lag_1</th>\n",
       "      <th>total_monthly_shop_supercategory_sales_lag_1</th>\n",
       "      <th>total_monthly_shop_subcategory_sales_lag_1</th>\n",
       "      <th>total_monthly_city_sales_lag_1</th>\n",
       "      <th>total_monthly_city_item_sales_lag_1</th>\n",
       "      <th>total_monthly_shop_sales_lag_12</th>\n",
       "      <th>total_monthly_item_sales_lag_12</th>\n",
       "      <th>total_monthly_shop_sales_lag_1</th>\n",
       "      <th>total_monthly_item_sales_lag_1</th>\n",
       "      <th>total_monthly_shop_sales_lag_2</th>\n",
       "      <th>total_monthly_item_sales_lag_2</th>\n",
       "      <th>total_monthly_shop_sales_lag_3</th>\n",
       "      <th>total_monthly_item_sales_lag_3</th>\n",
       "      <th>total_monthly_shop_sales_lag_6</th>\n",
       "      <th>total_monthly_item_sales_lag_6</th>\n",
       "    </tr>\n",
       "  </thead>\n",
       "  <tbody>\n",
       "    <tr>\n",
       "      <th>4488756</th>\n",
       "      <td>27</td>\n",
       "      <td>2</td>\n",
       "      <td>12</td>\n",
       "      <td>0.0</td>\n",
       "      <td>19</td>\n",
       "      <td>5</td>\n",
       "      <td>10</td>\n",
       "      <td>007 Legends [PS3, русская версия]</td>\n",
       "      <td>0</td>\n",
       "      <td>0.311352</td>\n",
       "      <td>0.114289</td>\n",
       "      <td>0.021739</td>\n",
       "      <td>0.731211</td>\n",
       "      <td>0.734114</td>\n",
       "      <td>0.727291</td>\n",
       "      <td>0.762082</td>\n",
       "      <td>0.640468</td>\n",
       "      <td>0.716923</td>\n",
       "      <td>0.114289</td>\n",
       "      <td>0.0</td>\n",
       "      <td>1461.0</td>\n",
       "      <td>998.0</td>\n",
       "      <td>1.0</td>\n",
       "      <td>0.0</td>\n",
       "      <td>0.0</td>\n",
       "      <td>0.0</td>\n",
       "      <td>0.0</td>\n",
       "      <td>0.411253</td>\n",
       "      <td>1.082474</td>\n",
       "      <td>1.034303</td>\n",
       "      <td>1.075009</td>\n",
       "      <td>0.955326</td>\n",
       "      <td>0.808824</td>\n",
       "      <td>0.934844</td>\n",
       "      <td>0.1481</td>\n",
       "      <td>0.0</td>\n",
       "      <td>0.14122</td>\n",
       "      <td>0.155556</td>\n",
       "      <td>0.1481</td>\n",
       "      <td>0.086957</td>\n",
       "      <td>0.10063</td>\n",
       "      <td>0.044444</td>\n",
       "      <td>0.089066</td>\n",
       "      <td>0.130435</td>\n",
       "      <td>0.096014</td>\n",
       "      <td>0.065217</td>\n",
       "    </tr>\n",
       "  </tbody>\n",
       "</table>\n",
       "</div>"
      ],
      "text/plain": [
       "         item_id  shop_id  date_block_num  target  item_category_id  \\\n",
       "4488756       27        2              12     0.0                19   \n",
       "\n",
       "         type_code  subtype_code                          item_name  \\\n",
       "4488756          5            10  007 Legends [PS3, русская версия]   \n",
       "\n",
       "         city_code  total_monthly_sales  total_monthly_shop_sales  \\\n",
       "4488756          0             0.311352                  0.114289   \n",
       "\n",
       "         total_monthly_item_sales  total_monthly_category_sales  \\\n",
       "4488756                  0.021739                      0.731211   \n",
       "\n",
       "         total_monthly_supercategory_sales  total_monthly_subcategory_sales  \\\n",
       "4488756                           0.734114                         0.727291   \n",
       "\n",
       "         total_monthly_shop_category_sales  \\\n",
       "4488756                           0.762082   \n",
       "\n",
       "         total_monthly_shop_supercategory_sales  \\\n",
       "4488756                                0.640468   \n",
       "\n",
       "         total_monthly_shop_subcategory_sales  total_monthly_city_sales  \\\n",
       "4488756                              0.716923                  0.114289   \n",
       "\n",
       "         total_monthly_city_item_sales  item_avg_item_price  \\\n",
       "4488756                            0.0               1461.0   \n",
       "\n",
       "         date_item_avg_item_price  target_lag_12  target_lag_1  target_lag_2  \\\n",
       "4488756                     998.0            1.0           0.0           0.0   \n",
       "\n",
       "         target_lag_3  target_lag_6  total_monthly_sales_lag_1  \\\n",
       "4488756           0.0           0.0                   0.411253   \n",
       "\n",
       "         total_monthly_category_sales_lag_1  \\\n",
       "4488756                            1.082474   \n",
       "\n",
       "         total_monthly_supercategory_sales_lag_1  \\\n",
       "4488756                                 1.034303   \n",
       "\n",
       "         total_monthly_subcategory_sales_lag_1  \\\n",
       "4488756                               1.075009   \n",
       "\n",
       "         total_monthly_shop_category_sales_lag_1  \\\n",
       "4488756                                 0.955326   \n",
       "\n",
       "         total_monthly_shop_supercategory_sales_lag_1  \\\n",
       "4488756                                      0.808824   \n",
       "\n",
       "         total_monthly_shop_subcategory_sales_lag_1  \\\n",
       "4488756                                    0.934844   \n",
       "\n",
       "         total_monthly_city_sales_lag_1  total_monthly_city_item_sales_lag_1  \\\n",
       "4488756                          0.1481                                  0.0   \n",
       "\n",
       "         total_monthly_shop_sales_lag_12  total_monthly_item_sales_lag_12  \\\n",
       "4488756                          0.14122                         0.155556   \n",
       "\n",
       "         total_monthly_shop_sales_lag_1  total_monthly_item_sales_lag_1  \\\n",
       "4488756                          0.1481                        0.086957   \n",
       "\n",
       "         total_monthly_shop_sales_lag_2  total_monthly_item_sales_lag_2  \\\n",
       "4488756                         0.10063                        0.044444   \n",
       "\n",
       "         total_monthly_shop_sales_lag_3  total_monthly_item_sales_lag_3  \\\n",
       "4488756                        0.089066                        0.130435   \n",
       "\n",
       "         total_monthly_shop_sales_lag_6  total_monthly_item_sales_lag_6  \n",
       "4488756                        0.096014                        0.065217  "
      ]
     },
     "execution_count": 20,
     "metadata": {},
     "output_type": "execute_result"
    }
   ],
   "source": [
    "pd.set_option('display.max_columns', None)\n",
    "all_data[(all_data.date_block_num==12)&(all_data.shop_id==2)&(all_data.item_id==27)].head()"
   ]
  },
  {
   "cell_type": "code",
   "execution_count": 21,
   "metadata": {},
   "outputs": [],
   "source": [
    "# public score of 0.90543"
   ]
  },
  {
   "cell_type": "code",
   "execution_count": 13,
   "metadata": {},
   "outputs": [
    {
     "name": "stderr",
     "output_type": "stream",
     "text": [
      "/usr/local/Cellar/ipython/7.5.0/libexec/vendor/lib/python3.7/site-packages/ipykernel_launcher.py:2: FutureWarning: The signature of `Series.to_csv` was aligned to that of `DataFrame.to_csv`, and argument 'header' will change its default value from False to True: please pass an explicit value to suppress this warning.\n",
      "  \n"
     ]
    }
   ],
   "source": [
    "train[predictors].to_csv(\"X_train.csv\")\n",
    "train.target.to_csv(\"y_train.csv\")"
   ]
  },
  {
   "cell_type": "code",
   "execution_count": null,
   "metadata": {},
   "outputs": [],
   "source": []
  }
 ],
 "metadata": {
  "kernelspec": {
   "display_name": "Python 3",
   "language": "python",
   "name": "python3"
  },
  "language_info": {
   "codemirror_mode": {
    "name": "ipython",
    "version": 3
   },
   "file_extension": ".py",
   "mimetype": "text/x-python",
   "name": "python",
   "nbconvert_exporter": "python",
   "pygments_lexer": "ipython3",
   "version": "3.7.4"
  }
 },
 "nbformat": 4,
 "nbformat_minor": 1
}
