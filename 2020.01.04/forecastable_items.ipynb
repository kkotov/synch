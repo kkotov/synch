{
 "cells": [
  {
   "cell_type": "code",
   "execution_count": 1,
   "metadata": {},
   "outputs": [],
   "source": [
    "import pandas as pd\n",
    "import numpy as np\n",
    "\n",
    "import matplotlib.pyplot as plt\n",
    "%matplotlib inline\n",
    "\n",
    "# Load data\n",
    "train_df = pd.read_csv(\"../sales_train.csv.gz\")\n",
    "test_df  = pd.read_csv(\"../test.csv.gz\")\n",
    "\n",
    "categories = pd.read_csv('../item_categories.csv')\n",
    "items = pd.read_csv('../items.csv')\n",
    "shops = pd.read_csv('../shops.csv')"
   ]
  },
  {
   "cell_type": "code",
   "execution_count": 2,
   "metadata": {},
   "outputs": [],
   "source": [
    "%store -r __prepare_data_4"
   ]
  },
  {
   "cell_type": "code",
   "execution_count": 3,
   "metadata": {},
   "outputs": [
    {
     "name": "stdout",
     "output_type": "stream",
     "text": [
      "CPU times: user 3min, sys: 1min 55s, total: 4min 56s\n",
      "Wall time: 5min 13s\n"
     ]
    }
   ],
   "source": [
    "%%time\n",
    "__prepare_data_4"
   ]
  },
  {
   "cell_type": "code",
   "execution_count": 4,
   "metadata": {},
   "outputs": [
    {
     "name": "stdout",
     "output_type": "stream",
     "text": [
      "[36]\n",
      "{0, 1, 8, 9, 11, 13, 17, 20, 23, 27, 29, 30, 32, 33, 40, 43, 51, 54}\n"
     ]
    },
    {
     "data": {
      "text/html": [
       "<div>\n",
       "<style scoped>\n",
       "    .dataframe tbody tr th:only-of-type {\n",
       "        vertical-align: middle;\n",
       "    }\n",
       "\n",
       "    .dataframe tbody tr th {\n",
       "        vertical-align: top;\n",
       "    }\n",
       "\n",
       "    .dataframe thead th {\n",
       "        text-align: right;\n",
       "    }\n",
       "</style>\n",
       "<table border=\"1\" class=\"dataframe\">\n",
       "  <thead>\n",
       "    <tr style=\"text-align: right;\">\n",
       "      <th></th>\n",
       "      <th>date_block_num</th>\n",
       "      <th>total_monthly_shop_sales</th>\n",
       "    </tr>\n",
       "  </thead>\n",
       "  <tbody>\n",
       "    <tr>\n",
       "      <th>0</th>\n",
       "      <td>33</td>\n",
       "      <td>0.060964</td>\n",
       "    </tr>\n",
       "    <tr>\n",
       "      <th>1</th>\n",
       "      <td>34</td>\n",
       "      <td>0.000000</td>\n",
       "    </tr>\n",
       "  </tbody>\n",
       "</table>\n",
       "</div>"
      ],
      "text/plain": [
       "   date_block_num  total_monthly_shop_sales\n",
       "0              33                  0.060964\n",
       "1              34                  0.000000"
      ]
     },
     "execution_count": 4,
     "metadata": {},
     "output_type": "execute_result"
    }
   ],
   "source": [
    "# based on tables from 2019.11.16/trends_combined.ipynb I choose those shops to be taken out:\n",
    "closed_shops = [0, 1, 8, 9, 11, 13, 17, 20, 23,  27,  29, 30, 32, 33,  36,  40, 43, 54]\n",
    "\n",
    "# one of those, though, needs to be predicted (#36):\n",
    "print(test_df[test_df.shop_id.isin(closed_shops)].shop_id.unique())\n",
    "\n",
    "# and one of those (#51) does not (keep it for training anyways):\n",
    "print(set(all_data.shop_id.unique()).difference(test_df.shop_id.unique()))\n",
    "\n",
    "# this explains why shop #36 is not a good shop:\n",
    "(all_data[all_data.shop_id == 36]\n",
    "             .groupby([\"date_block_num\"])\n",
    "             .agg({'total_monthly_shop_sales': lambda x: np.NA if x.empty else x.iloc[0]})\n",
    "             .reset_index())"
   ]
  },
  {
   "cell_type": "code",
   "execution_count": 5,
   "metadata": {},
   "outputs": [],
   "source": [
    "from calendar import monthrange\n",
    "\n",
    "# January, 2013 is date_block_num==0\n",
    "timeline = pd.DataFrame({'begin_date': pd.date_range(start='2013-01-01',end='2015-11-01', freq='MS'),\n",
    "                         'date_block_num': range(35)} )\n",
    "    \n",
    "timeline['n_days'] = timeline.begin_date.apply(lambda date: monthrange(date.year,date.month)[1])\n",
    "\n",
    "timeline['workdays'] = [17, 20, 20, 22, 18, 19, 23, 22, 21, 23, 20, 22,\n",
    "                        17, 20, 20, 22, 19, 19, 23, 21, 22, 23, 18, 23,\n",
    "                        15, 19, 21, 22, 18, 21, 23, 21, 22, 22, 20]\n",
    "\n",
    "timeline['month_num'] = timeline['date_block_num'] % 12"
   ]
  },
  {
   "cell_type": "code",
   "execution_count": 22,
   "metadata": {},
   "outputs": [
    {
     "name": "stdout",
     "output_type": "stream",
     "text": [
      "CPU times: user 6min, sys: 2.09 s, total: 6min 2s\n",
      "Wall time: 6min 4s\n"
     ]
    }
   ],
   "source": [
    "%%time\n",
    "# the idea is to aggregate rarely sold items over larger periods (e.g. quarters) also identifying discontinued items\n",
    "\n",
    "agg[\"target\"]  = agg[\"target\"].astype(np.float16)\n",
    "agg['shop_id'] = agg['shop_id'].astype(np.int8)\n",
    "agg['item_id'] = agg['item_id'].astype(np.int16)\n",
    "\n",
    "sales = pd.merge(agg, timeline[:-1], how='right', on=['date_block_num']).sort_values(by=['date_block_num','shop_id','item_id'])\n",
    "\n",
    "def check_series(x):\n",
    "    start = min( np.where(~ np.isnan(x))[0] )\n",
    "    end   = max( np.where(~ np.isnan(x))[0] )\n",
    "\n",
    "    no_stock = 1\n",
    "    discontinued = 2\n",
    "    retval = 0\n",
    "\n",
    "    # last months sales are present, but not enough lags for seasonal inference => ignore\n",
    "    if start+12 >= end:\n",
    "        retval |= no_stock\n",
    "\n",
    "    # there should be sales in last month, otherwise consider it is discontinued\n",
    "    if end < 33:\n",
    "        retval |= discontinued\n",
    "        \n",
    "    # at least last 3 month with sales should be present\n",
    "    if sum(~ np.isnan(x[-3:])) < 3:\n",
    "        retval |= no_stock\n",
    "\n",
    "    return retval\n",
    "\n",
    "series = sales.groupby(['shop_id','item_id']).agg({'target': check_series})"
   ]
  },
  {
   "cell_type": "code",
   "execution_count": 30,
   "metadata": {},
   "outputs": [
    {
     "data": {
      "text/plain": [
       "102"
      ]
     },
     "execution_count": 30,
     "metadata": {},
     "output_type": "execute_result"
    }
   ],
   "source": [
    "len(np.where(series.target<1)[0])"
   ]
  }
 ],
 "metadata": {
  "kernelspec": {
   "display_name": "Python 3",
   "language": "python",
   "name": "python3"
  },
  "language_info": {
   "codemirror_mode": {
    "name": "ipython",
    "version": 3
   },
   "file_extension": ".py",
   "mimetype": "text/x-python",
   "name": "python",
   "nbconvert_exporter": "python",
   "pygments_lexer": "ipython3",
   "version": "3.7.4"
  }
 },
 "nbformat": 4,
 "nbformat_minor": 2
}
