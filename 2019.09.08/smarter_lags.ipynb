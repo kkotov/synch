{
 "cells": [
  {
   "cell_type": "code",
   "execution_count": 1,
   "metadata": {},
   "outputs": [],
   "source": [
    "import pandas as pd\n",
    "train_df = pd.read_csv(\"../sales_train.csv.gz\")\n",
    "test_df  = pd.read_csv(\"../test.csv.gz\")"
   ]
  },
  {
   "cell_type": "code",
   "execution_count": 2,
   "metadata": {},
   "outputs": [],
   "source": [
    "%store -r __prepare_data"
   ]
  },
  {
   "cell_type": "code",
   "execution_count": 3,
   "metadata": {},
   "outputs": [],
   "source": [
    "__prepare_data"
   ]
  },
  {
   "cell_type": "code",
   "execution_count": 4,
   "metadata": {},
   "outputs": [
    {
     "name": "stdout",
     "output_type": "stream",
     "text": [
      "False\n"
     ]
    }
   ],
   "source": [
    "all_data = all_data[all_data.date_block_num >= 12] # no lags before time 0\n",
    "all_data.fillna(0, inplace=True)\n",
    "print(all_data.isnull().values.any())"
   ]
  },
  {
   "cell_type": "code",
   "execution_count": 5,
   "metadata": {},
   "outputs": [],
   "source": [
    "from sklearn.model_selection import train_test_split\n",
    "\n",
    "target = all_data.target.values\n",
    "target[target>20] = 20\n",
    "\n",
    "predictors = [\"target_lag_1\", \"target_lag_2\", \"target_lag_3\", \"target_lag_6\", \"target_lag_12\",\n",
    "              \"item_target_enc_lag_1\",\"shop_target_enc_lag_1\",\n",
    "              \"item_target_enc_ave\",  \"shop_target_enc_ave\"]\n",
    "\n",
    "X_train, X_test, y_train, y_test = \\\n",
    "    train_test_split(all_data[predictors], target, test_size=0.2, random_state=321)"
   ]
  },
  {
   "cell_type": "code",
   "execution_count": 6,
   "metadata": {},
   "outputs": [
    {
     "name": "stdout",
     "output_type": "stream",
     "text": [
      "RMSE: 0.740057\n"
     ]
    }
   ],
   "source": [
    "from sklearn.ensemble import RandomForestRegressor\n",
    "from sklearn.metrics import mean_squared_error\n",
    "\n",
    "model = RandomForestRegressor(n_estimators=32, max_features=3, n_jobs=6) #len(predictors)/2\n",
    "model.fit(X_train, y_train)\n",
    "ypred = model.predict(X_test)\n",
    "rmse = np.sqrt(mean_squared_error(y_test, ypred))\n",
    "print(\"RMSE: %f\" % (rmse))"
   ]
  },
  {
   "cell_type": "code",
   "execution_count": 7,
   "metadata": {},
   "outputs": [
    {
     "data": {
      "text/plain": [
       "RandomForestRegressor(bootstrap=True, criterion='mse', max_depth=None,\n",
       "                      max_features=3, max_leaf_nodes=None,\n",
       "                      min_impurity_decrease=0.0, min_impurity_split=None,\n",
       "                      min_samples_leaf=1, min_samples_split=2,\n",
       "                      min_weight_fraction_leaf=0.0, n_estimators=128, n_jobs=6,\n",
       "                      oob_score=False, random_state=None, verbose=0,\n",
       "                      warm_start=False)"
      ]
     },
     "execution_count": 7,
     "metadata": {},
     "output_type": "execute_result"
    }
   ],
   "source": [
    "full_model = RandomForestRegressor(n_estimators=128, max_features=3, n_jobs=6) #len(predictors)/2\n",
    "full_model.fit(all_data[predictors], target)"
   ]
  },
  {
   "cell_type": "code",
   "execution_count": 9,
   "metadata": {},
   "outputs": [
    {
     "name": "stdout",
     "output_type": "stream",
     "text": [
      "name                       score\n",
      "target_lag_1           0.240744\n",
      "item_target_enc_ave    0.238609\n",
      "item_target_enc_lag_1  0.13398\n",
      "target_lag_2           0.119803\n",
      "shop_target_enc_lag_1  0.0875946\n",
      "target_lag_3           0.0733154\n",
      "shop_target_enc_ave    0.0490375\n",
      "target_lag_6           0.0380415\n",
      "target_lag_12          0.0188757\n"
     ]
    }
   ],
   "source": [
    "from tabulate import tabulate\n",
    "headers = [\"name\", \"score\"]\n",
    "values = sorted(zip(X_test.columns, full_model.feature_importances_), key=lambda x: x[1] * -1)\n",
    "print(tabulate(values, headers, tablefmt=\"plain\"))"
   ]
  },
  {
   "cell_type": "code",
   "execution_count": 10,
   "metadata": {},
   "outputs": [],
   "source": [
    "%store -r __prepare_submission"
   ]
  },
  {
   "cell_type": "code",
   "execution_count": 11,
   "metadata": {},
   "outputs": [],
   "source": [
    "__prepare_submission"
   ]
  },
  {
   "cell_type": "code",
   "execution_count": 12,
   "metadata": {},
   "outputs": [],
   "source": [
    "aliases = \\\n",
    "{\n",
    "    \"target_lag_1\":          \"target\",\n",
    "    \"target_lag_2\":          \"target_lag_1\",\n",
    "    \"target_lag_3\":          \"target_lag_2\",\n",
    "    \"target_lag_6\":          \"target_lag_5\",\n",
    "    \"target_lag_12\":         \"target_lag_11\",\n",
    "    \"item_target_enc_lag_1\": \"item_target_enc\",\n",
    "    \"shop_target_enc_lag_1\": \"shop_target_enc\",\n",
    "    \"item_target_enc_ave\":   \"item_target_enc_ave\",\n",
    "    \"shop_target_enc_ave\":   \"shop_target_enc_ave\"\n",
    " }\n",
    "\n",
    "prepare_submission(full_model, predictors, aliases, \"smarter_lags.csv\")"
   ]
  },
  {
   "cell_type": "code",
   "execution_count": null,
   "metadata": {},
   "outputs": [],
   "source": []
  }
 ],
 "metadata": {
  "kernelspec": {
   "display_name": "Python 3",
   "language": "python",
   "name": "python3"
  },
  "language_info": {
   "codemirror_mode": {
    "name": "ipython",
    "version": 3
   },
   "file_extension": ".py",
   "mimetype": "text/x-python",
   "name": "python",
   "nbconvert_exporter": "python",
   "pygments_lexer": "ipython3",
   "version": "3.7.4"
  }
 },
 "nbformat": 4,
 "nbformat_minor": 1
}
