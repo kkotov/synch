{
 "cells": [
  {
   "cell_type": "code",
   "execution_count": 1,
   "metadata": {},
   "outputs": [],
   "source": [
    "import pandas as pd\n",
    "train_df = pd.read_csv(\"../sales_train.csv.gz\")\n",
    "test_df  = pd.read_csv(\"../test.csv.gz\")"
   ]
  },
  {
   "cell_type": "code",
   "execution_count": 9,
   "metadata": {},
   "outputs": [],
   "source": [
    "%store -r __prepare_data\n",
    "__prepare_data"
   ]
  },
  {
   "cell_type": "code",
   "execution_count": 4,
   "metadata": {},
   "outputs": [
    {
     "name": "stdout",
     "output_type": "stream",
     "text": [
      "False\n"
     ]
    }
   ],
   "source": [
    "all_data = all_data[all_data.date_block_num > 0] # no lags before time 0\n",
    "all_data.fillna(0, inplace=True)\n",
    "print(all_data.isnull().values.any())"
   ]
  },
  {
   "cell_type": "code",
   "execution_count": 5,
   "metadata": {},
   "outputs": [],
   "source": [
    "from sklearn.ensemble import RandomForestRegressor, GradientBoostingRegressor\n",
    "from sklearn.metrics import mean_squared_error\n",
    "from sklearn.model_selection import train_test_split"
   ]
  },
  {
   "cell_type": "code",
   "execution_count": 6,
   "metadata": {},
   "outputs": [],
   "source": [
    "predictors = [\"target_lag_1\",\"item_target_enc_lag_1\",\"shop_target_enc_lag_1\"]\n",
    "target = all_data.target.values\n",
    "target[target>20] = 20\n",
    "#X_train, X_test, y_train, y_test = train_test_split(X, y, test_size=1, random_state=321)"
   ]
  },
  {
   "cell_type": "code",
   "execution_count": 7,
   "metadata": {},
   "outputs": [
    {
     "data": {
      "text/plain": [
       "RandomForestRegressor(bootstrap=True, criterion='mse', max_depth=None,\n",
       "           max_features=1, max_leaf_nodes=None, min_impurity_decrease=0.0,\n",
       "           min_impurity_split=None, min_samples_leaf=1,\n",
       "           min_samples_split=2, min_weight_fraction_leaf=0.0,\n",
       "           n_estimators=8, n_jobs=2, oob_score=False, random_state=None,\n",
       "           verbose=0, warm_start=False)"
      ]
     },
     "execution_count": 7,
     "metadata": {},
     "output_type": "execute_result"
    }
   ],
   "source": [
    "# models\n",
    "sklRf  = RandomForestRegressor(n_estimators=8, max_features=1, n_jobs=2) #len(predictors)/2\n",
    "# fit the model\n",
    "sklRf.fit(all_data[predictors], target)"
   ]
  },
  {
   "cell_type": "code",
   "execution_count": 24,
   "metadata": {},
   "outputs": [
    {
     "data": {
      "text/plain": [
       "IPython.macro.Macro(u'def prepare_submission(model, predictors, aliases, output):\\n    \"\"\"A helper to prepare sumbission file\\n    Args:\\n        model - anything implementing predict\\n        predictors - ordered list of the predictors used for the model\\n        aliases - dictionary of predictors of the model and their names in data\\n        output - csv file name\\n    \"\"\"\\n    # subset\\n\\n    X = all_data_33.loc[:,[aliases[colname] for colname in predictors]]\\n    # rename\\n    X.columns = predictors\\n    # predict\\n    y = sklRf.predict(X)\\n\\n    all_data_33[\"item_cnt_month\"] = y\\n    test = test_df.join(all_data_33.set_index([\"shop_id\",\"item_id\"]), on=[\"shop_id\",\"item_id\"]).fillna(0)\\n\\n    test = test.loc[:,[\\'ID\\', \\'item_cnt_month\\']]\\n    test.set_index(\"ID\", inplace=True)\\n    test[\"item_cnt_month\"] = test[\"item_cnt_month\"].round().astype(\"int64\")\\n\\n    # clip\\n    test[test.item_cnt_month>20] = 20\\n    # save\\n    test.to_csv(output)\\n')"
      ]
     },
     "execution_count": 24,
     "metadata": {},
     "output_type": "execute_result"
    }
   ],
   "source": [
    "%store -r __prepare_submission"
   ]
  },
  {
   "cell_type": "code",
   "execution_count": 32,
   "metadata": {},
   "outputs": [],
   "source": [
    "__prepare_submission"
   ]
  },
  {
   "cell_type": "code",
   "execution_count": 31,
   "metadata": {},
   "outputs": [],
   "source": [
    "aliases = \\\n",
    "{\"target_lag_1\":          \"target\",\n",
    " \"item_target_enc_lag_1\": \"item_target_enc\",\n",
    " \"shop_target_enc_lag_1\": \"shop_target_enc\"}\n",
    "\n",
    "prepare_submission(sklRf, predictors, aliases, \"skl_rf_test.csv\")"
   ]
  },
  {
   "cell_type": "code",
   "execution_count": 33,
   "metadata": {},
   "outputs": [
    {
     "data": {
      "text/plain": [
       "GradientBoostingRegressor(alpha=0.9, criterion='friedman_mse', init=None,\n",
       "             learning_rate=0.1, loss='ls', max_depth=8, max_features=None,\n",
       "             max_leaf_nodes=None, min_impurity_decrease=0.0,\n",
       "             min_impurity_split=None, min_samples_leaf=1,\n",
       "             min_samples_split=2, min_weight_fraction_leaf=0.0,\n",
       "             n_estimators=8, n_iter_no_change=None, presort='auto',\n",
       "             random_state=0, subsample=1.0, tol=0.0001,\n",
       "             validation_fraction=0.1, verbose=0, warm_start=False)"
      ]
     },
     "execution_count": 33,
     "metadata": {},
     "output_type": "execute_result"
    }
   ],
   "source": [
    "sklGbt = GradientBoostingRegressor(n_estimators=8, learning_rate=0.1, max_depth=8, random_state=0, loss='ls')\n",
    "\n",
    "# fit the model\n",
    "sklGbt.fit(all_data[predictors], target)"
   ]
  },
  {
   "cell_type": "code",
   "execution_count": 35,
   "metadata": {},
   "outputs": [],
   "source": [
    "prepare_submission(sklGbt, predictors, aliases, \"skl_gbt_test.csv\")"
   ]
  },
  {
   "cell_type": "code",
   "execution_count": 36,
   "metadata": {},
   "outputs": [
    {
     "data": {
      "text/plain": [
       "RandomForestRegressor(bootstrap=True, criterion='mse', max_depth=None,\n",
       "           max_features=1, max_leaf_nodes=None, min_impurity_decrease=0.0,\n",
       "           min_impurity_split=None, min_samples_leaf=1,\n",
       "           min_samples_split=2, min_weight_fraction_leaf=0.0,\n",
       "           n_estimators=32, n_jobs=2, oob_score=False, random_state=None,\n",
       "           verbose=0, warm_start=False)"
      ]
     },
     "execution_count": 36,
     "metadata": {},
     "output_type": "execute_result"
    }
   ],
   "source": [
    "sklRf  = RandomForestRegressor(n_estimators=32, max_features=1, n_jobs=2) #len(predictors)/2\n",
    "sklRf.fit(all_data[predictors], target)"
   ]
  },
  {
   "cell_type": "code",
   "execution_count": 37,
   "metadata": {},
   "outputs": [],
   "source": [
    "prepare_submission(sklRf, predictors, aliases, \"skl_rf_test2.csv\")"
   ]
  },
  {
   "cell_type": "code",
   "execution_count": 38,
   "metadata": {},
   "outputs": [
    {
     "data": {
      "text/plain": [
       "GradientBoostingRegressor(alpha=0.9, criterion='friedman_mse', init=None,\n",
       "             learning_rate=0.1, loss='ls', max_depth=8, max_features=None,\n",
       "             max_leaf_nodes=None, min_impurity_decrease=0.0,\n",
       "             min_impurity_split=None, min_samples_leaf=1,\n",
       "             min_samples_split=2, min_weight_fraction_leaf=0.0,\n",
       "             n_estimators=32, n_iter_no_change=None, presort='auto',\n",
       "             random_state=0, subsample=1.0, tol=0.0001,\n",
       "             validation_fraction=0.1, verbose=0, warm_start=False)"
      ]
     },
     "execution_count": 38,
     "metadata": {},
     "output_type": "execute_result"
    }
   ],
   "source": [
    "sklGbt = GradientBoostingRegressor(n_estimators=32, learning_rate=0.1, max_depth=8, random_state=0, loss='ls')\n",
    "sklGbt.fit(all_data[predictors], target)"
   ]
  },
  {
   "cell_type": "code",
   "execution_count": 39,
   "metadata": {},
   "outputs": [],
   "source": [
    "prepare_submission(sklGbt, predictors, aliases, \"skl_gbt_test2.csv\")"
   ]
  },
  {
   "cell_type": "code",
   "execution_count": 40,
   "metadata": {},
   "outputs": [],
   "source": [
    "sklRf  = RandomForestRegressor(n_estimators=128, max_features=1, n_jobs=2) #len(predictors)/2\n",
    "sklRf.fit(all_data[predictors], target)\n",
    "prepare_submission(sklRf, predictors, aliases, \"skl_rf_test3.csv\")"
   ]
  },
  {
   "cell_type": "code",
   "execution_count": null,
   "metadata": {},
   "outputs": [],
   "source": [
    "#import math\n",
    "#math.sqrt( mean_squared_error(testSet[['ptTrueInv']].values.ravel(), 1./sklRfTest)"
   ]
  }
 ],
 "metadata": {
  "kernelspec": {
   "display_name": "Python 3",
   "language": "python",
   "name": "python3"
  },
  "language_info": {
   "codemirror_mode": {
    "name": "ipython",
    "version": 3
   },
   "file_extension": ".py",
   "mimetype": "text/x-python",
   "name": "python",
   "nbconvert_exporter": "python",
   "pygments_lexer": "ipython3",
   "version": "3.7.4"
  }
 },
 "nbformat": 4,
 "nbformat_minor": 1
}
