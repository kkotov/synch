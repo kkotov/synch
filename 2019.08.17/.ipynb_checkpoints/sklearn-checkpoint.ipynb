{
 "metadata": {
  "name": "",
  "signature": "sha256:e8bd228573ca25ea6782dbd87c69c0720499012d8bb777e80e129aecfd380760"
 },
 "nbformat": 3,
 "nbformat_minor": 0,
 "worksheets": [
  {
   "cells": [
    {
     "cell_type": "code",
     "collapsed": false,
     "input": [
      "import pandas as pd\n",
      "train_df = pd.read_csv(\"../sales_train.csv.gz\")\n",
      "test_df  = pd.read_csv(\"../test.csv.gz\")"
     ],
     "language": "python",
     "metadata": {},
     "outputs": [],
     "prompt_number": 1
    },
    {
     "cell_type": "code",
     "collapsed": false,
     "input": [
      "%store -r __prepare_data"
     ],
     "language": "python",
     "metadata": {},
     "outputs": [],
     "prompt_number": 2
    },
    {
     "cell_type": "code",
     "collapsed": false,
     "input": [
      "__prepare_data"
     ],
     "language": "python",
     "metadata": {},
     "outputs": [],
     "prompt_number": 3
    },
    {
     "cell_type": "code",
     "collapsed": false,
     "input": [
      "all_data = all_data[all_data.date_block_num > 0] # no lags before time 0\n",
      "all_data.fillna(0, inplace=True)\n",
      "print(all_data.isnull().values.any())"
     ],
     "language": "python",
     "metadata": {},
     "outputs": [
      {
       "output_type": "stream",
       "stream": "stdout",
       "text": [
        "False\n"
       ]
      }
     ],
     "prompt_number": 6
    },
    {
     "cell_type": "code",
     "collapsed": false,
     "input": [
      "from sklearn.ensemble import RandomForestRegressor, GradientBoostingRegressor\n",
      "from sklearn.metrics import mean_squared_error\n",
      "from sklearn.model_selection import train_test_split"
     ],
     "language": "python",
     "metadata": {},
     "outputs": [],
     "prompt_number": 5
    },
    {
     "cell_type": "code",
     "collapsed": false,
     "input": [
      "predictors = [\"target_lag_1\",\"item_target_enc_lag_1\",\"shop_target_enc_lag_1\"]\n",
      "target = all_data.target.values\n",
      "target[]\n",
      "#X_train, X_test, y_train, y_test = train_test_split(X, y, test_size=1, random_state=321)"
     ],
     "language": "python",
     "metadata": {},
     "outputs": []
    },
    {
     "cell_type": "code",
     "collapsed": false,
     "input": [
      "# models\n",
      "sklRf  = RandomForestRegressor(n_estimators=128, max_features=len(predictors)/2, n_jobs=6)\n",
      "sklGbt = GradientBoostingRegressor(n_estimators=128, learning_rate=0.1, max_depth=8, random_state=0, loss='ls')\n",
      "\n",
      "# fit the model\n",
      "sklRf .fit(all_data[predictors], target)\n",
      "sklGbt.fit(all_data[predictors], target)"
     ],
     "language": "python",
     "metadata": {},
     "outputs": []
    }
   ],
   "metadata": {}
  }
 ]
}