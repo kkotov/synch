{
 "cells": [
  {
   "cell_type": "code",
   "execution_count": 1,
   "metadata": {},
   "outputs": [],
   "source": [
    "# What did I learned so far:\n",
    "# 1) you do the best for the mean encoding of items in stock and shops open\n",
    "#  and train a separate model for those\n",
    "# 2) for the rest you force zero the discontinued items and closed shops\n",
    "# 3) for the sparse shops and items you predict the mean of last tree month "
   ]
  },
  {
   "cell_type": "markdown",
   "metadata": {},
   "source": [
    "# Prepare data"
   ]
  },
  {
   "cell_type": "code",
   "execution_count": 2,
   "metadata": {},
   "outputs": [],
   "source": [
    "import pandas as pd\n",
    "import numpy as np\n",
    "\n",
    "import matplotlib.pyplot as plt\n",
    "%matplotlib inline\n",
    "\n",
    "# Load data\n",
    "train_df = pd.read_csv(\"../sales_train.csv.gz\")\n",
    "test_df  = pd.read_csv(\"../test.csv.gz\")\n",
    "\n",
    "categories = pd.read_csv('../item_categories.csv')\n",
    "items = pd.read_csv('../items.csv')"
   ]
  },
  {
   "cell_type": "code",
   "execution_count": 3,
   "metadata": {},
   "outputs": [],
   "source": [
    "%store -r __trends_combined"
   ]
  },
  {
   "cell_type": "code",
   "execution_count": 4,
   "metadata": {},
   "outputs": [
    {
     "name": "stdout",
     "output_type": "stream",
     "text": [
      "CPU times: user 1min 34s, sys: 48 s, total: 2min 22s\n",
      "Wall time: 2min 30s\n"
     ]
    },
    {
     "name": "stderr",
     "output_type": "stream",
     "text": [
      "/usr/local/lib/python3.7/site-packages/pandas/core/reshape/merge.py:618: UserWarning: merging between different levels can give an unintended result (1 levels on the left, 2 on the right)\n",
      "  warnings.warn(msg, UserWarning)\n",
      "/usr/local/lib/python3.7/site-packages/pandas/core/generic.py:3947: PerformanceWarning: dropping on a non-lexsorted multi-index without a level parameter may impact performance.\n",
      "  new_axis = axis.drop(labels, errors=errors)\n"
     ]
    },
    {
     "name": "stdout",
     "output_type": "stream",
     "text": [
      "[0, 1, 8, 11, 13, 17, 23, 27, 29, 30, 32, 33, 40, 43, 54]\n",
      "15 out of 60 shops were not selling at least last 3 months\n",
      "Sanity check: known item categories is 84 and total categories is 84\n",
      "Total number of items is 22170, among those sold are 21807\n",
      "Never sold are 363 items from 39 categories of 12 types and 32 subtypes\n",
      " (in total there are 20 types and 65 subtypes)\n",
      "21807\n"
     ]
    },
    {
     "name": "stderr",
     "output_type": "stream",
     "text": [
      "/usr/local/lib/python3.7/site-packages/numpy/core/fromnumeric.py:56: FutureWarning: \n",
      "The current behaviour of 'Series.argmax' is deprecated, use 'idxmax'\n",
      "instead.\n",
      "The behavior of 'argmax' will be corrected to return the positional\n",
      "maximum in the future. For now, use 'series.values.argmax' or\n",
      "'np.argmax(np.array(values))' to get the position of the maximum\n",
      "row.\n",
      "  return getattr(obj, method)(*args, **kwds)\n"
     ]
    },
    {
     "name": "stdout",
     "output_type": "stream",
     "text": [
      "No sales for 19 categories, 4 types, and 15 subtypes\n",
      "14627 out of 21807 items were not sold at least last 3 months\n",
      "{27}\n",
      "{16689, 15106, 20539, 5613}\n",
      "CPU times: user 2min 21s, sys: 1min 15s, total: 3min 36s\n",
      "Wall time: 3min 50s\n"
     ]
    }
   ],
   "source": [
    "%%time\n",
    "__trends_combined"
   ]
  },
  {
   "cell_type": "markdown",
   "metadata": {},
   "source": [
    "# Sanity checks"
   ]
  },
  {
   "cell_type": "markdown",
   "metadata": {},
   "source": [
    "## Compare with macro2\n",
    "\n",
    "see if lags are the same"
   ]
  },
  {
   "cell_type": "code",
   "execution_count": 23,
   "metadata": {},
   "outputs": [
    {
     "data": {
      "text/html": [
       "<div>\n",
       "<style scoped>\n",
       "    .dataframe tbody tr th:only-of-type {\n",
       "        vertical-align: middle;\n",
       "    }\n",
       "\n",
       "    .dataframe tbody tr th {\n",
       "        vertical-align: top;\n",
       "    }\n",
       "\n",
       "    .dataframe thead th {\n",
       "        text-align: right;\n",
       "    }\n",
       "</style>\n",
       "<table border=\"1\" class=\"dataframe\">\n",
       "  <thead>\n",
       "    <tr style=\"text-align: right;\">\n",
       "      <th></th>\n",
       "      <th>date_block_num</th>\n",
       "      <th>shop_id</th>\n",
       "      <th>item_id</th>\n",
       "      <th>total_monthly_shop_sales_lag_1</th>\n",
       "      <th>trg_shop_lag1</th>\n",
       "    </tr>\n",
       "  </thead>\n",
       "  <tbody>\n",
       "    <tr>\n",
       "      <th>8117</th>\n",
       "      <td>0</td>\n",
       "      <td>1</td>\n",
       "      <td>28</td>\n",
       "      <td>NaN</td>\n",
       "      <td>0.00000</td>\n",
       "    </tr>\n",
       "    <tr>\n",
       "      <th>373345</th>\n",
       "      <td>1</td>\n",
       "      <td>1</td>\n",
       "      <td>28</td>\n",
       "      <td>0.361306</td>\n",
       "      <td>1.91987</td>\n",
       "    </tr>\n",
       "  </tbody>\n",
       "</table>\n",
       "</div>"
      ],
      "text/plain": [
       "        date_block_num  shop_id  item_id  total_monthly_shop_sales_lag_1  \\\n",
       "8117                 0        1       28                             NaN   \n",
       "373345               1        1       28                        0.361306   \n",
       "\n",
       "        trg_shop_lag1  \n",
       "8117          0.00000  \n",
       "373345        1.91987  "
      ]
     },
     "execution_count": 23,
     "metadata": {},
     "output_type": "execute_result"
    }
   ],
   "source": [
    "#lagged_sales_shops\n",
    "#lagged_sales_cats\n",
    "#lagged_sales_types\n",
    "#lagged_sales_subtypes\n",
    "#lagged_sales_items\n",
    "\n",
    "all_data[['date_block_num',\n",
    "          'shop_id',\n",
    "          'item_id',\n",
    "          'total_monthly_shop_sales_lag_1',\n",
    "          'trg_shop_lag1']][(all_data.item_id==28)&(all_data.shop_id==1)]\n",
    "\n",
    "# in reality, item_id was aggregated over so selecting one above doesn't affect lags"
   ]
  },
  {
   "cell_type": "code",
   "execution_count": 6,
   "metadata": {},
   "outputs": [
    {
     "data": {
      "text/html": [
       "<div>\n",
       "<style scoped>\n",
       "    .dataframe tbody tr th:only-of-type {\n",
       "        vertical-align: middle;\n",
       "    }\n",
       "\n",
       "    .dataframe tbody tr th {\n",
       "        vertical-align: top;\n",
       "    }\n",
       "\n",
       "    .dataframe thead th {\n",
       "        text-align: right;\n",
       "    }\n",
       "</style>\n",
       "<table border=\"1\" class=\"dataframe\">\n",
       "  <thead>\n",
       "    <tr style=\"text-align: right;\">\n",
       "      <th></th>\n",
       "      <th>shop_id</th>\n",
       "      <th>target_sum</th>\n",
       "      <th>target_len</th>\n",
       "      <th>trg_shop</th>\n",
       "    </tr>\n",
       "  </thead>\n",
       "  <tbody>\n",
       "    <tr>\n",
       "      <th>1</th>\n",
       "      <td>1</td>\n",
       "      <td>6311.0</td>\n",
       "      <td>3282.0</td>\n",
       "      <td>1.922913</td>\n",
       "    </tr>\n",
       "  </tbody>\n",
       "</table>\n",
       "</div>"
      ],
      "text/plain": [
       "   shop_id  target_sum  target_len  trg_shop\n",
       "1        1      6311.0      3282.0  1.922913"
      ]
     },
     "execution_count": 6,
     "metadata": {},
     "output_type": "execute_result"
    }
   ],
   "source": [
    "total_sales_shops[total_sales_shops.shop_id==1]"
   ]
  },
  {
   "cell_type": "code",
   "execution_count": 51,
   "metadata": {},
   "outputs": [
    {
     "name": "stdout",
     "output_type": "stream",
     "text": [
      "6246.0\n",
      "6311.0\n",
      "6246.0\n",
      "(1747, 4)\n",
      "3364 / 1747 = 1.925587\n"
     ]
    },
    {
     "data": {
      "text/html": [
       "<div>\n",
       "<style scoped>\n",
       "    .dataframe tbody tr th:only-of-type {\n",
       "        vertical-align: middle;\n",
       "    }\n",
       "\n",
       "    .dataframe tbody tr th {\n",
       "        vertical-align: top;\n",
       "    }\n",
       "\n",
       "    .dataframe thead tr th {\n",
       "        text-align: left;\n",
       "    }\n",
       "\n",
       "    .dataframe thead tr:last-of-type th {\n",
       "        text-align: right;\n",
       "    }\n",
       "</style>\n",
       "<table border=\"1\" class=\"dataframe\">\n",
       "  <thead>\n",
       "    <tr>\n",
       "      <th></th>\n",
       "      <th></th>\n",
       "      <th colspan=\"3\" halign=\"left\">target</th>\n",
       "    </tr>\n",
       "    <tr>\n",
       "      <th></th>\n",
       "      <th></th>\n",
       "      <th>sum</th>\n",
       "      <th>len</th>\n",
       "      <th>mean</th>\n",
       "    </tr>\n",
       "    <tr>\n",
       "      <th>shop_id</th>\n",
       "      <th>date_block_num</th>\n",
       "      <th></th>\n",
       "      <th></th>\n",
       "      <th></th>\n",
       "    </tr>\n",
       "  </thead>\n",
       "  <tbody>\n",
       "    <tr>\n",
       "      <th rowspan=\"2\" valign=\"top\">0</th>\n",
       "      <th>0</th>\n",
       "      <td>5411.0</td>\n",
       "      <td>8115.0</td>\n",
       "      <td>0.666790</td>\n",
       "    </tr>\n",
       "    <tr>\n",
       "      <th>1</th>\n",
       "      <td>5820.0</td>\n",
       "      <td>8168.0</td>\n",
       "      <td>0.712537</td>\n",
       "    </tr>\n",
       "    <tr>\n",
       "      <th rowspan=\"2\" valign=\"top\">1</th>\n",
       "      <th>0</th>\n",
       "      <td>2932.0</td>\n",
       "      <td>8115.0</td>\n",
       "      <td>0.361306</td>\n",
       "    </tr>\n",
       "    <tr>\n",
       "      <th>1</th>\n",
       "      <td>3314.0</td>\n",
       "      <td>8168.0</td>\n",
       "      <td>0.405730</td>\n",
       "    </tr>\n",
       "    <tr>\n",
       "      <th>2</th>\n",
       "      <th>0</th>\n",
       "      <td>1146.0</td>\n",
       "      <td>8115.0</td>\n",
       "      <td>0.141220</td>\n",
       "    </tr>\n",
       "  </tbody>\n",
       "</table>\n",
       "</div>"
      ],
      "text/plain": [
       "                        target                  \n",
       "                           sum     len      mean\n",
       "shop_id date_block_num                          \n",
       "0       0               5411.0  8115.0  0.666790\n",
       "        1               5820.0  8168.0  0.712537\n",
       "1       0               2932.0  8115.0  0.361306\n",
       "        1               3314.0  8168.0  0.405730\n",
       "2       0               1146.0  8115.0  0.141220"
      ]
     },
     "execution_count": 51,
     "metadata": {},
     "output_type": "execute_result"
    }
   ],
   "source": [
    "# difference comes only from clipping sales to <=20\n",
    "print(sum(all_data[(all_data.shop_id==1)].target))\n",
    "print(sum(train_df[train_df.shop_id==1].item_cnt_day))\n",
    "print(sum(agg[agg.shop_id==1].target.clip(0,20)))\n",
    "\n",
    "qwe = monthly[(monthly.shop_id==1)&(monthly.date_block_num==1)]\n",
    "\n",
    "print(\"%d / %d = %f\" % (sum(qwe.target),qwe.shape[0],sum(qwe.target)/qwe.shape[0]))\n",
    "\n",
    "all_data.groupby(['shop_id','date_block_num']).agg({'target': [sum,len,np.mean]}).head()"
   ]
  },
  {
   "cell_type": "markdown",
   "metadata": {},
   "source": [
    "Everything squares up nicely above"
   ]
  },
  {
   "cell_type": "code",
   "execution_count": null,
   "metadata": {},
   "outputs": [],
   "source": [
    "# mean encoding: average target, aggregated across a given category\n",
    "#  averaging happens across all entries => no way to distinguish a closed shop against no sales\n",
    "#  therefore, there is a potential problem with aggregating over the date_block_num"
   ]
  },
  {
   "cell_type": "markdown",
   "metadata": {},
   "source": [
    "Now let's do the following:\n",
    "* exclude closed shops from training\n",
    "* augment model from macro2 with category/type/supertype"
   ]
  },
  {
   "cell_type": "code",
   "execution_count": null,
   "metadata": {},
   "outputs": [],
   "source": [
    "#qwe"
   ]
  }
 ],
 "metadata": {
  "kernelspec": {
   "display_name": "Python 3",
   "language": "python",
   "name": "python3"
  },
  "language_info": {
   "codemirror_mode": {
    "name": "ipython",
    "version": 3
   },
   "file_extension": ".py",
   "mimetype": "text/x-python",
   "name": "python",
   "nbconvert_exporter": "python",
   "pygments_lexer": "ipython3",
   "version": "3.7.4"
  }
 },
 "nbformat": 4,
 "nbformat_minor": 2
}
