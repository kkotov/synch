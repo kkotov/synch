{
 "cells": [
  {
   "cell_type": "markdown",
   "metadata": {},
   "source": [
    "# Prepare data"
   ]
  },
  {
   "cell_type": "code",
   "execution_count": 1,
   "metadata": {},
   "outputs": [],
   "source": [
    "import pandas as pd\n",
    "import numpy as np\n",
    "\n",
    "import matplotlib.pyplot as plt\n",
    "%matplotlib inline\n",
    "\n",
    "# Load data\n",
    "train_df = pd.read_csv(\"../sales_train.csv.gz\")\n",
    "test_df  = pd.read_csv(\"../test.csv.gz\")\n",
    "\n",
    "categories = pd.read_csv('../item_categories.csv')\n",
    "items = pd.read_csv('../items.csv')\n",
    "shops = pd.read_csv('../shops.csv')"
   ]
  },
  {
   "cell_type": "code",
   "execution_count": 2,
   "metadata": {},
   "outputs": [],
   "source": [
    "%store -r __prepare_data_4"
   ]
  },
  {
   "cell_type": "code",
   "execution_count": 3,
   "metadata": {},
   "outputs": [
    {
     "name": "stdout",
     "output_type": "stream",
     "text": [
      "CPU times: user 2min 58s, sys: 1min 55s, total: 4min 53s\n",
      "Wall time: 5min 9s\n"
     ]
    }
   ],
   "source": [
    "%%time\n",
    "__prepare_data_4"
   ]
  },
  {
   "cell_type": "code",
   "execution_count": 4,
   "metadata": {},
   "outputs": [],
   "source": [
    "train33 = all_data[(all_data.date_block_num>11)&(all_data.date_block_num<34)].fillna(0)\n",
    "\n",
    "X_train33 = train33[train33.date_block_num <  33][predictors]\n",
    "X_valid33 = train33[train33.date_block_num == 33][predictors]\n",
    "y_train33 = train33[train33.date_block_num <  33].target\n",
    "y_valid33 = train33[train33.date_block_num == 33].target"
   ]
  },
  {
   "cell_type": "code",
   "execution_count": 5,
   "metadata": {},
   "outputs": [
    {
     "name": "stdout",
     "output_type": "stream",
     "text": [
      "CPU times: user 1h 8min 6s, sys: 44.8 s, total: 1h 8min 51s\n",
      "Wall time: 18min 44s\n"
     ]
    }
   ],
   "source": [
    "%%time\n",
    "from sklearn.ensemble import RandomForestRegressor\n",
    "base_model33 = RandomForestRegressor(n_estimators=64, max_features=6, n_jobs=6) #len(predictors)/2\n",
    "base_model33.fit(X_train33, y_train33)"
   ]
  },
  {
   "cell_type": "code",
   "execution_count": 6,
   "metadata": {},
   "outputs": [],
   "source": [
    "train32 = all_data[(all_data.date_block_num>11)&(all_data.date_block_num<33)].fillna(0)\n",
    "\n",
    "X_train32 = train32[train32.date_block_num <  32][predictors]\n",
    "X_valid32 = train32[train32.date_block_num == 32][predictors]\n",
    "y_train32 = train32[train32.date_block_num <  32].target\n",
    "y_valid32 = train32[train32.date_block_num == 32].target"
   ]
  },
  {
   "cell_type": "code",
   "execution_count": 7,
   "metadata": {},
   "outputs": [
    {
     "name": "stdout",
     "output_type": "stream",
     "text": [
      "CPU times: user 1h 6min 42s, sys: 49.2 s, total: 1h 7min 31s\n",
      "Wall time: 18min 59s\n"
     ]
    }
   ],
   "source": [
    "%%time\n",
    "base_model32 = RandomForestRegressor(n_estimators=64, max_features=6, n_jobs=6) #len(predictors)/2\n",
    "base_model32.fit(X_train32, y_train32)"
   ]
  },
  {
   "cell_type": "code",
   "execution_count": 8,
   "metadata": {},
   "outputs": [
    {
     "name": "stdout",
     "output_type": "stream",
     "text": [
      "RMSE good: 1.046088\n",
      "Average good: 0.3248986682943419\n"
     ]
    }
   ],
   "source": [
    "from sklearn.metrics import mean_squared_error\n",
    "\n",
    "ypred = base_model33.predict(X_valid33)\n",
    "rmse = np.sqrt(mean_squared_error(y_valid33, ypred))\n",
    "print(\"RMSE good: %f\" % (rmse))\n",
    "print(\"Average good: {0}\".format(np.mean(ypred)))"
   ]
  },
  {
   "cell_type": "code",
   "execution_count": 9,
   "metadata": {},
   "outputs": [
    {
     "name": "stdout",
     "output_type": "stream",
     "text": [
      "RMSE good: 0.904009\n",
      "Average good: 0.31928851958564863\n"
     ]
    }
   ],
   "source": [
    "ypred = base_model32.predict(X_valid32)\n",
    "rmse = np.sqrt(mean_squared_error(y_valid32, ypred))\n",
    "print(\"RMSE good: %f\" % (rmse))\n",
    "print(\"Average good: {0}\".format(np.mean(ypred)))"
   ]
  },
  {
   "cell_type": "code",
   "execution_count": 10,
   "metadata": {},
   "outputs": [
    {
     "name": "stdout",
     "output_type": "stream",
     "text": [
      "RMSE good: 0.946987\n",
      "Average good: 0.3233222077952068\n"
     ]
    }
   ],
   "source": [
    "ypred = base_model32.predict(X_valid33)\n",
    "rmse = np.sqrt(mean_squared_error(y_valid33, ypred))\n",
    "print(\"RMSE good: %f\" % (rmse))\n",
    "print(\"Average good: {0}\".format(np.mean(ypred)))"
   ]
  },
  {
   "cell_type": "markdown",
   "metadata": {},
   "source": [
    "Interesting: taking date #33 out of training makes model superior. What is wrong with date #33? Let's filter out crap."
   ]
  },
  {
   "cell_type": "code",
   "execution_count": 4,
   "metadata": {},
   "outputs": [
    {
     "name": "stdout",
     "output_type": "stream",
     "text": [
      "[36]\n",
      "{0, 1, 8, 9, 11, 13, 17, 20, 23, 27, 29, 30, 32, 33, 40, 43, 51, 54}\n"
     ]
    },
    {
     "data": {
      "text/html": [
       "<div>\n",
       "<style scoped>\n",
       "    .dataframe tbody tr th:only-of-type {\n",
       "        vertical-align: middle;\n",
       "    }\n",
       "\n",
       "    .dataframe tbody tr th {\n",
       "        vertical-align: top;\n",
       "    }\n",
       "\n",
       "    .dataframe thead th {\n",
       "        text-align: right;\n",
       "    }\n",
       "</style>\n",
       "<table border=\"1\" class=\"dataframe\">\n",
       "  <thead>\n",
       "    <tr style=\"text-align: right;\">\n",
       "      <th></th>\n",
       "      <th>date_block_num</th>\n",
       "      <th>total_monthly_shop_sales</th>\n",
       "    </tr>\n",
       "  </thead>\n",
       "  <tbody>\n",
       "    <tr>\n",
       "      <th>0</th>\n",
       "      <td>33</td>\n",
       "      <td>0.060964</td>\n",
       "    </tr>\n",
       "    <tr>\n",
       "      <th>1</th>\n",
       "      <td>34</td>\n",
       "      <td>0.000000</td>\n",
       "    </tr>\n",
       "  </tbody>\n",
       "</table>\n",
       "</div>"
      ],
      "text/plain": [
       "   date_block_num  total_monthly_shop_sales\n",
       "0              33                  0.060964\n",
       "1              34                  0.000000"
      ]
     },
     "execution_count": 4,
     "metadata": {},
     "output_type": "execute_result"
    }
   ],
   "source": [
    "# based on tables from 2019.11.16/trends_combined.ipynb I choose those shops to be taken out:\n",
    "closed_shops = [0, 1, 8, 9, 11, 13, 17, 20, 23,  27,  29, 30, 32, 33,  36,  40, 43, 54]\n",
    "\n",
    "# one of those, though, needs to be predicted (#36):\n",
    "print(test_df[test_df.shop_id.isin(closed_shops)].shop_id.unique())\n",
    "\n",
    "# and one of those (#51) does not:\n",
    "print(set(all_data.shop_id.unique()).difference(test_df.shop_id.unique()))\n",
    "\n",
    "# this explains why shop #36 is not a good shop:\n",
    "(all_data[all_data.shop_id == 36]\n",
    "             .groupby([\"date_block_num\"])\n",
    "             .agg({'total_monthly_shop_sales': lambda x: np.NA if x.empty else x.iloc[0]})\n",
    "             .reset_index())"
   ]
  },
  {
   "cell_type": "code",
   "execution_count": 42,
   "metadata": {},
   "outputs": [],
   "source": [
    "train33_open = all_data[(all_data.date_block_num>11)&(all_data.date_block_num<34)&(~all_data.shop_id.isin(closed_shops))].fillna(0)\n",
    "\n",
    "X_train33_open = train33_open[train33_open.date_block_num <  33][predictors]\n",
    "X_valid33_open = train33_open[train33_open.date_block_num == 33][predictors]\n",
    "y_train33_open = train33_open[train33_open.date_block_num <  33].target\n",
    "y_valid33_open = train33_open[train33_open.date_block_num == 33].target"
   ]
  },
  {
   "cell_type": "code",
   "execution_count": 13,
   "metadata": {},
   "outputs": [],
   "source": [
    "train32_open = all_data[(all_data.date_block_num>11)&(all_data.date_block_num<33)&(~all_data.shop_id.isin(closed_shops))].fillna(0)\n",
    "\n",
    "X_train32_open = train32_open[train32_open.date_block_num <  32][predictors]\n",
    "X_valid32_open = train32_open[train32_open.date_block_num == 32][predictors]\n",
    "y_train32_open = train32_open[train32_open.date_block_num <  32].target\n",
    "y_valid32_open = train32_open[train32_open.date_block_num == 32].target"
   ]
  },
  {
   "cell_type": "code",
   "execution_count": 14,
   "metadata": {},
   "outputs": [
    {
     "name": "stdout",
     "output_type": "stream",
     "text": [
      "CPU times: user 59min 17s, sys: 45.7 s, total: 1h 3s\n",
      "Wall time: 17min 7s\n"
     ]
    }
   ],
   "source": [
    "%%time\n",
    "base_model33_open = RandomForestRegressor(n_estimators=64, max_features=6, n_jobs=6) #len(predictors)/2\n",
    "base_model33_open.fit(X_train33_open, y_train33_open)"
   ]
  },
  {
   "cell_type": "code",
   "execution_count": 15,
   "metadata": {},
   "outputs": [
    {
     "name": "stdout",
     "output_type": "stream",
     "text": [
      "CPU times: user 56min 21s, sys: 44.3 s, total: 57min 5s\n",
      "Wall time: 16min 2s\n"
     ]
    }
   ],
   "source": [
    "%%time\n",
    "base_model32_open = RandomForestRegressor(n_estimators=64, max_features=6, n_jobs=6) #len(predictors)/2\n",
    "base_model32_open.fit(X_train32_open, y_train32_open)"
   ]
  },
  {
   "cell_type": "code",
   "execution_count": 16,
   "metadata": {},
   "outputs": [
    {
     "name": "stdout",
     "output_type": "stream",
     "text": [
      "RMSE good: 0.927556\n",
      "Average good: 0.3139304007290489\n"
     ]
    }
   ],
   "source": [
    "ypred = base_model33_open.predict(X_valid33_open)\n",
    "rmse = np.sqrt(mean_squared_error(y_valid33_open, ypred))\n",
    "print(\"RMSE good: %f\" % (rmse))\n",
    "print(\"Average good: {0}\".format(np.mean(ypred)))"
   ]
  },
  {
   "cell_type": "code",
   "execution_count": 17,
   "metadata": {},
   "outputs": [
    {
     "name": "stdout",
     "output_type": "stream",
     "text": [
      "RMSE good: 0.913868\n",
      "Average good: 0.3210651806199373\n"
     ]
    }
   ],
   "source": [
    "ypred = base_model32_open.predict(X_valid32_open)\n",
    "rmse = np.sqrt(mean_squared_error(y_valid32_open, ypred))\n",
    "print(\"RMSE good: %f\" % (rmse))\n",
    "print(\"Average good: {0}\".format(np.mean(ypred)))"
   ]
  },
  {
   "cell_type": "markdown",
   "metadata": {},
   "source": [
    "Looks like removing closed shops did the trick!"
   ]
  },
  {
   "cell_type": "code",
   "execution_count": 18,
   "metadata": {},
   "outputs": [
    {
     "data": {
      "text/plain": [
       "86"
      ]
     },
     "execution_count": 18,
     "metadata": {},
     "output_type": "execute_result"
    }
   ],
   "source": [
    "del base_model32\n",
    "del base_model33\n",
    "del base_model32_open\n",
    "del base_model33_open\n",
    "import gc\n",
    "gc.collect()"
   ]
  },
  {
   "cell_type": "code",
   "execution_count": 5,
   "metadata": {},
   "outputs": [],
   "source": [
    "from calendar import monthrange\n",
    "\n",
    "# January, 2013 is date_block_num==0\n",
    "timeline = pd.DataFrame({'begin_date': pd.date_range(start='2013-01-01',end='2015-11-01', freq='MS'),\n",
    "                         'date_block_num': range(35)} )\n",
    "    \n",
    "timeline['n_days'] = timeline.begin_date.apply(lambda date: monthrange(date.year,date.month)[1])"
   ]
  },
  {
   "cell_type": "code",
   "execution_count": 6,
   "metadata": {},
   "outputs": [
    {
     "name": "stderr",
     "output_type": "stream",
     "text": [
      "/usr/local/lib/python3.7/site-packages/pandas/plotting/_matplotlib/converter.py:102: FutureWarning: Using an implicitly registered datetime converter for a matplotlib plotting method. The converter was registered by pandas on import. Future versions of pandas will require you to explicitly register matplotlib converters.\n",
      "\n",
      "To register the converters:\n",
      "\t>>> from pandas.plotting import register_matplotlib_converters\n",
      "\t>>> register_matplotlib_converters()\n",
      "  warnings.warn(msg, FutureWarning)\n"
     ]
    },
    {
     "name": "stdout",
     "output_type": "stream",
     "text": [
      "CPU times: user 2.64 s, sys: 1.33 s, total: 3.97 s\n",
      "Wall time: 4.08 s\n"
     ]
    },
    {
     "data": {
      "image/png": "[encoded data removed]",
      "text/plain": [
       "<Figure size 432x288 with 1 Axes>"
      ]
     },
     "metadata": {
      "needs_background": "light"
     },
     "output_type": "display_data"
    }
   ],
   "source": [
    "%%time\n",
    "import matplotlib.pyplot as plt\n",
    "%matplotlib inline\n",
    "\n",
    "from statsmodels.tsa.seasonal import seasonal_decompose\n",
    "\n",
    "decomposition_shop = pd.DataFrame()\n",
    "\n",
    "for shop in all_data.shop_id.unique():\n",
    "\n",
    "    if shop in closed_shops:\n",
    "        continue\n",
    "\n",
    "    sales = (all_data[all_data.shop_id==shop]\n",
    "             .groupby([\"date_block_num\"])\n",
    "             .agg({'total_monthly_shop_sales': lambda x: np.NA if x.empty else x.iloc[0]})\n",
    "             .reset_index())\n",
    "\n",
    "    sales = pd.merge(sales[[\"total_monthly_shop_sales\",\"date_block_num\"]], timeline, how='left', on=['date_block_num'])\n",
    "\n",
    "    sales = sales[sales.date_block_num<34] # month 34 does not have anything\n",
    "\n",
    "    ts = pd.Series(sales.total_monthly_shop_sales.values, index=sales[\"begin_date\"])\n",
    "\n",
    "    decomposition = seasonal_decompose(ts, extrapolate_trend=1, freq=12)\n",
    "\n",
    "    trend    = decomposition.trend\n",
    "    seasonal = decomposition.seasonal\n",
    "    residual = decomposition.resid\n",
    "\n",
    "    plt.plot(trend, label=shop)\n",
    "\n",
    "    decomposition_shop = pd.concat([decomposition_shop,\n",
    "                             pd.DataFrame({\n",
    "                                 'date_block_num':  sales.date_block_num,\n",
    "                                 'n_days':          sales.n_days,\n",
    "                                 'shop_id':         [shop]*len(ts),\n",
    "                                 'shop_trend':      trend.values,\n",
    "                                 'shop_seasonal':   seasonal.values,\n",
    "                                 'shop_forecast':   trend.values + seasonal.values\n",
    "                             })])\n",
    "\n",
    "plt.legend(loc='best')\n",
    "\n",
    "#all_data[all_data.shop_id.isin(strange_shops)]"
   ]
  },
  {
   "cell_type": "code",
   "execution_count": 7,
   "metadata": {},
   "outputs": [
    {
     "data": {
      "text/plain": [
       "<matplotlib.legend.Legend at 0x11961dfd0>"
      ]
     },
     "execution_count": 7,
     "metadata": {},
     "output_type": "execute_result"
    },
    {
     "data": {
      "image/png": "[encoded data removed]",
      "text/plain": [
       "<Figure size 432x288 with 1 Axes>"
      ]
     },
     "metadata": {
      "needs_background": "light"
     },
     "output_type": "display_data"
    }
   ],
   "source": [
    "# extrapolate one point ahead basing on 3 points behind (note, all coordinates are relative):\n",
    "extrapolate = lambda x: np.poly1d( np.polyfit([1,2,3], [x.iloc[-3],x.iloc[-2],x.iloc[-1]], 1) )(4)\n",
    "#extrapolate.__name__ = \"shop_trend\"\n",
    "\n",
    "trend_34 = decomposition_shop.groupby([\"shop_id\"]).agg({\"shop_trend\": extrapolate})\n",
    "trend_34.columns = [\"shop_trend\"]\n",
    "trend_34.reset_index()\n",
    "\n",
    "seasonal_22 = decomposition_shop[decomposition_shop.date_block_num==(34-12)][['shop_id','shop_seasonal']]\n",
    "\n",
    "forecast_34 = pd.merge(trend_34, seasonal_22, how='inner', on=['shop_id'])\n",
    "forecast_34['date_block_num'] = 34\n",
    "forecast_34['n_days'] = 30\n",
    "forecast_34['shop_forecast'] = forecast_34['shop_trend'] + forecast_34['shop_seasonal']\n",
    "\n",
    "decomposition_shop = pd.concat([decomposition_shop, forecast_34], sort=True, ignore_index=True)\n",
    "\n",
    "for shop in decomposition_shop.shop_id.unique():\n",
    "    plt.plot(decomposition_shop[decomposition_shop.shop_id == shop].date_block_num.values,\n",
    "             decomposition_shop[decomposition_shop.shop_id == shop].shop_forecast.values,\n",
    "             label=shop)\n",
    "\n",
    "plt.legend(loc='best')"
   ]
  },
  {
   "cell_type": "code",
   "execution_count": 8,
   "metadata": {},
   "outputs": [],
   "source": [
    "train33_open = all_data[(all_data.date_block_num>11)&(all_data.date_block_num<34)&(~all_data.shop_id.isin(closed_shops))].fillna(0)\n",
    "train33_open = pd.merge(train33_open, decomposition_shop, how='left', on=['date_block_num','shop_id'])\n",
    "\n",
    "# shop 51 is a special case as it is one point short\n",
    "train33_open = train33_open[(train33_open.shop_id!=51)|(train33_open.date_block_num<33)]\n",
    "\n",
    "predictors2 = predictors + ['shop_forecast', 'shop_trend', 'shop_seasonal', 'n_days']\n",
    "\n",
    "# if you use date_block_num, it should not be categorical when forecasting\n",
    "train33_open['date_block_num'] = train33_open['date_block_num'].astype(np.float32)"
   ]
  },
  {
   "cell_type": "code",
   "execution_count": 10,
   "metadata": {},
   "outputs": [
    {
     "name": "stdout",
     "output_type": "stream",
     "text": [
      "CPU times: user 57min 30s, sys: 30.5 s, total: 58min 1s\n",
      "Wall time: 15min 3s\n"
     ]
    }
   ],
   "source": [
    "%%time\n",
    "from sklearn.ensemble import RandomForestRegressor\n",
    "X_train33_open = train33_open[train33_open.date_block_num <  33][predictors2]\n",
    "X_valid33_open = train33_open[train33_open.date_block_num == 33][predictors2]\n",
    "y_train33_open = train33_open[train33_open.date_block_num <  33].target\n",
    "y_valid33_open = train33_open[train33_open.date_block_num == 33].target\n",
    "\n",
    "extended_model33_open = RandomForestRegressor(n_estimators=64, max_features=6, n_jobs=6)\n",
    "extended_model33_open.fit(X_train33_open, y_train33_open)"
   ]
  },
  {
   "cell_type": "code",
   "execution_count": 12,
   "metadata": {},
   "outputs": [
    {
     "name": "stdout",
     "output_type": "stream",
     "text": [
      "RMSE good: 0.823223\n",
      "Average good: 0.2995288133130269\n"
     ]
    }
   ],
   "source": [
    "from sklearn.metrics import mean_squared_error\n",
    "ypred = extended_model33_open.predict(X_valid33_open)\n",
    "rmse = np.sqrt(mean_squared_error(y_valid33_open, ypred))\n",
    "print(\"RMSE good: %f\" % (rmse))\n",
    "print(\"Average good: {0}\".format(np.mean(ypred)))"
   ]
  },
  {
   "cell_type": "code",
   "execution_count": 13,
   "metadata": {},
   "outputs": [
    {
     "name": "stdout",
     "output_type": "stream",
     "text": [
      "CPU times: user 58min 17s, sys: 31.2 s, total: 58min 49s\n",
      "Wall time: 15min 18s\n"
     ]
    }
   ],
   "source": [
    "%%time\n",
    "predictors3 = predictors2[1:]\n",
    "X_train33_open_nd = train33_open[train33_open.date_block_num <  33][predictors3]\n",
    "X_valid33_open_nd = train33_open[train33_open.date_block_num == 33][predictors3]\n",
    "y_train33_open_nd = train33_open[train33_open.date_block_num <  33].target\n",
    "y_valid33_open_nd = train33_open[train33_open.date_block_num == 33].target\n",
    "\n",
    "extended_model33_open_nodate = RandomForestRegressor(n_estimators=64, max_features=6, n_jobs=6)\n",
    "extended_model33_open_nodate.fit(X_train33_open_nd, y_train33_open_nd)"
   ]
  },
  {
   "cell_type": "code",
   "execution_count": 16,
   "metadata": {},
   "outputs": [
    {
     "name": "stdout",
     "output_type": "stream",
     "text": [
      "RMSE good: 0.810270\n",
      "Average good: 0.28546340562241757\n"
     ]
    }
   ],
   "source": [
    "ypred = extended_model33_open_nodate.predict(X_valid33_open_nd)\n",
    "rmse = np.sqrt(mean_squared_error(y_valid33_open_nd, ypred))\n",
    "print(\"RMSE good: %f\" % (rmse))\n",
    "print(\"Average good: {0}\".format(np.mean(ypred)))"
   ]
  },
  {
   "cell_type": "code",
   "execution_count": 17,
   "metadata": {},
   "outputs": [
    {
     "data": {
      "text/plain": [
       "121"
      ]
     },
     "execution_count": 17,
     "metadata": {},
     "output_type": "execute_result"
    }
   ],
   "source": [
    "del extended_model33_open_nodate\n",
    "del extended_model33_open\n",
    "import gc\n",
    "gc.collect()"
   ]
  },
  {
   "cell_type": "code",
   "execution_count": 18,
   "metadata": {},
   "outputs": [
    {
     "name": "stdout",
     "output_type": "stream",
     "text": [
      "CPU times: user 1h 1min 14s, sys: 28.3 s, total: 1h 1min 42s\n",
      "Wall time: 15min 59s\n"
     ]
    }
   ],
   "source": [
    "%%time\n",
    "from sklearn.ensemble import RandomForestRegressor\n",
    "full_model = RandomForestRegressor(n_estimators=64, max_features=6, n_jobs=6)\n",
    "full_model.fit(train33_open[predictors2], train33_open.target)"
   ]
  },
  {
   "cell_type": "code",
   "execution_count": 19,
   "metadata": {},
   "outputs": [
    {
     "data": {
      "text/plain": [
       "RandomForestRegressor(bootstrap=True, criterion='mse', max_depth=None,\n",
       "                      max_features=6, max_leaf_nodes=None,\n",
       "                      min_impurity_decrease=0.0, min_impurity_split=None,\n",
       "                      min_samples_leaf=1, min_samples_split=2,\n",
       "                      min_weight_fraction_leaf=0.0, n_estimators=64, n_jobs=6,\n",
       "                      oob_score=False, random_state=None, verbose=0,\n",
       "                      warm_start=False)"
      ]
     },
     "execution_count": 19,
     "metadata": {},
     "output_type": "execute_result"
    }
   ],
   "source": [
    "from sklearn.ensemble import RandomForestRegressor\n",
    "full_model_nd = RandomForestRegressor(n_estimators=64, max_features=6, n_jobs=6)\n",
    "full_model_nd.fit(train33_open[predictors3], train33_open.target)"
   ]
  },
  {
   "cell_type": "code",
   "execution_count": 36,
   "metadata": {},
   "outputs": [],
   "source": [
    "# combine\n",
    "month_34 = all_data[(all_data.date_block_num == 34)&(~all_data.shop_id.isin(closed_shops))].fillna(0)\n",
    "ds = decomposition_shop[decomposition_shop.date_block_num == 34]\n",
    "month_34 = pd.merge(month_34, ds, how='left', on=['date_block_num','shop_id'])\n",
    "\n",
    "# shop #51 and #36 are special cases:\n",
    "month_34 = month_34[(month_34.shop_id!=51)&(month_34.shop_id!=36)]\n",
    "\n",
    "month_34['item_cnt_month'] = full_model.predict(month_34[predictors2]) # _nd, 3\n",
    "test = pd.merge(test_df, month_34, how='left', on=[\"shop_id\",\"item_id\"]).fillna(0)\n",
    "\n",
    "test = test.loc[:,['ID', 'item_cnt_month']]\n",
    "test.set_index(\"ID\", inplace=True)\n",
    "test[\"item_cnt_month\"] = test[\"item_cnt_month\"] #.round().astype(\"int64\") do not round up, you are screwing RSS\n",
    "\n",
    "test[test.item_cnt_month>20] = 20\n",
    "test.to_csv(\"plus_seasonal_predictors33_floatingdate.csv\") # _nd"
   ]
  },
  {
   "cell_type": "code",
   "execution_count": 15,
   "metadata": {},
   "outputs": [
    {
     "name": "stderr",
     "output_type": "stream",
     "text": [
      "/usr/local/Cellar/ipython/7.5.0/libexec/vendor/lib/python3.7/site-packages/ipykernel_launcher.py:7: FutureWarning: Sorting because non-concatenation axis is not aligned. A future version\n",
      "of pandas will change to not sort by default.\n",
      "\n",
      "To accept the future behavior, pass 'sort=False'.\n",
      "\n",
      "To retain the current behavior and silence the warning, pass 'sort=True'.\n",
      "\n",
      "  import sys\n"
     ]
    },
    {
     "name": "stdout",
     "output_type": "stream",
     "text": [
      "        shop_id  item_cnt_month\n",
      "163200       36             1.0\n",
      "163201       36             1.0\n",
      "163202       36             1.0\n",
      "163203       36             1.0\n",
      "163204       36             1.0\n"
     ]
    }
   ],
   "source": [
    "# leaderboard probing: let's find out if shop #36 has non zero flat sales:\n",
    "item_id = test_df.item_id.unique()\n",
    "\n",
    "month_34 = pd.concat([month_34, pd.DataFrame({'date_block_num': [34]*len(item_id),\n",
    "                                              'shop_id':        [36]*len(item_id),\n",
    "                                              'item_cnt_month': [1] *len(item_id),\n",
    "                                              'item_id':        item_id})])\n",
    "\n",
    "test = pd.merge(test_df, month_34, how='left', on=[\"shop_id\",\"item_id\"]).fillna(0)\n",
    "\n",
    "print(test[test.shop_id==36][['shop_id', 'item_cnt_month']].head())\n",
    "\n",
    "test = test.loc[:,['ID', 'item_cnt_month']]\n",
    "test.set_index(\"ID\", inplace=True)\n",
    "test[\"item_cnt_month\"] = test[\"item_cnt_month\"] #.round().astype(\"int64\") do not round up, you are screwing RSS\n",
    "\n",
    "test[test.item_cnt_month>20] = 20\n",
    "#test.to_csv(\"plus_seasonal_predictors33_shop36eq1.csv\")"
   ]
  },
  {
   "cell_type": "code",
   "execution_count": null,
   "metadata": {},
   "outputs": [],
   "source": [
    "# extended_model33_open (plus_seasonal_predictors33_undertrained.csv) is achieving 0.90799 public score\n",
    "#  as opposed to full_model with its 0.91383"
   ]
  },
  {
   "cell_type": "code",
   "execution_count": null,
   "metadata": {},
   "outputs": [],
   "source": [
    "# public score changes from 0.91383 to 0.92127 - a clear 1% loss due to shop #36 selling one item of every type,\n",
    "# it is better to apply an average profile per item to the shop or, in other words, construct mean encoding over items"
   ]
  },
  {
   "cell_type": "code",
   "execution_count": null,
   "metadata": {},
   "outputs": [],
   "source": [
    "# it doesn't metter if date_block_num is turned to floating point, the public score stays 0.91550 (_floatingdate)\n",
    "#  while dropping it all together makes things worse: 0.92712"
   ]
  },
  {
   "cell_type": "code",
   "execution_count": 38,
   "metadata": {},
   "outputs": [
    {
     "name": "stdout",
     "output_type": "stream",
     "text": [
      "        shop_id  item_cnt_month\n",
      "163200       36        0.568182\n",
      "163201       36        0.000000\n",
      "163202       36        0.954545\n",
      "163203       36        0.636364\n",
      "163204       36        0.000000\n"
     ]
    }
   ],
   "source": [
    "# leaderboard probing: let's find out if shop #36 has non zero mean-profiled sales:\n",
    "item_id = test_df.item_id.unique()\n",
    "\n",
    "############################################################################\n",
    "# combine\n",
    "month_34 = all_data[(all_data.date_block_num == 34)&(~all_data.shop_id.isin(closed_shops))].fillna(0)\n",
    "ds = decomposition_shop[decomposition_shop.date_block_num == 34]\n",
    "month_34 = pd.merge(month_34, ds, how='left', on=['date_block_num','shop_id'])\n",
    "\n",
    "# shop #51 and #36 are special cases:\n",
    "month_34 = month_34[(month_34.shop_id!=51)&(month_34.shop_id!=36)]\n",
    "\n",
    "month_34['item_cnt_month'] = full_model.predict(month_34[predictors2])\n",
    "############################################################################\n",
    "\n",
    "aggregated_sales = all_data.groupby([\"date_block_num\", \"item_id\"]).agg({'target': np.mean}).reset_index()\n",
    "aggregated_sales['shop_id'] = 36\n",
    "q = aggregated_sales[aggregated_sales.date_block_num == 33][['item_id', 'shop_id', 'target']]\n",
    "q.columns = ['item_id', 'shop_id', 'item_cnt_month']\n",
    "\n",
    "month_34 = pd.concat([month_34[['item_id', 'shop_id', 'item_cnt_month']], q])\n",
    "\n",
    "test = pd.merge(test_df, month_34, how='left', on=[\"shop_id\",\"item_id\"]).fillna(0)\n",
    "\n",
    "print(test[test.shop_id==36][['shop_id', 'item_cnt_month']].head())\n",
    "\n",
    "test = test.loc[:,['ID', 'item_cnt_month']]\n",
    "test.set_index(\"ID\", inplace=True)\n",
    "test[\"item_cnt_month\"] = test[\"item_cnt_month\"] #.round().astype(\"int64\") do not round up, you are screwing RSS\n",
    "\n",
    "test[test.item_cnt_month>20] = 20\n",
    "test.to_csv(\"plus_seasonal_predictors33_shop36eqMean.csv\")"
   ]
  },
  {
   "cell_type": "code",
   "execution_count": null,
   "metadata": {},
   "outputs": [],
   "source": [
    "#public score of 0.91148 suggest you gain nothing by micro-forecasting shop #36"
   ]
  },
  {
   "cell_type": "code",
   "execution_count": 5,
   "metadata": {},
   "outputs": [
    {
     "name": "stdout",
     "output_type": "stream",
     "text": [
      "CPU times: user 1h 2min 21s, sys: 31.6 s, total: 1h 2min 53s\n",
      "Wall time: 16min 33s\n"
     ]
    },
    {
     "data": {
      "text/plain": [
       "RandomForestRegressor(bootstrap=True, criterion='mse', max_depth=None,\n",
       "                      max_features=6, max_leaf_nodes=None,\n",
       "                      min_impurity_decrease=0.0, min_impurity_split=None,\n",
       "                      min_samples_leaf=1, min_samples_split=2,\n",
       "                      min_weight_fraction_leaf=0.0, n_estimators=64, n_jobs=6,\n",
       "                      oob_score=False, random_state=123, verbose=0,\n",
       "                      warm_start=False)"
      ]
     },
     "execution_count": 5,
     "metadata": {},
     "output_type": "execute_result"
    }
   ],
   "source": [
    "%%time\n",
    "train33_open = all_data[(all_data.date_block_num>11)&(all_data.date_block_num<34)&(~all_data.shop_id.isin(closed_shops))].fillna(0)\n",
    "\n",
    "from sklearn.ensemble import RandomForestRegressor\n",
    "full_model_ref = RandomForestRegressor(n_estimators=64, max_features=6, n_jobs=6, random_state=123)\n",
    "full_model_ref.fit(train33_open[predictors], train33_open.target)"
   ]
  },
  {
   "cell_type": "code",
   "execution_count": 6,
   "metadata": {},
   "outputs": [
    {
     "name": "stdout",
     "output_type": "stream",
     "text": [
      "        shop_id  item_cnt_month\n",
      "163200       36             0.0\n",
      "163201       36             0.0\n",
      "163202       36             0.0\n",
      "163203       36             0.0\n",
      "163204       36             0.0\n"
     ]
    }
   ],
   "source": [
    "# leaderboard probing: let's find out if shop #36 has non zero mean-profiled sales:\n",
    "item_id = test_df.item_id.unique()\n",
    "\n",
    "############################################################################\n",
    "# combine\n",
    "month_34 = all_data[(all_data.date_block_num == 34)&(~all_data.shop_id.isin(closed_shops))].fillna(0)\n",
    "# shop #51 and #36 are special cases:\n",
    "month_34 = month_34[(month_34.shop_id!=51)&(month_34.shop_id!=36)]\n",
    "\n",
    "month_34['item_cnt_month'] = full_model_ref.predict(month_34[predictors])\n",
    "############################################################################\n",
    "\n",
    "test = pd.merge(test_df, month_34, how='left', on=[\"shop_id\",\"item_id\"]).fillna(0)\n",
    "\n",
    "print(test[test.shop_id==36][['shop_id', 'item_cnt_month']].head())\n",
    "\n",
    "test = test.loc[:,['ID', 'item_cnt_month']]\n",
    "test.set_index(\"ID\", inplace=True)\n",
    "test[\"item_cnt_month\"] = test[\"item_cnt_month\"] #.round().astype(\"int64\") do not round up, you are screwing RSS\n",
    "\n",
    "test[test.item_cnt_month>20] = 20\n",
    "test.to_csv(\"full_model_ref33_123.csv\")"
   ]
  },
  {
   "cell_type": "code",
   "execution_count": null,
   "metadata": {},
   "outputs": [],
   "source": [
    "#public score of 0.99 confirms that including date #33 (in comparison with macro4) makes things worse"
   ]
  }
 ],
 "metadata": {
  "kernelspec": {
   "display_name": "Python 3",
   "language": "python",
   "name": "python3"
  },
  "language_info": {
   "codemirror_mode": {
    "name": "ipython",
    "version": 3
   },
   "file_extension": ".py",
   "mimetype": "text/x-python",
   "name": "python",
   "nbconvert_exporter": "python",
   "pygments_lexer": "ipython3",
   "version": "3.7.4"
  }
 },
 "nbformat": 4,
 "nbformat_minor": 2
}
