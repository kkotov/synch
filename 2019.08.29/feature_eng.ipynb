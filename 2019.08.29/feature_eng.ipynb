{
 "cells": [
  {
   "cell_type": "code",
   "execution_count": 1,
   "metadata": {},
   "outputs": [],
   "source": [
    "import pandas as pd\n",
    "train_df = pd.read_csv(\"../sales_train.csv.gz\")\n",
    "test_df  = pd.read_csv(\"../test.csv.gz\")"
   ]
  },
  {
   "cell_type": "code",
   "execution_count": 2,
   "metadata": {},
   "outputs": [],
   "source": [
    "%store -r __prepare_data"
   ]
  },
  {
   "cell_type": "code",
   "execution_count": 3,
   "metadata": {},
   "outputs": [],
   "source": [
    "__prepare_data"
   ]
  },
  {
   "cell_type": "code",
   "execution_count": 8,
   "metadata": {},
   "outputs": [],
   "source": [
    "# more lags for mean encoding\n",
    "trg_means = all_data.groupby([\"item_id\",\"date_block_num\"]).target.mean()\n",
    "trg_means.name = \"item_target_enc\"\n",
    "trg_lag_2 = trg_means.reset_index(\"date_block_num\") # this turns it into a DataFrame\n",
    "trg_lag_2[\"date_block_num\"] = trg_lag_2[\"date_block_num\"] + 2\n",
    "trg_lag_2.set_index('date_block_num', append=True, inplace=True)\n",
    "trg_lag_2.columns = [\"item_target_enc_lag_2\"]\n",
    "all_data = all_data.merge(trg_lag_2.reset_index(), how=\"left\", on=[\"item_id\",\"date_block_num\"])\n",
    "\n",
    "trg_means = all_data.groupby([\"shop_id\",\"date_block_num\"]).target.mean()\n",
    "trg_means.name = \"shop_target_enc\"\n",
    "trg_lag_2 = trg_means.reset_index(\"date_block_num\")\n",
    "trg_lag_2[\"date_block_num\"] = trg_lag_2[\"date_block_num\"] + 2\n",
    "trg_lag_2.set_index('date_block_num', append=True, inplace=True)\n",
    "trg_lag_2.columns = [\"shop_target_enc_lag_2\"]\n",
    "all_data = all_data.merge(trg_lag_2.reset_index(), how=\"left\", on=[\"shop_id\",\"date_block_num\"])"
   ]
  },
  {
   "cell_type": "code",
   "execution_count": 9,
   "metadata": {},
   "outputs": [],
   "source": [
    "all_data[\"item_target_enc_lag_ma_1_2\"] = (all_data.loc[:,\"item_target_enc_lag_1\"] + all_data.loc[:,\"item_target_enc_lag_2\"])/2.\n",
    "all_data[\"shop_target_enc_lag_ma_1_2\"] = (all_data.loc[:,\"shop_target_enc_lag_1\"] + all_data.loc[:,\"shop_target_enc_lag_2\"])/2."
   ]
  },
  {
   "cell_type": "code",
   "execution_count": 10,
   "metadata": {},
   "outputs": [
    {
     "name": "stdout",
     "output_type": "stream",
     "text": [
      "False\n"
     ]
    }
   ],
   "source": [
    "all_data = all_data[all_data.date_block_num > 1] # no lags before time 1\n",
    "all_data.fillna(0, inplace=True)\n",
    "print(all_data.isnull().values.any())"
   ]
  },
  {
   "cell_type": "code",
   "execution_count": 17,
   "metadata": {},
   "outputs": [],
   "source": [
    "from sklearn.model_selection import train_test_split\n",
    "\n",
    "target = all_data.target.values\n",
    "target[target>20] = 20\n",
    "\n",
    "predictors = [\"target_lag_1\",\"item_target_enc_lag_1\",\"shop_target_enc_lag_1\",\n",
    "                             \"item_target_enc_lag_2\",\"shop_target_enc_lag_2\",\n",
    "                             \"item_target_enc_ave\",  \"shop_target_enc_ave\"]\n",
    "\n",
    "X_train, X_test, y_train, y_test = \\\n",
    "    train_test_split(all_data[predictors], target, test_size=0.2, random_state=123)"
   ]
  },
  {
   "cell_type": "code",
   "execution_count": 18,
   "metadata": {},
   "outputs": [
    {
     "name": "stdout",
     "output_type": "stream",
     "text": [
      "RMSE: 0.786600\n"
     ]
    }
   ],
   "source": [
    "from sklearn.metrics import mean_squared_error\n",
    "from sklearn.ensemble import RandomForestRegressor\n",
    "\n",
    "model2 = RandomForestRegressor(n_estimators=64, max_features=2, n_jobs=6) #len(predictors)/2\n",
    "model2.fit(X_train, y_train)\n",
    "ypred = model2.predict(X_test)\n",
    "rmse = np.sqrt(mean_squared_error(y_test, ypred))\n",
    "print(\"RMSE: %f\" % (rmse))"
   ]
  },
  {
   "cell_type": "code",
   "execution_count": 19,
   "metadata": {},
   "outputs": [
    {
     "data": {
      "text/plain": [
       "RandomForestRegressor(bootstrap=True, criterion='mse', max_depth=None,\n",
       "                      max_features=2, max_leaf_nodes=None,\n",
       "                      min_impurity_decrease=0.0, min_impurity_split=None,\n",
       "                      min_samples_leaf=1, min_samples_split=2,\n",
       "                      min_weight_fraction_leaf=0.0, n_estimators=64, n_jobs=6,\n",
       "                      oob_score=False, random_state=None, verbose=0,\n",
       "                      warm_start=False)"
      ]
     },
     "execution_count": 19,
     "metadata": {},
     "output_type": "execute_result"
    }
   ],
   "source": [
    "from sklearn.ensemble import RandomForestRegressor\n",
    "full_model = RandomForestRegressor(n_estimators=64, max_features=2, n_jobs=6) #len(predictors)/2\n",
    "full_model.fit(all_data[predictors], target)"
   ]
  },
  {
   "cell_type": "code",
   "execution_count": 20,
   "metadata": {},
   "outputs": [],
   "source": [
    "%store -r __prepare_submission"
   ]
  },
  {
   "cell_type": "code",
   "execution_count": 21,
   "metadata": {},
   "outputs": [],
   "source": [
    "__prepare_submission"
   ]
  },
  {
   "cell_type": "code",
   "execution_count": 25,
   "metadata": {},
   "outputs": [],
   "source": [
    "aliases = \\\n",
    "{\"target_lag_1\":          \"target\",\n",
    " \"item_target_enc_lag_1\": \"item_target_enc\",\n",
    " \"shop_target_enc_lag_1\": \"shop_target_enc\",\n",
    " \"item_target_enc_lag_2\": \"item_target_enc_lag_1\",\n",
    " \"shop_target_enc_lag_2\": \"shop_target_enc_lag_1\",\n",
    " \"item_target_enc_ave\":   \"item_target_enc_ave\",\n",
    " \"shop_target_enc_ave\":   \"shop_target_enc_ave\"\n",
    " }\n",
    "all_data_33.fillna(0, inplace=True)\n",
    "prepare_submission(full_model, predictors, aliases, \"skl_rf_test.csv\")"
   ]
  },
  {
   "cell_type": "code",
   "execution_count": 23,
   "metadata": {},
   "outputs": [],
   "source": [
    "X = all_data_33.loc[:,[aliases[colname] for colname in predictors]]"
   ]
  },
  {
   "cell_type": "code",
   "execution_count": 24,
   "metadata": {},
   "outputs": [
    {
     "data": {
      "text/html": [
       "<div>\n",
       "<style scoped>\n",
       "    .dataframe tbody tr th:only-of-type {\n",
       "        vertical-align: middle;\n",
       "    }\n",
       "\n",
       "    .dataframe tbody tr th {\n",
       "        vertical-align: top;\n",
       "    }\n",
       "\n",
       "    .dataframe thead th {\n",
       "        text-align: right;\n",
       "    }\n",
       "</style>\n",
       "<table border=\"1\" class=\"dataframe\">\n",
       "  <thead>\n",
       "    <tr style=\"text-align: right;\">\n",
       "      <th></th>\n",
       "      <th>target</th>\n",
       "      <th>item_target_enc</th>\n",
       "      <th>shop_target_enc</th>\n",
       "      <th>item_target_enc_lag_1</th>\n",
       "      <th>shop_target_enc_lag_1</th>\n",
       "      <th>item_target_enc_ave</th>\n",
       "      <th>shop_target_enc_ave</th>\n",
       "    </tr>\n",
       "  </thead>\n",
       "  <tbody>\n",
       "    <tr>\n",
       "      <th>10675678</th>\n",
       "      <td>0.0</td>\n",
       "      <td>0.022727</td>\n",
       "      <td>0.134306</td>\n",
       "      <td>0.069767</td>\n",
       "      <td>0.161652</td>\n",
       "      <td>1.355613</td>\n",
       "      <td>0.130904</td>\n",
       "    </tr>\n",
       "    <tr>\n",
       "      <th>10675679</th>\n",
       "      <td>1.0</td>\n",
       "      <td>0.409091</td>\n",
       "      <td>0.134306</td>\n",
       "      <td>0.209302</td>\n",
       "      <td>0.161652</td>\n",
       "      <td>0.931213</td>\n",
       "      <td>0.130904</td>\n",
       "    </tr>\n",
       "    <tr>\n",
       "      <th>10675680</th>\n",
       "      <td>0.0</td>\n",
       "      <td>0.500000</td>\n",
       "      <td>0.134306</td>\n",
       "      <td>0.441860</td>\n",
       "      <td>0.161652</td>\n",
       "      <td>1.319042</td>\n",
       "      <td>0.130904</td>\n",
       "    </tr>\n",
       "    <tr>\n",
       "      <th>10675681</th>\n",
       "      <td>0.0</td>\n",
       "      <td>0.363636</td>\n",
       "      <td>0.134306</td>\n",
       "      <td>0.372093</td>\n",
       "      <td>0.161652</td>\n",
       "      <td>0.527112</td>\n",
       "      <td>0.130904</td>\n",
       "    </tr>\n",
       "    <tr>\n",
       "      <th>10675682</th>\n",
       "      <td>0.0</td>\n",
       "      <td>0.022727</td>\n",
       "      <td>0.134306</td>\n",
       "      <td>NaN</td>\n",
       "      <td>0.161652</td>\n",
       "      <td>0.070943</td>\n",
       "      <td>0.130904</td>\n",
       "    </tr>\n",
       "  </tbody>\n",
       "</table>\n",
       "</div>"
      ],
      "text/plain": [
       "          target  item_target_enc  shop_target_enc  item_target_enc_lag_1  \\\n",
       "10675678     0.0         0.022727         0.134306               0.069767   \n",
       "10675679     1.0         0.409091         0.134306               0.209302   \n",
       "10675680     0.0         0.500000         0.134306               0.441860   \n",
       "10675681     0.0         0.363636         0.134306               0.372093   \n",
       "10675682     0.0         0.022727         0.134306                    NaN   \n",
       "\n",
       "          shop_target_enc_lag_1  item_target_enc_ave  shop_target_enc_ave  \n",
       "10675678               0.161652             1.355613             0.130904  \n",
       "10675679               0.161652             0.931213             0.130904  \n",
       "10675680               0.161652             1.319042             0.130904  \n",
       "10675681               0.161652             0.527112             0.130904  \n",
       "10675682               0.161652             0.070943             0.130904  "
      ]
     },
     "execution_count": 24,
     "metadata": {},
     "output_type": "execute_result"
    }
   ],
   "source": [
    "X.head()"
   ]
  },
  {
   "cell_type": "code",
   "execution_count": null,
   "metadata": {},
   "outputs": [],
   "source": []
  }
 ],
 "metadata": {
  "kernelspec": {
   "display_name": "Python 3",
   "language": "python",
   "name": "python3"
  },
  "language_info": {
   "codemirror_mode": {
    "name": "ipython",
    "version": 3
   },
   "file_extension": ".py",
   "mimetype": "text/x-python",
   "name": "python",
   "nbconvert_exporter": "python",
   "pygments_lexer": "ipython3",
   "version": "3.7.4"
  }
 },
 "nbformat": 4,
 "nbformat_minor": 1
}
