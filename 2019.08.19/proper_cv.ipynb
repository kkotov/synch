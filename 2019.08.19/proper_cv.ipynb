{
 "metadata": {
  "name": "",
  "signature": "sha256:b494d5929120bb6bc9aacc4c9b6868c5dabde72d3a2bdb84fbe40ce2fa7c2894"
 },
 "nbformat": 3,
 "nbformat_minor": 0,
 "worksheets": [
  {
   "cells": [
    {
     "cell_type": "code",
     "collapsed": false,
     "input": [
      "import pandas as pd\n",
      "train_df = pd.read_csv(\"../sales_train.csv.gz\")\n",
      "test_df  = pd.read_csv(\"../test.csv.gz\")"
     ],
     "language": "python",
     "metadata": {},
     "outputs": [],
     "prompt_number": 1
    },
    {
     "cell_type": "code",
     "collapsed": false,
     "input": [
      "%store -r __prepare_data"
     ],
     "language": "python",
     "metadata": {},
     "outputs": [],
     "prompt_number": 2
    },
    {
     "cell_type": "code",
     "collapsed": false,
     "input": [
      "__prepare_data"
     ],
     "language": "python",
     "metadata": {},
     "outputs": [],
     "prompt_number": 3
    },
    {
     "cell_type": "code",
     "collapsed": false,
     "input": [
      "all_data = all_data[all_data.date_block_num > 0] # no lags before time 0\n",
      "all_data.fillna(0, inplace=True)\n",
      "print(all_data.isnull().values.any())"
     ],
     "language": "python",
     "metadata": {},
     "outputs": [
      {
       "output_type": "stream",
       "stream": "stdout",
       "text": [
        "False\n"
       ]
      }
     ],
     "prompt_number": 4
    },
    {
     "cell_type": "code",
     "collapsed": false,
     "input": [
      "target = all_data.target.values\n",
      "target[target>20] = 20\n",
      "\n",
      "predictors = [\"target_lag_1\",\"item_target_enc_lag_1\",\"shop_target_enc_lag_1\"]#,\n",
      "                             #\"item_target_enc_ave\",  \"shop_target_enc_ave\"]\n",
      "\n",
      "X_train, X_test, y_train, y_test = \\\n",
      "    train_test_split(all_data[predictors], target, test_size=0.2, random_state=321)"
     ],
     "language": "python",
     "metadata": {},
     "outputs": [],
     "prompt_number": 5
    },
    {
     "cell_type": "code",
     "collapsed": false,
     "input": [
      "from sklearn.ensemble import RandomForestRegressor\n",
      "from sklearn.model_selection import cross_validate\n",
      "\n",
      "model  = RandomForestRegressor(n_estimators=32, max_features=2, n_jobs=2) #len(predictors)/2\n",
      "cv = cross_validate(model, X_train, y_train, cv=5, scoring=\"neg_mean_squared_error\", n_jobs=2, verbose=10)"
     ],
     "language": "python",
     "metadata": {},
     "outputs": [
      {
       "output_type": "stream",
       "stream": "stderr",
       "text": [
        "[Parallel(n_jobs=2)]: Using backend LokyBackend with 2 concurrent workers.\n"
       ]
      },
      {
       "output_type": "stream",
       "stream": "stderr",
       "text": [
        "[Parallel(n_jobs=2)]: Done   1 tasks      | elapsed: 31.4min\n",
        "[Parallel(n_jobs=2)]: Done   3 out of   5 | elapsed: 62.3min remaining: 41.5min\n",
        "[Parallel(n_jobs=2)]: Done   5 out of   5 | elapsed: 79.0min finished\n",
        "[Parallel(n_jobs=2)]: Done   5 out of   5 | elapsed: 79.0min remaining:    0.0s\n"
       ]
      }
     ],
     "prompt_number": 7
    },
    {
     "cell_type": "code",
     "collapsed": false,
     "input": [
      "-cv['test_score']"
     ],
     "language": "python",
     "metadata": {},
     "outputs": [
      {
       "metadata": {},
       "output_type": "pyout",
       "prompt_number": 8,
       "text": [
        "array([0.6812877 , 0.6797963 , 0.68570715, 0.68499971, 0.6827028 ])"
       ]
      }
     ],
     "prompt_number": 8
    },
    {
     "cell_type": "code",
     "collapsed": false,
     "input": [
      "from sklearn.metrics import mean_squared_error\n",
      "\n",
      "model2 = RandomForestRegressor(n_estimators=32, max_features=2, n_jobs=2) #len(predictors)/2\n",
      "model2.fit(X_train, y_train)\n",
      "ypred = model2.predict(X_test)\n",
      "rmse = np.sqrt(mean_squared_error(y_test, ypred))\n",
      "print(\"RMSE: %f\" % (rmse))"
     ],
     "language": "python",
     "metadata": {},
     "outputs": [
      {
       "ename": "NameError",
       "evalue": "name 'RandomForestRegressor' is not defined",
       "output_type": "pyerr",
       "traceback": [
        "\u001b[0;31m---------------------------------------------------------------------------\u001b[0m\n\u001b[0;31mNameError\u001b[0m                                 Traceback (most recent call last)",
        "\u001b[0;32m<ipython-input-6-11d0e39a9059>\u001b[0m in \u001b[0;36m<module>\u001b[0;34m()\u001b[0m\n\u001b[1;32m      1\u001b[0m \u001b[0;32mfrom\u001b[0m \u001b[0msklearn\u001b[0m\u001b[0;34m.\u001b[0m\u001b[0mmetrics\u001b[0m \u001b[0;32mimport\u001b[0m \u001b[0mmean_squared_error\u001b[0m\u001b[0;34m\u001b[0m\u001b[0m\n\u001b[1;32m      2\u001b[0m \u001b[0;34m\u001b[0m\u001b[0m\n\u001b[0;32m----> 3\u001b[0;31m \u001b[0mmodel2\u001b[0m \u001b[0;34m=\u001b[0m \u001b[0mRandomForestRegressor\u001b[0m\u001b[0;34m(\u001b[0m\u001b[0mn_estimators\u001b[0m\u001b[0;34m=\u001b[0m\u001b[0;36m32\u001b[0m\u001b[0;34m,\u001b[0m \u001b[0mmax_features\u001b[0m\u001b[0;34m=\u001b[0m\u001b[0;36m2\u001b[0m\u001b[0;34m,\u001b[0m \u001b[0mn_jobs\u001b[0m\u001b[0;34m=\u001b[0m\u001b[0;36m2\u001b[0m\u001b[0;34m)\u001b[0m \u001b[0;31m#len(predictors)/2\u001b[0m\u001b[0;34m\u001b[0m\u001b[0m\n\u001b[0m\u001b[1;32m      4\u001b[0m \u001b[0mmodel2\u001b[0m\u001b[0;34m.\u001b[0m\u001b[0mfit\u001b[0m\u001b[0;34m(\u001b[0m\u001b[0mX_train\u001b[0m\u001b[0;34m,\u001b[0m \u001b[0my_train\u001b[0m\u001b[0;34m)\u001b[0m\u001b[0;34m\u001b[0m\u001b[0m\n\u001b[1;32m      5\u001b[0m \u001b[0mypred\u001b[0m \u001b[0;34m=\u001b[0m \u001b[0mmodel2\u001b[0m\u001b[0;34m.\u001b[0m\u001b[0mpredict\u001b[0m\u001b[0;34m(\u001b[0m\u001b[0mX_test\u001b[0m\u001b[0;34m)\u001b[0m\u001b[0;34m\u001b[0m\u001b[0m\n",
        "\u001b[0;31mNameError\u001b[0m: name 'RandomForestRegressor' is not defined"
       ]
      }
     ],
     "prompt_number": 6
    },
    {
     "cell_type": "code",
     "collapsed": false,
     "input": [
      "full_model = RandomForestRegressor(n_estimators=32, max_features=2, n_jobs=2) #len(predictors)/2\n",
      "full_model.fit(all_data[predictors], target)"
     ],
     "language": "python",
     "metadata": {},
     "outputs": []
    },
    {
     "cell_type": "code",
     "collapsed": false,
     "input": [
      "%store -r __prepare_submission"
     ],
     "language": "python",
     "metadata": {},
     "outputs": [],
     "prompt_number": 17
    },
    {
     "cell_type": "code",
     "collapsed": false,
     "input": [
      "__prepare_submission"
     ],
     "language": "python",
     "metadata": {},
     "outputs": [],
     "prompt_number": 35
    },
    {
     "cell_type": "code",
     "collapsed": false,
     "input": [
      "aliases = \\\n",
      "{\"target_lag_1\":          \"target\",\n",
      " \"item_target_enc_lag_1\": \"item_target_enc\",\n",
      " \"shop_target_enc_lag_1\": \"shop_target_enc\",\n",
      " \"item_target_enc_ave\":   \"item_target_enc_ave\",\n",
      " \"shop_target_enc_ave\":   \"shop_target_enc_ave\"\n",
      " }\n",
      "\n",
      "prepare_submission(full_model, predictors, aliases, \"skl_rf_test.csv\")"
     ],
     "language": "python",
     "metadata": {},
     "outputs": []
    }
   ],
   "metadata": {}
  }
 ]
}