{
 "metadata": {
  "name": "",
  "signature": "sha256:fec4a6393b528bcee45cf57c3d89de6231af968cb324b3d5d605d31a0b2ffcba"
 },
 "nbformat": 3,
 "nbformat_minor": 0,
 "worksheets": [
  {
   "cells": [
    {
     "cell_type": "code",
     "collapsed": false,
     "input": [
      "import pandas as pd\n",
      "train_df = pd.read_csv(\"../sales_train.csv.gz\")\n",
      "test_df  = pd.read_csv(\"../test.csv.gz\")"
     ],
     "language": "python",
     "metadata": {},
     "outputs": [],
     "prompt_number": 1
    },
    {
     "cell_type": "code",
     "collapsed": false,
     "input": [
      "%store -r __prepare_data"
     ],
     "language": "python",
     "metadata": {},
     "outputs": [],
     "prompt_number": 2
    },
    {
     "cell_type": "code",
     "collapsed": false,
     "input": [
      "__prepare_data"
     ],
     "language": "python",
     "metadata": {},
     "outputs": [],
     "prompt_number": 3
    },
    {
     "cell_type": "code",
     "collapsed": false,
     "input": [
      "all_data = all_data[all_data.date_block_num > 0] # no lags before time 0\n",
      "all_data.fillna(0, inplace=True)\n",
      "print(all_data.isnull().values.any())"
     ],
     "language": "python",
     "metadata": {},
     "outputs": [
      {
       "output_type": "stream",
       "stream": "stdout",
       "text": [
        "False\n"
       ]
      }
     ],
     "prompt_number": 4
    },
    {
     "cell_type": "code",
     "collapsed": false,
     "input": [
      "from sklearn.model_selection import train_test_split\n",
      "\n",
      "target = all_data.target.values\n",
      "target[target>20] = 20\n",
      "\n",
      "predictors = [\"target_lag_1\",\"item_target_enc_lag_1\",\"shop_target_enc_lag_1\"]#,\n",
      "                             #\"item_target_enc_ave\",  \"shop_target_enc_ave\"]\n",
      "\n",
      "X_train, X_test, y_train, y_test = \\\n",
      "    train_test_split(all_data[predictors], target, test_size=0.2, random_state=321)"
     ],
     "language": "python",
     "metadata": {},
     "outputs": [],
     "prompt_number": 6
    },
    {
     "cell_type": "code",
     "collapsed": false,
     "input": [
      "from sklearn.ensemble import RandomForestRegressor\n",
      "from sklearn.model_selection import cross_validate\n",
      "\n",
      "model  = RandomForestRegressor(n_estimators=32, max_features=2, n_jobs=2) #len(predictors)/2\n",
      "cv = cross_validate(model, X_train, y_train, cv=5, scoring=\"neg_mean_squared_error\", n_jobs=2, verbose=10)"
     ],
     "language": "python",
     "metadata": {},
     "outputs": [
      {
       "output_type": "stream",
       "stream": "stderr",
       "text": [
        "[Parallel(n_jobs=2)]: Using backend LokyBackend with 2 concurrent workers.\n"
       ]
      },
      {
       "output_type": "stream",
       "stream": "stderr",
       "text": [
        "[Parallel(n_jobs=2)]: Done   1 tasks      | elapsed: 31.4min\n",
        "[Parallel(n_jobs=2)]: Done   3 out of   5 | elapsed: 62.3min remaining: 41.5min\n",
        "[Parallel(n_jobs=2)]: Done   5 out of   5 | elapsed: 79.0min finished\n",
        "[Parallel(n_jobs=2)]: Done   5 out of   5 | elapsed: 79.0min remaining:    0.0s\n"
       ]
      }
     ],
     "prompt_number": 7
    },
    {
     "cell_type": "code",
     "collapsed": false,
     "input": [
      "-cv['test_score']\n",
      "# what are heck this is I see below?"
     ],
     "language": "python",
     "metadata": {},
     "outputs": [
      {
       "metadata": {},
       "output_type": "pyout",
       "prompt_number": 8,
       "text": [
        "array([0.6812877 , 0.6797963 , 0.68570715, 0.68499971, 0.6827028 ])"
       ]
      }
     ],
     "prompt_number": 8
    },
    {
     "cell_type": "code",
     "collapsed": false,
     "input": [
      "from sklearn.ensemble import RandomForestRegressor\n",
      "from sklearn.metrics import mean_squared_error\n",
      "from sklearn.model_selection import KFold\n",
      "\n",
      "kf = KFold(n_splits=3, random_state=123, shuffle=True)\n",
      "\n",
      "for train_index, test_index in kf.split(target):\n",
      "    X_train, X_test = all_data[predictors].iloc[train_index,:], all_data[predictors].iloc[test_index,:]\n",
      "    y_train, y_test = target[train_index], target[test_index]\n",
      "\n",
      "    model2 = RandomForestRegressor(n_estimators=32, max_features=2, n_jobs=2) #len(predictors)/2\n",
      "    model2.fit(X_train, y_train)\n",
      "    ypred = model2.predict(X_test)\n",
      "    rmse = np.sqrt(mean_squared_error(y_test, ypred))\n",
      "    print(\"RMSE: %f\" % (rmse))"
     ],
     "language": "python",
     "metadata": {},
     "outputs": [
      {
       "output_type": "stream",
       "stream": "stdout",
       "text": [
        "RMSE: 0.934221\n",
        "RMSE: 0.938989"
       ]
      },
      {
       "output_type": "stream",
       "stream": "stdout",
       "text": [
        "\n",
        "RMSE: 0.938955"
       ]
      },
      {
       "output_type": "stream",
       "stream": "stdout",
       "text": [
        "\n"
       ]
      }
     ],
     "prompt_number": 8
    },
    {
     "cell_type": "code",
     "collapsed": false,
     "input": [
      "full_model = RandomForestRegressor(n_estimators=32, max_features=2, n_jobs=2) #len(predictors)/2\n",
      "full_model.fit(all_data[predictors], target)"
     ],
     "language": "python",
     "metadata": {},
     "outputs": []
    },
    {
     "cell_type": "code",
     "collapsed": false,
     "input": [
      "%store -r __prepare_submission"
     ],
     "language": "python",
     "metadata": {},
     "outputs": [],
     "prompt_number": 17
    },
    {
     "cell_type": "code",
     "collapsed": false,
     "input": [
      "__prepare_submission"
     ],
     "language": "python",
     "metadata": {},
     "outputs": [],
     "prompt_number": 35
    },
    {
     "cell_type": "code",
     "collapsed": false,
     "input": [
      "aliases = \\\n",
      "{\"target_lag_1\":          \"target\",\n",
      " \"item_target_enc_lag_1\": \"item_target_enc\",\n",
      " \"shop_target_enc_lag_1\": \"shop_target_enc\",\n",
      " \"item_target_enc_ave\":   \"item_target_enc_ave\",\n",
      " \"shop_target_enc_ave\":   \"shop_target_enc_ave\"\n",
      " }\n",
      "\n",
      "prepare_submission(full_model, predictors, aliases, \"skl_rf_test.csv\")"
     ],
     "language": "python",
     "metadata": {},
     "outputs": []
    }
   ],
   "metadata": {}
  }
 ]
}